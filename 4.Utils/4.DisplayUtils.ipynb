{
 "cells": [
  {
   "cell_type": "markdown",
   "metadata": {},
   "source": [
    "## utils.mod_display\n",
    "### Modify Display Utils\n",
    "用于收集/检查fastai用户环境的实用程序"
   ]
  },
  {
   "cell_type": "code",
   "execution_count": null,
   "metadata": {},
   "outputs": [],
   "source": [
    "from fastai.utils.mod_display import *"
   ]
  },
  {
   "cell_type": "markdown",
   "metadata": {},
   "source": [
    "## class progress_disabled_ctx\n",
    "`progress_disabled_ctx(learn:Learner)`\n",
    "\n",
    "上下文管理器禁用进度更新栏和记录器打印。\n",
    "\n",
    "learn.fit（）将显示一个进度条，并在完成后给出最终结果\n",
    "\n",
    "progress_disabled_ctx 将移除所有的更新并且只在更新时显示总时间。"
   ]
  },
  {
   "cell_type": "code",
   "execution_count": null,
   "metadata": {},
   "outputs": [],
   "source": [
    "with progress_disabled_ctx(learn) as learn:\n",
    "    learn.fit(1)"
   ]
  }
 ],
 "metadata": {
  "kernelspec": {
   "display_name": "Python 3",
   "language": "python",
   "name": "python3"
  },
  "language_info": {
   "codemirror_mode": {
    "name": "ipython",
    "version": 3
   },
   "file_extension": ".py",
   "mimetype": "text/x-python",
   "name": "python",
   "nbconvert_exporter": "python",
   "pygments_lexer": "ipython3",
   "version": "3.6.7"
  }
 },
 "nbformat": 4,
 "nbformat_minor": 2
}
