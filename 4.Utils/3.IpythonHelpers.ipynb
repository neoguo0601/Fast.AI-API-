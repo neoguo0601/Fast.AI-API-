{
 "cells": [
  {
   "cell_type": "markdown",
   "metadata": {},
   "source": [
    "## utils.ipython\n",
    "## IPython Utilities\n",
    "\n",
    "实用程序，以帮助使用ipython/jupyter环境。\n",
    "\n",
    "要从fastai.utils.ipython导入，请执行以下操作："
   ]
  },
  {
   "cell_type": "code",
   "execution_count": 1,
   "metadata": {},
   "outputs": [],
   "source": [
    "from fastai.utils.ipython import * "
   ]
  },
  {
   "cell_type": "markdown",
   "metadata": {},
   "source": [
    "<b>解决异常泄漏ipython回溯的问题</b>\n",
    "\n",
    "ipython有一个功能，它存储tb并绑定所有locals（），这可以防止gc.collect（）释放这些变量并导致泄漏。\n",
    "\n",
    "因此我们在将其交给ipython之前清理tb。 执行此操作的两种方法是使用gpu_mem_restore装饰器或gpu_mem_restore_ctx上下文管理器，如下所述：\n",
    "\n",
    "<b>gpu_mem_restore</b>\n",
    "\n",
    "`gpu_mem_restore(func)`\n",
    "\n",
    "如果发生CUDA内存不足或执行中断，则回收GPU RAM\n",
    "\n",
    "gpu_mem_restore是一个装饰器，可以与任何与CUDA交互的函数一起使用（顶级很好）\n",
    "\n",
    "* 在非ipython环境下，它什么都不做。\n",
    "* 目前，在ipython下，它仅为“CUDA内存不足”异常剥离tb。\n",
    "\n",
    "在ipython下运行时，env var FASTAI_TB_CLEAR_FRAMES会更改此行为，具体取决于其值：\n",
    "\n",
    "* “0”：从不剥离tb（可以始终使用％debug magic，但有泄漏）\n",
    "* “1”：总是剥离tb（永远不需要担心泄漏，但％debug不起作用）\n",
    "\n",
    "例如 os.environ ['FASTAI_TB_CLEAR_FRAMES'] =“0”将其设置为0。\n",
    "\n",
    "<b>class gpu_mem_restore_ctx</b>\n",
    "\n",
    "`gpu_mem_restore_ctx()`\n",
    "\n",
    "如果在ipython下发生异常，上下文管理器将回收RAM\n",
    "\n",
    "如果函数装饰器不是一个好的选项，你可以使用上下文管理器。 例如："
   ]
  },
  {
   "cell_type": "code",
   "execution_count": null,
   "metadata": {},
   "outputs": [],
   "source": [
    "with gpu_mem_restore_ctx():\n",
    "   learn.fit_one_cycle(1,1e-2)"
   ]
  },
  {
   "cell_type": "markdown",
   "metadata": {},
   "source": [
    "这个特殊的将清除任何例外情况。"
   ]
  },
  {
   "cell_type": "code",
   "execution_count": null,
   "metadata": {},
   "outputs": [],
   "source": []
  }
 ],
 "metadata": {
  "kernelspec": {
   "display_name": "Python 3",
   "language": "python",
   "name": "python3"
  },
  "language_info": {
   "codemirror_mode": {
    "name": "ipython",
    "version": 3
   },
   "file_extension": ".py",
   "mimetype": "text/x-python",
   "name": "python",
   "nbconvert_exporter": "python",
   "pygments_lexer": "ipython3",
   "version": "3.6.7"
  }
 },
 "nbformat": 4,
 "nbformat_minor": 2
}
