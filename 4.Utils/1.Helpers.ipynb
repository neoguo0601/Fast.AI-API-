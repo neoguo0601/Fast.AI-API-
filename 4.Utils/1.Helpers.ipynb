{
 "cells": [
  {
   "cell_type": "markdown",
   "metadata": {},
   "source": [
    "## utils.collect_env\n",
    "### Environment Checker Utils\n",
    "用于收集/检查fastai用户环境的实用程序"
   ]
  },
  {
   "cell_type": "code",
   "execution_count": 1,
   "metadata": {},
   "outputs": [],
   "source": [
    "from fastai.utils import *"
   ]
  },
  {
   "cell_type": "markdown",
   "metadata": {},
   "source": [
    "<b>show_install</b>\n",
    "\n",
    "`show_install(show_nvidia_smi:bool=False)`\n",
    "\n",
    "打印用户的设置信息\n",
    "\n",
    "没有nvidia-smi打印输出：\n",
    "`python -m fastai.utils.show_install`\n",
    "\n",
    "有nvidia-smi打印输出：\n",
    "`python -m fastai.utils.show_install 1`"
   ]
  },
  {
   "cell_type": "markdown",
   "metadata": {},
   "source": [
    "<b>check_perf</b>\n",
    "\n",
    "`check_perf()`\n",
    "\n",
    "建议如何改进设置以加快速度\n",
    "\n",
    "`python -m fastai.utils.check_perf`"
   ]
  },
  {
   "cell_type": "code",
   "execution_count": null,
   "metadata": {},
   "outputs": [],
   "source": []
  }
 ],
 "metadata": {
  "kernelspec": {
   "display_name": "Python 3",
   "language": "python",
   "name": "python3"
  },
  "language_info": {
   "codemirror_mode": {
    "name": "ipython",
    "version": 3
   },
   "file_extension": ".py",
   "mimetype": "text/x-python",
   "name": "python",
   "nbconvert_exporter": "python",
   "pygments_lexer": "ipython3",
   "version": "3.6.7"
  }
 },
 "nbformat": 4,
 "nbformat_minor": 2
}
