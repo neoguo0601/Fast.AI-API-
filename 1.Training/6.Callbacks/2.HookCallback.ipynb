{
 "cells": [
  {
   "cell_type": "markdown",
   "metadata": {},
   "source": [
    "## Hook callbacks\n",
    "\n",
    "这提供了一个独立的类和一个回调，用于注册和自动注销PyTorch钩子，以及一些预定义的钩子。 挂钩可以连接到任何nn.Module，用于前向和后向传播。\n",
    "\n",
    "我们首先看一下预定义的钩子ActivationStats，然后我们将看到如何创建自己的钩子。"
   ]
  },
  {
   "cell_type": "markdown",
   "metadata": {},
   "source": [
    "### class ActivationStats\n",
    "\n",
    "`ActivationStats(learn:Learner, modules:Sequence[Module]=None, do_remove:bool=True) :: HookCallback`\n",
    "\n",
    "记录激活的平均值和标准的回调。\n",
    "\n",
    "ActivationStats将self.stats中的图层激活保存为传递给它的所有模块。 默认情况下，它将保存所有模块的激活。 例如："
   ]
  },
  {
   "cell_type": "code",
   "execution_count": 1,
   "metadata": {},
   "outputs": [],
   "source": [
    "from fastai.vision import *\n",
    "from fastai.basics import *\n",
    "from fastai.callbacks import *"
   ]
  },
  {
   "cell_type": "code",
   "execution_count": 2,
   "metadata": {},
   "outputs": [
    {
     "data": {
      "text/html": [
       "<table border=\"1\" class=\"dataframe\">\n",
       "  <thead>\n",
       "    <tr style=\"text-align: left;\">\n",
       "      <th>epoch</th>\n",
       "      <th>train_loss</th>\n",
       "      <th>valid_loss</th>\n",
       "      <th>time</th>\n",
       "    </tr>\n",
       "  </thead>\n",
       "  <tbody>\n",
       "    <tr>\n",
       "      <td>0</td>\n",
       "      <td>0.126865</td>\n",
       "      <td>0.104973</td>\n",
       "      <td>02:27</td>\n",
       "    </tr>\n",
       "  </tbody>\n",
       "</table>"
      ],
      "text/plain": [
       "<IPython.core.display.HTML object>"
      ]
     },
     "metadata": {},
     "output_type": "display_data"
    }
   ],
   "source": [
    "path = untar_data(URLs.MNIST_SAMPLE)\n",
    "data = ImageDataBunch.from_folder(path)\n",
    "#learn = cnn_learner(data, models.resnet18, callback_fns=ActivationStats)\n",
    "learn = Learner(data, simple_cnn((3,16,16,2)), callback_fns=ActivationStats)\n",
    "learn.fit(1)"
   ]
  },
  {
   "cell_type": "markdown",
   "metadata": {},
   "source": [
    "保存的统计信息是FloatTensor的形状（2，num_modules，num_batches）。 第一个轴是（mean，stdev）。"
   ]
  },
  {
   "cell_type": "code",
   "execution_count": 3,
   "metadata": {},
   "outputs": [
    {
     "data": {
      "text/plain": [
       "(193, 3)"
      ]
     },
     "execution_count": 3,
     "metadata": {},
     "output_type": "execute_result"
    }
   ],
   "source": [
    "len(learn.data.train_dl),len(learn.activation_stats.modules)"
   ]
  },
  {
   "cell_type": "code",
   "execution_count": 4,
   "metadata": {},
   "outputs": [
    {
     "data": {
      "text/plain": [
       "torch.Size([2, 3, 193])"
      ]
     },
     "execution_count": 4,
     "metadata": {},
     "output_type": "execute_result"
    }
   ],
   "source": [
    "learn.activation_stats.stats.shape"
   ]
  },
  {
   "cell_type": "markdown",
   "metadata": {},
   "source": [
    "因此，这显示了每个批次（axis2）的第2个最后一层（axis1 ==  -  2）的标准偏差（axis0 == 1）："
   ]
  },
  {
   "cell_type": "code",
   "execution_count": 5,
   "metadata": {},
   "outputs": [
    {
     "data": {
      "image/png": "[encoded data removed]",
      "text/plain": [
       "<Figure size 432x288 with 1 Axes>"
      ]
     },
     "metadata": {
      "needs_background": "light"
     },
     "output_type": "display_data"
    }
   ],
   "source": [
    "plt.plot(learn.activation_stats.stats[1][-2].numpy());"
   ]
  },
  {
   "cell_type": "markdown",
   "metadata": {},
   "source": [
    "### Internal implementation\n",
    "<b>hook</b>\n",
    "\n",
    "`hook(m:Module, i:Tensors, o:Tensors) → Tuple[Rank0Tensor, Rank0Tensor]`\n",
    "\n",
    "取o的平均值和标准值。\n",
    "\n",
    "### Callback methods\n",
    "你不要自己调用 - 他们会被fastai的Callback系统自动调用，以启用该类的功能。\n",
    "\n",
    "<b>on_train_begin</b>\n",
    "\n",
    "`on_train_begin(**kwargs)`\n",
    "\n",
    "初始化统计数据。\n",
    "\n",
    "<b>on_batch_end</b>\n",
    "\n",
    "`on_batch_end(train, **kwargs)`\n",
    "\n",
    "获取存储的结果并将其放入self.stats中\n",
    "\n",
    "<b>on_train_end</b>\n",
    "\n",
    "`on_train_end(**kwargs)`\n",
    "\n",
    "抛光最终结果。"
   ]
  },
  {
   "cell_type": "markdown",
   "metadata": {},
   "source": [
    "### class Hook\n",
    "\n",
    "`Hook(m:Module, hook_func:HookFunc, is_forward:bool=True, detach:bool=True)`\n",
    "\n",
    "使用hook_func在m上创建一个钩子。\n",
    "\n",
    "注册并手动取消注册PyTorch挂钩。 当运行模块m的前进/后退（取决于is_forward）时，将自动调用hook_func，并将该函数的结果放在self.stored中。\n",
    "\n",
    "<b>remove</b>\n",
    "\n",
    "`remove()`\n",
    "\n",
    "从模型中删除钩子。\n",
    "\n",
    "如果没有调用钩子，则取消注册。"
   ]
  },
  {
   "cell_type": "markdown",
   "metadata": {},
   "source": [
    "### class Hooks\n",
    "\n",
    "`Hooks(ms:ModuleList, hook_func:HookFunc, is_forward:bool=True, detach:bool=True)`\n",
    "\n",
    "使用hook_func在ms中创建几个模块挂钩。\n",
    "\n",
    "作为一个集合（即len（钩子）和钩子[i]）和一组钩子的迭代器（即挂钩），每个模块一个以毫秒为单位，能够将所有作为一个组删除。 使用stored来获取所有钩子结果。 hook_func和is_forward行为与Hook相同。 有关简单示例，请参阅HookCallback的源代码。\n",
    "\n",
    "<b>remove</b>\n",
    "\n",
    "`remove()`\n",
    "\n",
    "从模型中删除钩子。\n",
    "\n",
    "如果以前没有调用过，请取消注册此类创建的所有挂钩。"
   ]
  },
  {
   "cell_type": "markdown",
   "metadata": {},
   "source": [
    "## Convenience functions for hooks\n",
    "<b>hook_output</b>\n",
    "\n",
    "`hook_output(module:Module, detach:bool=True, grad:bool=False) → Hook`\n",
    "\n",
    "返回一个Hook，用于存储self.stored中模块的激活\n",
    "\n",
    "为模块创建Hook的函数，该模块只存储图层的输出。\n",
    "\n",
    "<b>hook_outputs</b>\n",
    "\n",
    "`hook_outputs(modules:ModuleList, detach:bool=True, grad:bool=False) → Hooks`\n",
    "\n",
    "返回存储自我存储中所有模块激活的挂钩\n",
    "\n",
    "为所有传递的模块创建Hook的函数，该模块只存储层的输出。 例如，model_sizes的（略微简化的）源代码是：\n",
    "\n",
    "```python\n",
    "def model_sizes(m, size):\n",
    "    x = m(torch.zeros(1, in_channels(m), *size))\n",
    "    return [o.stored.shape for o in hook_outputs(m)]\n",
    "```\n",
    "\n",
    "<b>model_sizes</b>\n",
    "\n",
    "`model_sizes(m:Module, size:tuple=(64, 64)) → Tuple[Sizes, Tensor, Hooks]`\n",
    "\n",
    "通过模型m传递虚拟输入以获得各种大小的激活。\n",
    "\n",
    "<b>model_summary</b>\n",
    "\n",
    "`model_summary(m:Learner, n:int=70)`\n",
    "\n",
    "使用n个字符的输出文本宽度打印m的摘要\n",
    "\n",
    "此方法仅适用于其中包含train_ds的Learner对象。 如果它是作为load_learner的结果创建的，则没有数据可以在模型中运行，因此无法创建此类摘要。\n",
    "\n",
    "示例摘要如下所示：\n",
    "\n",
    "```python\n",
    "======================================================================\n",
    "Layer (type)         Output Shape         Param #    Trainable \n",
    "======================================================================\n",
    "Conv2d               [64, 176, 176]       9,408      False     \n",
    "______________________________________________________________________\n",
    "BatchNorm2d          [64, 176, 176]       128        True      \n",
    "______________________________________________________________________\n",
    "ReLU                 [64, 176, 176]       0          False     \n",
    "______________________________________________________________________\n",
    "MaxPool2d            [64, 88, 88]         0          False     \n",
    "______________________________________________________________________\n",
    "Conv2d               [64, 88, 88]         36,864     False     \n",
    "...\n",
    "```\n",
    "\n",
    "列定义：\n",
    "\n",
    "1. <b>Layer (type) </b>是相应nn.Module的名称。\n",
    "\n",
    "2. <b>Output Shape</b>是相应图层输出的形状（减去批量维度，它始终相同，对模型参数没有影响）。\n",
    "\n",
    "3. <b>Param＃</b>是权重的数量（以及可选的偏差），并且每个层都会有所不同。\n",
    "    对于每种层类型，params的数量计算方式不同。 以下是一些最常见的图层类型的计算方法：\n",
    "\n",
    "        * Conv: kernel_size*kernel_size*ch_in*ch_out\n",
    "        * Linear: (n_in+bias) * n_out\n",
    "        * Batchnorm: 2 * n_out\n",
    "        * Embeddings: n_embed * emb_sz\n",
    "4. <b>Trainable</b> 表示图层是否可训练。\n",
    "        * 具有0个参数的层总是不可解决的（例如，ReLU和MaxPool2d）。\n",
    "        * 其他层可以是可训练的，也可以不是，通常取决于它们是否被冷冻。 见Discriminative layer training。\n",
    "\n",
    "为了更好地理解此摘要，还有助于执行learn.model并关联两个输出。\n",
    "\n",
    "例：\n",
    "\n",
    "让我们向学习者提供一个大小为352x352的3通道图像数据集，并查看模型及其摘要：\n",
    "\n",
    "```python\n",
    "data.train_ds[0][0].data.shape\n",
    "learn = cnn_learner(data, models.resnet34, ...)\n",
    "print(learn.model)\n",
    "print(learn.summary())\n",
    "```\n",
    "以下是除了与示例行相关的所有内容的输出：\n",
    "\n",
    "```python\n",
    "torch.Size([3, 352, 352])\n",
    "\n",
    "    [...]\n",
    "    (0): Conv2d(3, 64, kernel_size=(7, 7), stride=(2, 2), padding=(3, 3), bias=False)\n",
    "    (1): BatchNorm2d(64, eps=1e-05, momentum=0.1, affine=True, track_running_stats=True)\n",
    "    [...]\n",
    "    (3): MaxPool2d(kernel_size=3, stride=2, padding=1, dilation=1, ceil_mode=False)\n",
    "    [...]\n",
    "    (conv1): Conv2d(64, 64, kernel_size=(3, 3), stride=(1, 1), padding=(1, 1), bias=False)\n",
    "    (8): Linear(in_features=512, out_features=37, bias=True)\n",
    "\n",
    "\n",
    "======================================================================\n",
    "Layer (type)         Output Shape         Param #    Trainable \n",
    "======================================================================\n",
    "Conv2d               [64, 176, 176]       9,408      False     \n",
    "______________________________________________________________________\n",
    "BatchNorm2d          [64, 176, 176]       128        True      \n",
    "______________________________________________________________________\n",
    "[...]\n",
    "MaxPool2d            [64, 88, 88]         0          False    \n",
    "______________________________________________________________________\n",
    "Conv2d               [64, 88, 88]         36,864     False     \n",
    "[...]\n",
    "______________________________________________________________________\n",
    "Linear               [37]                 18,981     True\n",
    "```\n",
    "\n",
    "<b>所以让我们计算一些参数：</b>\n",
    "\n",
    "对于Conv2d图层，将相应图层定义中的前4个数字相乘：\n",
    "\n",
    "```python\n",
    "Conv2d(3, 64, kernel_size=(7, 7), ...)\n",
    "\n",
    "3*64*7*7 = 9,408\n",
    "\n",
    "Conv2d(64, 64, kernel_size=(3, 3), ...)\n",
    "\n",
    "64*64*3*3 = 36,864\n",
    "```\n",
    "对于BatchNorm2d图层，将第一个数字乘以2：\n",
    "\n",
    "```python\n",
    "BatchNorm2d(64, ...)\n",
    "64*2 = 128\n",
    "```\n",
    "\n",
    "对于线性，我们将前2乘以并包括偏差，如果它是真的：\n",
    "\n",
    "```python\n",
    "Linear(in_features=512, out_features=37, bias=True)\n",
    "\n",
    "(512+1)*37 = 18,981\n",
    "```\n",
    "\n",
    "<b>现在让我们计算一些输出形状：</b>\n",
    "\n",
    "我们从3x352x352图像开始并通过该层运行它：\n",
    "\n",
    "`Conv2d(3, 64, kernel_size=(7, 7), stride=(2, 2), padding=(3, 3), bias=False)`\n",
    "\n",
    "我们是怎么得到的: [64, 176, 176]\n",
    "\n",
    "输出通道的数量是64，这是上面数字中的第一个维度。 然后我们352x352的图像由于步幅2x2（352/2）而被卷入176x176。\n",
    "\n",
    "之后我们有：\n",
    "\n",
    "`MaxPool2d(kernel_size=3, stride=2, padding=1, dilation=1, ceil_mode=False)`\n",
    "\n",
    "由于步幅2，再次将[64,176,176]减少到[64,88,88]。\n",
    "\n",
    "等等，完成：\n",
    "\n",
    "`Linear(in_features=512, out_features=37, bias=True)`\n",
    "\n",
    "这使得一切都减少到[37]。\n",
    "\n",
    "<b>num_features_model</b>\n",
    "\n",
    "`num_features_model(m:Module) → int`\n",
    "\n",
    "返回模型的输出要素数。\n",
    "\n",
    "获取模型的每个层的大小（例如，用于打印摘要或用于为DynamicUnet生成交叉连接）可能很有用，但是它们取决于输入的大小。 此函数通过传入最小张量的大小来计算图层大小。\n",
    "\n",
    "<b>dummy_batch</b>\n",
    "\n",
    "`dummy_batch(m:Module, size:tuple=(64, 64)) → Tensor`\n",
    "\n",
    "创建一个虚拟批次以通过m大小。\n",
    "\n",
    "<b>dummy_eval</b>\n",
    "\n",
    "`dummy_eval(m:Module, size:tuple=(64, 64))`\n",
    "\n",
    "在m的评估模式下传递一个dummy_batch，其大小。"
   ]
  },
  {
   "cell_type": "markdown",
   "metadata": {},
   "source": [
    "### class HookCallback\n",
    "\n",
    "`HookCallback(learn:Learner, modules:Sequence[Module]=None, do_remove:bool=True) :: LearnerCallback`\n",
    "        \n",
    "可用于在模块上注册挂钩的回调。 在self.hook中实现相应的功能。\n",
    "\n",
    "对于所有模块，使用回调自动注册方法self.hook（必须在继承的类中定义）作为钩子。 此方法必须具有签名：\n",
    "\n",
    "`def hook(self, m:Model, input:Tensors, output:Tensors)`\n",
    "\n",
    "如果do_remove，那么钩子会在训练结束时自动注销。 有关从此类继承的简单示例，请参阅ActivationStats。\n",
    "\n",
    "### Callback methods\n",
    "\n",
    "你不要自己调用 - 他们会被fastai的Callback系统自动调用，以启用该类的功能。\n",
    "\n",
    "<b>on_train_begin</b>\n",
    "\n",
    "`on_train_begin(**kwargs)`\n",
    "\n",
    "在self.modules上注册Hooks。\n",
    "\n",
    "<b>on_train_end</b>\n",
    "\n",
    "`on_train_end(**kwargs)`\n",
    "\n",
    "取下挂钩。"
   ]
  },
  {
   "cell_type": "code",
   "execution_count": null,
   "metadata": {},
   "outputs": [],
   "source": []
  }
 ],
 "metadata": {
  "kernelspec": {
   "display_name": "Python 3",
   "language": "python",
   "name": "python3"
  },
  "language_info": {
   "codemirror_mode": {
    "name": "ipython",
    "version": 3
   },
   "file_extension": ".py",
   "mimetype": "text/x-python",
   "name": "python",
   "nbconvert_exporter": "python",
   "pygments_lexer": "ipython3",
   "version": "3.6.7"
  }
 },
 "nbformat": 4,
 "nbformat_minor": 2
}
