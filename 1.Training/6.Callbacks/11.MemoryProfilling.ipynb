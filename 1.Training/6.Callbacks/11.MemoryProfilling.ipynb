{
 "cells": [
  {
   "cell_type": "markdown",
   "metadata": {},
   "source": [
    "## callbacks.mem\n",
    "内存分析回调。"
   ]
  },
  {
   "cell_type": "markdown",
   "metadata": {},
   "source": [
    "### class PeakMemMetric\n",
    "`PeakMemMetric(learn:Learner) :: LearnerCallback`\n",
    "\n",
    "测量使用的回调和峰值通用和GPU内存。\n",
    "\n",
    "PeakMemMetric是一个内存分析回调。\n",
    "\n",
    "以下是如何使用它：\n",
    "\n",
    "```python\n",
    "from fastai.callbacks.mem import PeakMemMetric\n",
    "learn = cnn_learner(data, model, metrics=[accuracy], callback_fns=PeakMemMetric)\n",
    "learn.fit_one_cycle(3, max_lr=1e-2)\n",
    "```\n",
    "\n",
    "和示例输出：\n",
    "\n",
    "```python\n",
    "Total time: 00:59\n",
    "epoch   train_loss valid_loss accuracy cpu used peak gpu used peak\n",
    "    1   0.325806   0.070334   0.978800        0   2       80  6220\n",
    "    2   0.093147   0.038905   0.987700        0   2        2   914\n",
    "    3   0.047818   0.027617   0.990600        0   2        0   912\n",
    "```\n",
    "\n",
    "最后四列是CPU和GPU的增量内存使用量（以MB为单位）。\n",
    "\n",
    "* “used memory”列显示每个时期之前和之后的内存使用量之间的差异。\n",
    "* “peaked memory”列表了在使用的存储器之上使用的epoch的内存开销。 除了gpu测量的罕见例外，如果“使用的存储器”增量为负，那么它被计算为峰值存储器和时期开始时使用的存储器之间的直线差异。 另见\n",
    "\n",
    "例如，在上面的示例示例的第一行中，它显示used = 80，peak = 6220。 这意味着在执行此线程期间，应用程序最多使用6300 MB（80 + 6220），但随后大部分内存被释放，仅保留80 MB。 然后，您可以在以下时期看到，虽然应用程序在执行时仍然使用临时内存，但它在其工作结束时几乎释放了所有内存。\n",
    "\n",
    "此外，知道pytorch的内存分配器可以使用更少的内存非常重要，因此并不意味着它需要6300 MB才能运行第一个时代。 它会用更少的东西，但在第一个时代它会稍微慢一些。 有关详细信息，请参阅此说明。"
   ]
  },
  {
   "cell_type": "code",
   "execution_count": null,
   "metadata": {},
   "outputs": [],
   "source": []
  }
 ],
 "metadata": {
  "kernelspec": {
   "display_name": "Python 3",
   "language": "python",
   "name": "python3"
  },
  "language_info": {
   "codemirror_mode": {
    "name": "ipython",
    "version": 3
   },
   "file_extension": ".py",
   "mimetype": "text/x-python",
   "name": "python",
   "nbconvert_exporter": "python",
   "pygments_lexer": "ipython3",
   "version": "3.6.7"
  }
 },
 "nbformat": 4,
 "nbformat_minor": 2
}
