{
 "cells": [
  {
   "cell_type": "markdown",
   "metadata": {},
   "source": [
    "## 跟踪回调\n",
    "此模块重新组合跟踪在每个时期结束时计算的度量之一的回调，以便对训练做出一些决定。 为了显示使用示例，我们将使用我们的MNIST样本和一个简单的cnn模型。"
   ]
  },
  {
   "cell_type": "code",
   "execution_count": 1,
   "metadata": {},
   "outputs": [],
   "source": [
    "from fastai.vision import *\n",
    "from fastai.basics import *\n",
    "from fastai.callbacks import *"
   ]
  },
  {
   "cell_type": "code",
   "execution_count": 2,
   "metadata": {},
   "outputs": [],
   "source": [
    "path = untar_data(URLs.MNIST_SAMPLE)\n",
    "data = ImageDataBunch.from_folder(path)"
   ]
  },
  {
   "cell_type": "markdown",
   "metadata": {},
   "source": [
    "### class TerminateOnNaNCallback\n",
    "`TerminateOnNaNCallback() :: Callback`\n",
    "\n",
    "如果丢失是NaN，则终止训练的回调。\n",
    "\n",
    "有时候，培训会出现分歧，损失也会减少。 在这种情况下，没有必要继续，所以这个回调会停止训练。"
   ]
  },
  {
   "cell_type": "code",
   "execution_count": 3,
   "metadata": {},
   "outputs": [
    {
     "data": {
      "text/html": [
       "<table border=\"1\" class=\"dataframe\">\n",
       "  <thead>\n",
       "    <tr style=\"text-align: left;\">\n",
       "      <th>epoch</th>\n",
       "      <th>train_loss</th>\n",
       "      <th>valid_loss</th>\n",
       "      <th>accuracy</th>\n",
       "      <th>time</th>\n",
       "    </tr>\n",
       "  </thead>\n",
       "  <tbody>\n",
       "    <tr>\n",
       "      <td>0</td>\n",
       "      <td>nan</td>\n",
       "      <td>nan</td>\n",
       "      <td>0.495584</td>\n",
       "      <td>01:03</td>\n",
       "    </tr>\n",
       "  </tbody>\n",
       "</table>"
      ],
      "text/plain": [
       "<IPython.core.display.HTML object>"
      ]
     },
     "metadata": {},
     "output_type": "display_data"
    }
   ],
   "source": [
    "model = simple_cnn((3,16,16,2))\n",
    "learn = Learner(data, model, metrics=[accuracy])\n",
    "learn.fit_one_cycle(1,1e4)"
   ]
  },
  {
   "cell_type": "markdown",
   "metadata": {},
   "source": [
    "使用它可以防止这种情况发生。"
   ]
  },
  {
   "cell_type": "code",
   "execution_count": 4,
   "metadata": {},
   "outputs": [
    {
     "data": {
      "text/html": [
       "\n",
       "    <div>\n",
       "        <style>\n",
       "            /* Turns off some styling */\n",
       "            progress {\n",
       "                /* gets rid of default border in Firefox and Opera. */\n",
       "                border: none;\n",
       "                /* Needs to be in here for Safari polyfill so background images work as expected. */\n",
       "                background-size: auto;\n",
       "            }\n",
       "            .progress-bar-interrupted, .progress-bar-interrupted::-webkit-progress-bar {\n",
       "                background: #F44336;\n",
       "            }\n",
       "        </style>\n",
       "      <progress value='0' class='' max='2', style='width:300px; height:20px; vertical-align: middle;'></progress>\n",
       "      0.00% [0/2 00:00<00:00]\n",
       "    </div>\n",
       "    \n",
       "<table border=\"1\" class=\"dataframe\">\n",
       "  <thead>\n",
       "    <tr style=\"text-align: left;\">\n",
       "      <th>epoch</th>\n",
       "      <th>train_loss</th>\n",
       "      <th>valid_loss</th>\n",
       "      <th>accuracy</th>\n",
       "      <th>time</th>\n",
       "    </tr>\n",
       "  </thead>\n",
       "  <tbody>\n",
       "  </tbody>\n",
       "</table><p>\n",
       "\n",
       "    <div>\n",
       "        <style>\n",
       "            /* Turns off some styling */\n",
       "            progress {\n",
       "                /* gets rid of default border in Firefox and Opera. */\n",
       "                border: none;\n",
       "                /* Needs to be in here for Safari polyfill so background images work as expected. */\n",
       "                background-size: auto;\n",
       "            }\n",
       "            .progress-bar-interrupted, .progress-bar-interrupted::-webkit-progress-bar {\n",
       "                background: #F44336;\n",
       "            }\n",
       "        </style>\n",
       "      <progress value='0' class='progress-bar-interrupted' max='32', style='width:300px; height:20px; vertical-align: middle;'></progress>\n",
       "      Interrupted\n",
       "    </div>\n",
       "    "
      ],
      "text/plain": [
       "<IPython.core.display.HTML object>"
      ]
     },
     "metadata": {},
     "output_type": "display_data"
    },
    {
     "name": "stdout",
     "output_type": "stream",
     "text": [
      "Epoch/Batch (0/5): Invalid loss, terminating training.\n",
      "Epoch/Batch (0/6): Invalid loss, terminating training.\n"
     ]
    }
   ],
   "source": [
    "model = simple_cnn((3,16,16,2))\n",
    "learn = Learner(data, model, metrics=[accuracy], callbacks=[TerminateOnNaNCallback()])\n",
    "learn.fit(2,1e4)"
   ]
  },
  {
   "cell_type": "markdown",
   "metadata": {},
   "source": [
    "### Callback methods\n",
    "你不要自己调用 - 他们会被fastai的Callback系统自动调用，以启用该类的功能。\n",
    "\n",
    "<b>on_batch_end</b>\n",
    "\n",
    "`on_batch_end(last_loss, epoch, num_batch, **kwargs:Any)`\n",
    "\n",
    "测试last_loss是否为NaN并中断训练。\n",
    "\n",
    "<b>on_epoch_end</b>\n",
    "\n",
    "`on_epoch_end(**kwargs:Any)`\n",
    "\n",
    "在一个epoch结束时被召唤。"
   ]
  },
  {
   "cell_type": "markdown",
   "metadata": {},
   "source": [
    "### class EarlyStoppingCallback\n",
    "`EarlyStoppingCallback(learn:Learner, monitor:str='valid_loss', mode:str='auto', min_delta:int=0, patience:int=0) :: TrackerCallback`\n",
    "\n",
    "TrackerCallback在监控数量停止改善时终止培训。\n",
    "\n",
    "此回调在学习培训期间跟踪监视器中的数量。 模式可以强制为“最小”或“最大”，但会自动尝试确定数量应尽可能低（验证损失）还是最高可能（精确度）。 如果数量没有通过min_delta改善，将在耐心时期后停止训练。"
   ]
  },
  {
   "cell_type": "code",
   "execution_count": 5,
   "metadata": {},
   "outputs": [
    {
     "data": {
      "text/html": [
       "\n",
       "    <div>\n",
       "        <style>\n",
       "            /* Turns off some styling */\n",
       "            progress {\n",
       "                /* gets rid of default border in Firefox and Opera. */\n",
       "                border: none;\n",
       "                /* Needs to be in here for Safari polyfill so background images work as expected. */\n",
       "                background-size: auto;\n",
       "            }\n",
       "            .progress-bar-interrupted, .progress-bar-interrupted::-webkit-progress-bar {\n",
       "                background: #F44336;\n",
       "            }\n",
       "        </style>\n",
       "      <progress value='4' class='' max='50', style='width:300px; height:20px; vertical-align: middle;'></progress>\n",
       "      8.00% [4/50 04:00<46:07]\n",
       "    </div>\n",
       "    \n",
       "<table border=\"1\" class=\"dataframe\">\n",
       "  <thead>\n",
       "    <tr style=\"text-align: left;\">\n",
       "      <th>epoch</th>\n",
       "      <th>train_loss</th>\n",
       "      <th>valid_loss</th>\n",
       "      <th>accuracy</th>\n",
       "      <th>time</th>\n",
       "    </tr>\n",
       "  </thead>\n",
       "  <tbody>\n",
       "    <tr>\n",
       "      <td>0</td>\n",
       "      <td>0.698448</td>\n",
       "      <td>0.698129</td>\n",
       "      <td>0.504416</td>\n",
       "      <td>00:59</td>\n",
       "    </tr>\n",
       "    <tr>\n",
       "      <td>1</td>\n",
       "      <td>0.697836</td>\n",
       "      <td>0.698129</td>\n",
       "      <td>0.504416</td>\n",
       "      <td>00:59</td>\n",
       "    </tr>\n",
       "    <tr>\n",
       "      <td>2</td>\n",
       "      <td>0.699521</td>\n",
       "      <td>0.698129</td>\n",
       "      <td>0.504416</td>\n",
       "      <td>01:00</td>\n",
       "    </tr>\n",
       "    <tr>\n",
       "      <td>3</td>\n",
       "      <td>0.698427</td>\n",
       "      <td>0.698129</td>\n",
       "      <td>0.504416</td>\n",
       "      <td>01:00</td>\n",
       "    </tr>\n",
       "  </tbody>\n",
       "</table><p>\n",
       "\n",
       "    <div>\n",
       "        <style>\n",
       "            /* Turns off some styling */\n",
       "            progress {\n",
       "                /* gets rid of default border in Firefox and Opera. */\n",
       "                border: none;\n",
       "                /* Needs to be in here for Safari polyfill so background images work as expected. */\n",
       "                background-size: auto;\n",
       "            }\n",
       "            .progress-bar-interrupted, .progress-bar-interrupted::-webkit-progress-bar {\n",
       "                background: #F44336;\n",
       "            }\n",
       "        </style>\n",
       "      <progress value='32' class='' max='32', style='width:300px; height:20px; vertical-align: middle;'></progress>\n",
       "      100.00% [32/32 00:28<00:00]\n",
       "    </div>\n",
       "    "
      ],
      "text/plain": [
       "<IPython.core.display.HTML object>"
      ]
     },
     "metadata": {},
     "output_type": "display_data"
    },
    {
     "name": "stdout",
     "output_type": "stream",
     "text": [
      "Epoch 4: early stopping\n"
     ]
    }
   ],
   "source": [
    "model = simple_cnn((3,16,16,2))\n",
    "learn = Learner(data, model, metrics=[accuracy], \n",
    "                callback_fns=[partial(EarlyStoppingCallback, monitor='accuracy', min_delta=0.01, patience=3)])\n",
    "learn.fit(50,1e-42)"
   ]
  },
  {
   "cell_type": "markdown",
   "metadata": {},
   "source": [
    "### Callback methods\n",
    "\n",
    "你不要自己调用 - 他们会被fastai的Callback系统自动调用，以启用该类的功能。\n",
    "\n",
    "<b>on_train_begin</b>\n",
    "\n",
    "`on_train_begin(**kwargs:Any)`\n",
    "\n",
    "初始化内部参数。\n",
    "\n",
    "<b>on_epoch_end</b>\n",
    "\n",
    "`on_epoch_end(epoch, **kwargs:Any)`\n",
    "\n",
    "将监控的值与其最佳分数进行比较，并可能停止培训。"
   ]
  },
  {
   "cell_type": "markdown",
   "metadata": {},
   "source": [
    "### class SaveModelCallback\n",
    "\n",
    "`SaveModelCallback(learn:Learner, monitor:str='valid_loss', mode:str='auto', every:str='improvement', name:str='bestmodel') :: TrackerCallback`\n",
    "\n",
    "TrackerCallback可在监控数量最佳时保存模型。\n",
    "\n",
    "此回调在学习培训期间跟踪监视器中的数量。 模式可以强制为“最小”或“最大”，但会自动尝试确定数量应尽可能低（验证损失）还是最高可能（精确度）。 每当由每个（'改进'或'纪元'）确定时，将以名义保存模型。 在训练结束时加载最佳模型是每次''改进'。"
   ]
  },
  {
   "cell_type": "code",
   "execution_count": 6,
   "metadata": {},
   "outputs": [
    {
     "data": {
      "text/html": [
       "<table border=\"1\" class=\"dataframe\">\n",
       "  <thead>\n",
       "    <tr style=\"text-align: left;\">\n",
       "      <th>epoch</th>\n",
       "      <th>train_loss</th>\n",
       "      <th>valid_loss</th>\n",
       "      <th>accuracy</th>\n",
       "      <th>time</th>\n",
       "    </tr>\n",
       "  </thead>\n",
       "  <tbody>\n",
       "    <tr>\n",
       "      <td>0</td>\n",
       "      <td>0.682584</td>\n",
       "      <td>0.674573</td>\n",
       "      <td>0.753680</td>\n",
       "      <td>01:03</td>\n",
       "    </tr>\n",
       "    <tr>\n",
       "      <td>1</td>\n",
       "      <td>0.570130</td>\n",
       "      <td>0.518658</td>\n",
       "      <td>0.917076</td>\n",
       "      <td>01:03</td>\n",
       "    </tr>\n",
       "    <tr>\n",
       "      <td>2</td>\n",
       "      <td>0.371998</td>\n",
       "      <td>0.331077</td>\n",
       "      <td>0.936212</td>\n",
       "      <td>01:01</td>\n",
       "    </tr>\n",
       "    <tr>\n",
       "      <td>3</td>\n",
       "      <td>0.278062</td>\n",
       "      <td>0.266117</td>\n",
       "      <td>0.937684</td>\n",
       "      <td>01:00</td>\n",
       "    </tr>\n",
       "    <tr>\n",
       "      <td>4</td>\n",
       "      <td>0.258674</td>\n",
       "      <td>0.257299</td>\n",
       "      <td>0.937193</td>\n",
       "      <td>01:05</td>\n",
       "    </tr>\n",
       "  </tbody>\n",
       "</table>"
      ],
      "text/plain": [
       "<IPython.core.display.HTML object>"
      ]
     },
     "metadata": {},
     "output_type": "display_data"
    }
   ],
   "source": [
    "model = simple_cnn((3,16,16,2))\n",
    "learn = Learner(data, model, metrics=[accuracy])\n",
    "learn.fit_one_cycle(5,1e-4, callbacks=[SaveModelCallback(learn, every='epoch', monitor='accuracy', name='model')])"
   ]
  },
  {
   "cell_type": "markdown",
   "metadata": {},
   "source": [
    "选择every='epoch'可以在每个时代结束时保存一个单独的模型。"
   ]
  },
  {
   "cell_type": "code",
   "execution_count": 12,
   "metadata": {},
   "outputs": [
    {
     "data": {
      "text/plain": [
       "[WindowsPath('C:/Users/Yang/.fastai/data/mnist_sample/models/bestmodel_0.pth'),\n",
       " WindowsPath('C:/Users/Yang/.fastai/data/mnist_sample/models/bestmodel_1.pth'),\n",
       " WindowsPath('C:/Users/Yang/.fastai/data/mnist_sample/models/bestmodel_2.pth'),\n",
       " WindowsPath('C:/Users/Yang/.fastai/data/mnist_sample/models/model_0.pth'),\n",
       " WindowsPath('C:/Users/Yang/.fastai/data/mnist_sample/models/model_1.pth'),\n",
       " WindowsPath('C:/Users/Yang/.fastai/data/mnist_sample/models/model_2.pth'),\n",
       " WindowsPath('C:/Users/Yang/.fastai/data/mnist_sample/models/model_3.pth'),\n",
       " WindowsPath('C:/Users/Yang/.fastai/data/mnist_sample/models/model_4.pth'),\n",
       " WindowsPath('C:/Users/Yang/.fastai/data/mnist_sample/models/tmp.pth'),\n",
       " WindowsPath('C:/Users/Yang/.fastai/data/mnist_sample/models/trained_model.pth')]"
      ]
     },
     "execution_count": 12,
     "metadata": {},
     "output_type": "execute_result"
    }
   ],
   "source": [
    "(path/'models').ls()"
   ]
  },
  {
   "cell_type": "code",
   "execution_count": 13,
   "metadata": {},
   "outputs": [
    {
     "data": {
      "text/html": [
       "<table border=\"1\" class=\"dataframe\">\n",
       "  <thead>\n",
       "    <tr style=\"text-align: left;\">\n",
       "      <th>epoch</th>\n",
       "      <th>train_loss</th>\n",
       "      <th>valid_loss</th>\n",
       "      <th>accuracy</th>\n",
       "      <th>time</th>\n",
       "    </tr>\n",
       "  </thead>\n",
       "  <tbody>\n",
       "    <tr>\n",
       "      <td>0</td>\n",
       "      <td>0.242412</td>\n",
       "      <td>0.221357</td>\n",
       "      <td>0.937193</td>\n",
       "      <td>01:04</td>\n",
       "    </tr>\n",
       "    <tr>\n",
       "      <td>1</td>\n",
       "      <td>0.183681</td>\n",
       "      <td>0.175380</td>\n",
       "      <td>0.937684</td>\n",
       "      <td>01:00</td>\n",
       "    </tr>\n",
       "    <tr>\n",
       "      <td>2</td>\n",
       "      <td>0.166774</td>\n",
       "      <td>0.163337</td>\n",
       "      <td>0.938665</td>\n",
       "      <td>01:00</td>\n",
       "    </tr>\n",
       "    <tr>\n",
       "      <td>3</td>\n",
       "      <td>0.160396</td>\n",
       "      <td>0.160284</td>\n",
       "      <td>0.939647</td>\n",
       "      <td>00:59</td>\n",
       "    </tr>\n",
       "    <tr>\n",
       "      <td>4</td>\n",
       "      <td>0.151034</td>\n",
       "      <td>0.159589</td>\n",
       "      <td>0.940137</td>\n",
       "      <td>00:59</td>\n",
       "    </tr>\n",
       "  </tbody>\n",
       "</table>"
      ],
      "text/plain": [
       "<IPython.core.display.HTML object>"
      ]
     },
     "metadata": {},
     "output_type": "display_data"
    },
    {
     "name": "stdout",
     "output_type": "stream",
     "text": [
      "Better model found at epoch 0 with accuracy value: 0.9371933341026306.\n",
      "Better model found at epoch 1 with accuracy value: 0.9376839995384216.\n",
      "Better model found at epoch 2 with accuracy value: 0.9386653304100037.\n",
      "Better model found at epoch 3 with accuracy value: 0.9396467208862305.\n",
      "Better model found at epoch 4 with accuracy value: 0.9401373863220215.\n"
     ]
    }
   ],
   "source": [
    "learn.fit_one_cycle(5,1e-4, callbacks=[SaveModelCallback(learn, every='improvement', monitor='accuracy', name='best')])"
   ]
  },
  {
   "cell_type": "markdown",
   "metadata": {},
   "source": [
    "选择every='improvement'可以在训练期间保存所有时期中的单个最佳模型。"
   ]
  },
  {
   "cell_type": "code",
   "execution_count": 14,
   "metadata": {},
   "outputs": [
    {
     "data": {
      "text/plain": [
       "[WindowsPath('C:/Users/Yang/.fastai/data/mnist_sample/models/best.pth'),\n",
       " WindowsPath('C:/Users/Yang/.fastai/data/mnist_sample/models/bestmodel_0.pth'),\n",
       " WindowsPath('C:/Users/Yang/.fastai/data/mnist_sample/models/bestmodel_1.pth'),\n",
       " WindowsPath('C:/Users/Yang/.fastai/data/mnist_sample/models/bestmodel_2.pth'),\n",
       " WindowsPath('C:/Users/Yang/.fastai/data/mnist_sample/models/model_0.pth'),\n",
       " WindowsPath('C:/Users/Yang/.fastai/data/mnist_sample/models/model_1.pth'),\n",
       " WindowsPath('C:/Users/Yang/.fastai/data/mnist_sample/models/model_2.pth'),\n",
       " WindowsPath('C:/Users/Yang/.fastai/data/mnist_sample/models/model_3.pth'),\n",
       " WindowsPath('C:/Users/Yang/.fastai/data/mnist_sample/models/model_4.pth'),\n",
       " WindowsPath('C:/Users/Yang/.fastai/data/mnist_sample/models/tmp.pth'),\n",
       " WindowsPath('C:/Users/Yang/.fastai/data/mnist_sample/models/trained_model.pth')]"
      ]
     },
     "execution_count": 14,
     "metadata": {},
     "output_type": "execute_result"
    }
   ],
   "source": [
    "(path/'models').ls()"
   ]
  },
  {
   "cell_type": "markdown",
   "metadata": {},
   "source": [
    "### Callback methods\n",
    "你不要自己调用 - 他们会被fastai的Callback系统自动调用，以启用该类的功能。\n",
    "\n",
    "<b>on_epoch_end</b>\n",
    "\n",
    "`on_epoch_end(epoch:int, **kwargs:Any)`\n",
    "\n",
    "将监控值与其最佳分数进行比较，并保存模型。\n",
    "\n",
    "<b>on_train_end</b>\n",
    "\n",
    "`on_train_end(**kwargs)`\n",
    "\n",
    "加载最好的模型"
   ]
  },
  {
   "cell_type": "markdown",
   "metadata": {},
   "source": [
    "### class ReduceLROnPlateauCallback\n",
    "\n",
    "`ReduceLROnPlateauCallback(learn:Learner, monitor:str='valid_loss', mode:str='auto', patience:int=0, factor:float=0.2, min_delta:int=0) :: TrackerCallback`\n",
    "\n",
    "TrackerCallback可在指标停止改进时降低学习率。\n",
    "\n",
    "此回调在学习培训期间跟踪监视器中的数量。 模式可以强制为“最小”或“最大”，但会自动尝试确定数量应尽可能低（验证损失）还是最高可能（精确度）。 如果数量没有被min_delta提高，则会在耐心时期之后通过因子降低学习率。\n",
    "\n",
    "### Callback methods\n",
    "你不要自己调用 - 他们会被fastai的Callback系统自动调用，以启用该类的功能。\n",
    "\n",
    "<b>on_train_begin</b>\n",
    "\n",
    "`on_train_begin(**kwargs:Any)`\n",
    "\n",
    "初始化内部参数。\n",
    "\n",
    "<b>on_epoch_end</b>\n",
    "\n",
    "`on_epoch_end(epoch, **kwargs:Any)`\n",
    "\n",
    "将监控的值与其最佳值进行比较，并可能降低lr。"
   ]
  },
  {
   "cell_type": "markdown",
   "metadata": {},
   "source": [
    "### class TrackerCallback\n",
    "\n",
    "`TrackerCallback(learn:Learner, monitor:str='valid_loss', mode:str='auto') :: LearnerCallback`\n",
    "\n",
    "LearnerCallback，用于跟踪监视器中的最佳值。\n",
    "\n",
    "<b>get_monitor_value</b>\n",
    "\n",
    "`get_monitor_value()`\n",
    "\n",
    "选择监控值。\n",
    "\n",
    "### Callback methods\n",
    "你不要自己调用 - 他们会被fastai的Callback系统自动调用，以启用该类的功能。\n",
    "\n",
    "\n",
    "<b>on_train_begin</b>\n",
    "\n",
    "`on_train_begin(**kwargs:Any)`\n",
    "\n",
    "初始化最佳值。"
   ]
  },
  {
   "cell_type": "code",
   "execution_count": null,
   "metadata": {},
   "outputs": [],
   "source": []
  }
 ],
 "metadata": {
  "kernelspec": {
   "display_name": "Python 3",
   "language": "python",
   "name": "python3"
  },
  "language_info": {
   "codemirror_mode": {
    "name": "ipython",
    "version": 3
   },
   "file_extension": ".py",
   "mimetype": "text/x-python",
   "name": "python",
   "nbconvert_exporter": "python",
   "pygments_lexer": "ipython3",
   "version": "3.6.7"
  }
 },
 "nbformat": 4,
 "nbformat_minor": 2
}
