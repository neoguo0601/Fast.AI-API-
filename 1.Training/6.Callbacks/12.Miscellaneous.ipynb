{
 "cells": [
  {
   "cell_type": "markdown",
   "metadata": {},
   "source": [
    "## callbacks.misc\n",
    "可以在此处找到不属于任何特定组的其他回调。"
   ]
  },
  {
   "cell_type": "markdown",
   "metadata": {},
   "source": [
    "## class StopAfterNBatches\n",
    "`StopAfterNBatches(n_batches:int=2) :: Callback`\n",
    "\n",
    "在第一个时期的n批次之后停止训练。\n",
    "\n",
    "这个方便的回调可能有各种用途。\n",
    "\n",
    "它的最初目的是能够快速检查给定的超级映射器（如bs和size）的内存要求。\n",
    "\n",
    "由于所有需要的GPU内存都是在第一个时期的第一批时间内设置的，所以只需运行1-2批来测量你的超参数是否正确并且不会导致内存不足（OOM）错误。 因此，不要等待几分钟或几小时才发现你的bs或大小太大，这个回调允许你做几秒钟。\n",
    "\n",
    "您可以将其部署在特定的学习者（或适合的调用）上，就像使用任何其他回调一样：\n",
    "\n",
    "```python\n",
    "from fastai.callbacks.misc import StopAfterNBatches\n",
    "[...]\n",
    "learn = cnn_learner([...])\n",
    "learn.callbacks.append(StopAfterNBatches(learn, n_batches=2))\n",
    "learn.fit_one_cycle(3, max_lr=1e-2)\n",
    "```\n",
    "\n",
    "并且它要么适合现有的内存，要么会因OOM错误立即失败。 您可能需要添加ipyexperiments以显示内存使用情况，包括峰值使用情况。\n",
    "\n",
    "这很好，但它很麻烦，因为你必须更改笔记本源代码，并且通常你会在同一个笔记本中有多个学习者和适合的电话，所以这里是如何通过将以下代码放在笔记本顶部的某个地方来全局完成 并保持笔记本的其余部分不被修改：\n",
    "\n",
    "```python\n",
    "from fastai.callbacks.misc import StopAfterNBatches\n",
    "# True turns the speedup on, False return to normal behavior\n",
    "tune = True\n",
    "#tune = False\n",
    "if tune:\n",
    "    defaults.silent = True # don't print the fit metric headers\n",
    "    defaults.extra_callbacks = [StopAfterNBatches(n_batches=2)]\n",
    "else:\n",
    "    defaults.silent = False\n",
    "    defaults.extra_callbacks = None\n",
    "```\n",
    "当您完成调整超参数时，只需将tune设置为False并重新运行笔记本即可进行真正的拟合。\n",
    "\n",
    "defaults.silent设置控制fit调用是否打印出任何输出。\n",
    "\n",
    "请注意，当您运行此回调时，每个拟合调用都将被中断，从而导致红色输出 - 这只表示未正常拟合，因此您不应期望任何定性结果。\n"
   ]
  },
  {
   "cell_type": "code",
   "execution_count": null,
   "metadata": {},
   "outputs": [],
   "source": []
  }
 ],
 "metadata": {
  "kernelspec": {
   "display_name": "Python 3",
   "language": "python",
   "name": "python3"
  },
  "language_info": {
   "codemirror_mode": {
    "name": "ipython",
    "version": 3
   },
   "file_extension": ".py",
   "mimetype": "text/x-python",
   "name": "python",
   "nbconvert_exporter": "python",
   "pygments_lexer": "ipython3",
   "version": "3.6.7"
  }
 },
 "nbformat": 4,
 "nbformat_minor": 2
}
