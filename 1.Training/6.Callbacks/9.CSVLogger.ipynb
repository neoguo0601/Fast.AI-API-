{
 "cells": [
  {
   "cell_type": "markdown",
   "metadata": {},
   "source": [
    "## CSV Logger"
   ]
  },
  {
   "cell_type": "markdown",
   "metadata": {},
   "source": [
    "## class CSVLogger\n",
    "`CSVLogger(learn:Learner, filename:str='history', append:bool=False) :: LearnerCallback`\n",
    "\n",
    "LearnerCallback可以在训练时保存指标的历史记录，学习CSV文件名。\n",
    "\n",
    "首先让我们展示一个使用示例，通过对通常的MNIST数据集的培训"
   ]
  },
  {
   "cell_type": "code",
   "execution_count": 1,
   "metadata": {},
   "outputs": [],
   "source": [
    "from fastai.vision import *\n",
    "from fastai.basics import *\n",
    "from fastai.callbacks import *"
   ]
  },
  {
   "cell_type": "code",
   "execution_count": 2,
   "metadata": {},
   "outputs": [],
   "source": [
    "path = untar_data(URLs.MNIST_TINY)\n",
    "data = ImageDataBunch.from_folder(path)\n",
    "learn = Learner(data, simple_cnn((3, 16, 16, 2)), metrics=[accuracy, error_rate], callback_fns=[CSVLogger])"
   ]
  },
  {
   "cell_type": "code",
   "execution_count": 3,
   "metadata": {
    "scrolled": true
   },
   "outputs": [
    {
     "data": {
      "text/html": [
       "<table border=\"1\" class=\"dataframe\">\n",
       "  <thead>\n",
       "    <tr style=\"text-align: left;\">\n",
       "      <th>epoch</th>\n",
       "      <th>train_loss</th>\n",
       "      <th>valid_loss</th>\n",
       "      <th>accuracy</th>\n",
       "      <th>error_rate</th>\n",
       "      <th>time</th>\n",
       "    </tr>\n",
       "  </thead>\n",
       "  <tbody>\n",
       "    <tr>\n",
       "      <td>0</td>\n",
       "      <td>0.624114</td>\n",
       "      <td>0.503792</td>\n",
       "      <td>0.947067</td>\n",
       "      <td>0.052933</td>\n",
       "      <td>00:37</td>\n",
       "    </tr>\n",
       "    <tr>\n",
       "      <td>1</td>\n",
       "      <td>0.495574</td>\n",
       "      <td>0.217554</td>\n",
       "      <td>0.948498</td>\n",
       "      <td>0.051502</td>\n",
       "      <td>00:33</td>\n",
       "    </tr>\n",
       "    <tr>\n",
       "      <td>2</td>\n",
       "      <td>0.376899</td>\n",
       "      <td>0.126564</td>\n",
       "      <td>0.961373</td>\n",
       "      <td>0.038627</td>\n",
       "      <td>00:33</td>\n",
       "    </tr>\n",
       "  </tbody>\n",
       "</table>"
      ],
      "text/plain": [
       "<IPython.core.display.HTML object>"
      ]
     },
     "metadata": {},
     "output_type": "display_data"
    }
   ],
   "source": [
    "learn.fit(3)"
   ]
  },
  {
   "cell_type": "markdown",
   "metadata": {},
   "source": [
    "培训详细信息已保存在“history.csv”中。\n",
    "\n",
    "请注意，它仅保存float / int指标，因此不会保存当前时间。 这可以保存，但需要更改录制 - 您可以提交PR修复。"
   ]
  },
  {
   "cell_type": "code",
   "execution_count": 4,
   "metadata": {},
   "outputs": [
    {
     "data": {
      "text/plain": [
       "[WindowsPath('C:/Users/Yang/.fastai/data/mnist_tiny/history.csv'),\n",
       " WindowsPath('C:/Users/Yang/.fastai/data/mnist_tiny/labels.csv'),\n",
       " WindowsPath('C:/Users/Yang/.fastai/data/mnist_tiny/models'),\n",
       " WindowsPath('C:/Users/Yang/.fastai/data/mnist_tiny/test'),\n",
       " WindowsPath('C:/Users/Yang/.fastai/data/mnist_tiny/train'),\n",
       " WindowsPath('C:/Users/Yang/.fastai/data/mnist_tiny/valid')]"
      ]
     },
     "execution_count": 4,
     "metadata": {},
     "output_type": "execute_result"
    }
   ],
   "source": [
    "learn.path.ls()"
   ]
  },
  {
   "cell_type": "markdown",
   "metadata": {},
   "source": [
    "请注意，与所有LearnerCallback一样，您可以在创建后将对象作为学习属性进行访问。 这是learn.csv_logger。\n",
    "\n",
    "<b>read_logged_file</b>\n",
    "\n",
    "`read_logged_file()`\n",
    "\n",
    "阅读已保存文件的内容"
   ]
  },
  {
   "cell_type": "code",
   "execution_count": 5,
   "metadata": {},
   "outputs": [
    {
     "data": {
      "text/html": [
       "<div>\n",
       "<style scoped>\n",
       "    .dataframe tbody tr th:only-of-type {\n",
       "        vertical-align: middle;\n",
       "    }\n",
       "\n",
       "    .dataframe tbody tr th {\n",
       "        vertical-align: top;\n",
       "    }\n",
       "\n",
       "    .dataframe thead th {\n",
       "        text-align: right;\n",
       "    }\n",
       "</style>\n",
       "<table border=\"1\" class=\"dataframe\">\n",
       "  <thead>\n",
       "    <tr style=\"text-align: right;\">\n",
       "      <th></th>\n",
       "      <th>epoch</th>\n",
       "      <th>train_loss</th>\n",
       "      <th>valid_loss</th>\n",
       "      <th>accuracy</th>\n",
       "      <th>error_rate</th>\n",
       "    </tr>\n",
       "  </thead>\n",
       "  <tbody>\n",
       "    <tr>\n",
       "      <th>0</th>\n",
       "      <td>0</td>\n",
       "      <td>0.575400</td>\n",
       "      <td>0.413683</td>\n",
       "      <td>0.928469</td>\n",
       "      <td>0.071531</td>\n",
       "    </tr>\n",
       "    <tr>\n",
       "      <th>1</th>\n",
       "      <td>1</td>\n",
       "      <td>0.438751</td>\n",
       "      <td>0.183235</td>\n",
       "      <td>0.942775</td>\n",
       "      <td>0.057225</td>\n",
       "    </tr>\n",
       "    <tr>\n",
       "      <th>2</th>\n",
       "      <td>2</td>\n",
       "      <td>0.347330</td>\n",
       "      <td>0.142187</td>\n",
       "      <td>0.952790</td>\n",
       "      <td>0.047210</td>\n",
       "    </tr>\n",
       "  </tbody>\n",
       "</table>\n",
       "</div>"
      ],
      "text/plain": [
       "   epoch  train_loss  valid_loss  accuracy  error_rate\n",
       "0      0    0.575400    0.413683  0.928469    0.071531\n",
       "1      1    0.438751    0.183235  0.942775    0.057225\n",
       "2      2    0.347330    0.142187  0.952790    0.047210"
      ]
     },
     "execution_count": 5,
     "metadata": {},
     "output_type": "execute_result"
    }
   ],
   "source": [
    "learn.csv_logger.read_logged_file()"
   ]
  },
  {
   "cell_type": "markdown",
   "metadata": {},
   "source": [
    "您可以选择将append = True设置为记录后续培训阶段的结果。"
   ]
  },
  {
   "cell_type": "code",
   "execution_count": 6,
   "metadata": {},
   "outputs": [],
   "source": [
    "# don't forget to remove the old file\n",
    "if learn.csv_logger.path.exists(): os.remove(learn.csv_logger.path)"
   ]
  },
  {
   "cell_type": "code",
   "execution_count": 7,
   "metadata": {},
   "outputs": [],
   "source": [
    "learn = Learner(data, simple_cnn((3, 16, 16, 2)), metrics=[accuracy, error_rate],\n",
    "                callback_fns=[partial(CSVLogger, append=True)])"
   ]
  },
  {
   "cell_type": "code",
   "execution_count": 8,
   "metadata": {},
   "outputs": [
    {
     "data": {
      "text/html": [
       "<table border=\"1\" class=\"dataframe\">\n",
       "  <thead>\n",
       "    <tr style=\"text-align: left;\">\n",
       "      <th>epoch</th>\n",
       "      <th>train_loss</th>\n",
       "      <th>valid_loss</th>\n",
       "      <th>accuracy</th>\n",
       "      <th>error_rate</th>\n",
       "      <th>time</th>\n",
       "    </tr>\n",
       "  </thead>\n",
       "  <tbody>\n",
       "    <tr>\n",
       "      <td>0</td>\n",
       "      <td>0.543129</td>\n",
       "      <td>0.362504</td>\n",
       "      <td>0.965665</td>\n",
       "      <td>0.034335</td>\n",
       "      <td>00:53</td>\n",
       "    </tr>\n",
       "    <tr>\n",
       "      <td>1</td>\n",
       "      <td>0.403127</td>\n",
       "      <td>0.157159</td>\n",
       "      <td>0.958512</td>\n",
       "      <td>0.041488</td>\n",
       "      <td>00:53</td>\n",
       "    </tr>\n",
       "    <tr>\n",
       "      <td>2</td>\n",
       "      <td>0.313406</td>\n",
       "      <td>0.117636</td>\n",
       "      <td>0.962804</td>\n",
       "      <td>0.037196</td>\n",
       "      <td>00:52</td>\n",
       "    </tr>\n",
       "  </tbody>\n",
       "</table>"
      ],
      "text/plain": [
       "<IPython.core.display.HTML object>"
      ]
     },
     "metadata": {},
     "output_type": "display_data"
    }
   ],
   "source": [
    "# stage-1\n",
    "learn.fit(3)"
   ]
  },
  {
   "cell_type": "code",
   "execution_count": 9,
   "metadata": {},
   "outputs": [
    {
     "data": {
      "text/html": [
       "<table border=\"1\" class=\"dataframe\">\n",
       "  <thead>\n",
       "    <tr style=\"text-align: left;\">\n",
       "      <th>epoch</th>\n",
       "      <th>train_loss</th>\n",
       "      <th>valid_loss</th>\n",
       "      <th>accuracy</th>\n",
       "      <th>error_rate</th>\n",
       "      <th>time</th>\n",
       "    </tr>\n",
       "  </thead>\n",
       "  <tbody>\n",
       "    <tr>\n",
       "      <td>0</td>\n",
       "      <td>0.169223</td>\n",
       "      <td>0.118021</td>\n",
       "      <td>0.952790</td>\n",
       "      <td>0.047210</td>\n",
       "      <td>00:52</td>\n",
       "    </tr>\n",
       "    <tr>\n",
       "      <td>1</td>\n",
       "      <td>0.167783</td>\n",
       "      <td>0.102193</td>\n",
       "      <td>0.962804</td>\n",
       "      <td>0.037196</td>\n",
       "      <td>00:52</td>\n",
       "    </tr>\n",
       "    <tr>\n",
       "      <td>2</td>\n",
       "      <td>0.162663</td>\n",
       "      <td>0.090873</td>\n",
       "      <td>0.971388</td>\n",
       "      <td>0.028612</td>\n",
       "      <td>00:52</td>\n",
       "    </tr>\n",
       "  </tbody>\n",
       "</table>"
      ],
      "text/plain": [
       "<IPython.core.display.HTML object>"
      ]
     },
     "metadata": {},
     "output_type": "display_data"
    }
   ],
   "source": [
    "# stage-2\n",
    "learn.fit(3)"
   ]
  },
  {
   "cell_type": "code",
   "execution_count": 10,
   "metadata": {},
   "outputs": [
    {
     "data": {
      "text/html": [
       "<div>\n",
       "<style scoped>\n",
       "    .dataframe tbody tr th:only-of-type {\n",
       "        vertical-align: middle;\n",
       "    }\n",
       "\n",
       "    .dataframe tbody tr th {\n",
       "        vertical-align: top;\n",
       "    }\n",
       "\n",
       "    .dataframe thead th {\n",
       "        text-align: right;\n",
       "    }\n",
       "</style>\n",
       "<table border=\"1\" class=\"dataframe\">\n",
       "  <thead>\n",
       "    <tr style=\"text-align: right;\">\n",
       "      <th></th>\n",
       "      <th>epoch</th>\n",
       "      <th>train_loss</th>\n",
       "      <th>valid_loss</th>\n",
       "      <th>accuracy</th>\n",
       "      <th>error_rate</th>\n",
       "    </tr>\n",
       "  </thead>\n",
       "  <tbody>\n",
       "    <tr>\n",
       "      <th>0</th>\n",
       "      <td>0</td>\n",
       "      <td>0.543129</td>\n",
       "      <td>0.362504</td>\n",
       "      <td>0.965665</td>\n",
       "      <td>0.034335</td>\n",
       "    </tr>\n",
       "    <tr>\n",
       "      <th>1</th>\n",
       "      <td>1</td>\n",
       "      <td>0.403127</td>\n",
       "      <td>0.157159</td>\n",
       "      <td>0.958512</td>\n",
       "      <td>0.041488</td>\n",
       "    </tr>\n",
       "    <tr>\n",
       "      <th>2</th>\n",
       "      <td>2</td>\n",
       "      <td>0.313406</td>\n",
       "      <td>0.117636</td>\n",
       "      <td>0.962804</td>\n",
       "      <td>0.037196</td>\n",
       "    </tr>\n",
       "    <tr>\n",
       "      <th>3</th>\n",
       "      <td>epoch</td>\n",
       "      <td>train_loss</td>\n",
       "      <td>valid_loss</td>\n",
       "      <td>accuracy</td>\n",
       "      <td>error_rate</td>\n",
       "    </tr>\n",
       "    <tr>\n",
       "      <th>4</th>\n",
       "      <td>0</td>\n",
       "      <td>0.169223</td>\n",
       "      <td>0.118021</td>\n",
       "      <td>0.952790</td>\n",
       "      <td>0.047210</td>\n",
       "    </tr>\n",
       "    <tr>\n",
       "      <th>5</th>\n",
       "      <td>1</td>\n",
       "      <td>0.167783</td>\n",
       "      <td>0.102193</td>\n",
       "      <td>0.962804</td>\n",
       "      <td>0.037196</td>\n",
       "    </tr>\n",
       "    <tr>\n",
       "      <th>6</th>\n",
       "      <td>2</td>\n",
       "      <td>0.162663</td>\n",
       "      <td>0.090873</td>\n",
       "      <td>0.971388</td>\n",
       "      <td>0.028612</td>\n",
       "    </tr>\n",
       "  </tbody>\n",
       "</table>\n",
       "</div>"
      ],
      "text/plain": [
       "   epoch  train_loss  valid_loss  accuracy  error_rate\n",
       "0      0    0.543129    0.362504  0.965665    0.034335\n",
       "1      1    0.403127    0.157159  0.958512    0.041488\n",
       "2      2    0.313406    0.117636  0.962804    0.037196\n",
       "3  epoch  train_loss  valid_loss  accuracy  error_rate\n",
       "4      0    0.169223    0.118021  0.952790    0.047210\n",
       "5      1    0.167783    0.102193  0.962804    0.037196\n",
       "6      2    0.162663    0.090873  0.971388    0.028612"
      ]
     },
     "execution_count": 10,
     "metadata": {},
     "output_type": "execute_result"
    }
   ],
   "source": [
    "learn.csv_logger.read_logged_file()"
   ]
  },
  {
   "cell_type": "markdown",
   "metadata": {},
   "source": [
    "### Calback methods\n",
    "你不要自己调用 - 他们会被fastai的Callback系统自动调用，以启用该类的功能。\n",
    "\n",
    "<b>on_train_begin</b>\n",
    "\n",
    "`on_train_begin(**kwargs:Any)`\n",
    "\n",
    "使用度量标准名称准备文件。\n",
    "\n",
    "<b>on_epoch_end</b>\n",
    "\n",
    "`on_epoch_end(epoch:int, smooth_loss:Tensor, last_metrics:MetricsList, **kwargs:Any) → bool`\n",
    "\n",
    "添加一个包含epoch号，smooth_loss和last_metrics的行。\n",
    "\n",
    "<b>on_train_end</b>\n",
    "\n",
    "`on_train_end(**kwargs:Any)`\n",
    "\n",
    "关闭文件。"
   ]
  },
  {
   "cell_type": "code",
   "execution_count": null,
   "metadata": {},
   "outputs": [],
   "source": []
  }
 ],
 "metadata": {
  "kernelspec": {
   "display_name": "Python 3",
   "language": "python",
   "name": "python3"
  },
  "language_info": {
   "codemirror_mode": {
    "name": "ipython",
    "version": 3
   },
   "file_extension": ".py",
   "mimetype": "text/x-python",
   "name": "python",
   "nbconvert_exporter": "python",
   "pygments_lexer": "ipython3",
   "version": "3.7.1"
  }
 },
 "nbformat": 4,
 "nbformat_minor": 2
}
