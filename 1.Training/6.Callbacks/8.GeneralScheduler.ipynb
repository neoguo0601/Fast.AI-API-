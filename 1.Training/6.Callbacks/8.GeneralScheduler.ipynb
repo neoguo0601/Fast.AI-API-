{
 "cells": [
  {
   "cell_type": "markdown",
   "metadata": {},
   "source": [
    "## TrainingPhase和General调度程序\n",
    "创建一个调度程序，使您可以使用以下不同的TrainingPhase训练模型。"
   ]
  },
  {
   "cell_type": "markdown",
   "metadata": {},
   "source": [
    "### class TrainingPhase\n",
    "`TrainingPhase(length:int)`\n",
    "\n",
    "为长度迭代阶段安排超参数。\n",
    "\n",
    "然后，您可以使用以下方法计划所需的任何超参数。\n",
    "\n",
    "<b>schedule_hp</b>\n",
    "\n",
    "`schedule_hp(name, vals, anneal=None)`\n",
    "\n",
    "使用退火在val之间添加名称计划。\n",
    "\n",
    "在退火之后，该阶段将使超参数从val中的第一个值变化到第二个值。 如果指定退火函数但是vals是浮点数，它将衰减为0.如果没有指定退火函数，则默认值为元组的线性退火，如果是浮点数则为常量参数。\n",
    "\n",
    "`注意：如果要使用判别式值，可以在`vals`中传递一个numpy数组（或者它们的元组用于启动和停止）。`\n",
    "\n",
    "基本的超参数命名为：\n",
    "\n",
    "* 'lr'用于学习率\n",
    "* 'mom'的动力（或Adam的beta1）\n",
    "* 'beta' Adam的β2或者RMSprop的alpha\n",
    "* 'wd'用于梯度衰减\n",
    "\n",
    "您还可以添加优化器中的任何超参数（即使它是自定义的或GeneralOptimizer），如果您使用的是Adam，也可以添加'eps'。\n",
    "\n",
    "让我们用一个例子来编写带有热重启的SGD。"
   ]
  },
  {
   "cell_type": "code",
   "execution_count": 1,
   "metadata": {},
   "outputs": [],
   "source": [
    "def fit_sgd_warm(learn, n_cycles, lr, mom, cycle_len, cycle_mult):\n",
    "    n = len(learn.data.train_dl)\n",
    "    phases = [(TrainingPhase(n * (cycle_len * cycle_mult**i))\n",
    "                 .schedule_hp('lr', lr, anneal=annealing_cos)\n",
    "                 .schedule_hp('mom', mom)) for i in range(n_cycles)]\n",
    "    sched = GeneralScheduler(learn, phases)\n",
    "    learn.callbacks.append(sched)\n",
    "    if cycle_mult != 1:\n",
    "        total_epochs = int(cycle_len * (1 - (cycle_mult)**n_cycles)/(1-cycle_mult)) \n",
    "    else: total_epochs = n_cycles * cycle_len\n",
    "    learn.fit(total_epochs)"
   ]
  },
  {
   "cell_type": "code",
   "execution_count": 2,
   "metadata": {},
   "outputs": [],
   "source": [
    "from fastai.vision import *\n",
    "from fastai.basics import *\n",
    "from fastai.callbacks import *"
   ]
  },
  {
   "cell_type": "code",
   "execution_count": 3,
   "metadata": {},
   "outputs": [
    {
     "data": {
      "text/html": [
       "<table border=\"1\" class=\"dataframe\">\n",
       "  <thead>\n",
       "    <tr style=\"text-align: left;\">\n",
       "      <th>epoch</th>\n",
       "      <th>train_loss</th>\n",
       "      <th>valid_loss</th>\n",
       "      <th>accuracy</th>\n",
       "      <th>time</th>\n",
       "    </tr>\n",
       "  </thead>\n",
       "  <tbody>\n",
       "    <tr>\n",
       "      <td>0</td>\n",
       "      <td>0.169713</td>\n",
       "      <td>0.157265</td>\n",
       "      <td>0.944553</td>\n",
       "      <td>01:07</td>\n",
       "    </tr>\n",
       "    <tr>\n",
       "      <td>1</td>\n",
       "      <td>0.128610</td>\n",
       "      <td>0.122057</td>\n",
       "      <td>0.956330</td>\n",
       "      <td>01:03</td>\n",
       "    </tr>\n",
       "    <tr>\n",
       "      <td>2</td>\n",
       "      <td>0.117595</td>\n",
       "      <td>0.115338</td>\n",
       "      <td>0.957802</td>\n",
       "      <td>01:05</td>\n",
       "    </tr>\n",
       "    <tr>\n",
       "      <td>3</td>\n",
       "      <td>0.098058</td>\n",
       "      <td>0.093810</td>\n",
       "      <td>0.963690</td>\n",
       "      <td>01:00</td>\n",
       "    </tr>\n",
       "    <tr>\n",
       "      <td>4</td>\n",
       "      <td>0.091226</td>\n",
       "      <td>0.084315</td>\n",
       "      <td>0.969087</td>\n",
       "      <td>00:59</td>\n",
       "    </tr>\n",
       "    <tr>\n",
       "      <td>5</td>\n",
       "      <td>0.080955</td>\n",
       "      <td>0.078853</td>\n",
       "      <td>0.972522</td>\n",
       "      <td>00:59</td>\n",
       "    </tr>\n",
       "    <tr>\n",
       "      <td>6</td>\n",
       "      <td>0.073230</td>\n",
       "      <td>0.076501</td>\n",
       "      <td>0.972522</td>\n",
       "      <td>00:59</td>\n",
       "    </tr>\n",
       "  </tbody>\n",
       "</table>"
      ],
      "text/plain": [
       "<IPython.core.display.HTML object>"
      ]
     },
     "metadata": {},
     "output_type": "display_data"
    }
   ],
   "source": [
    "path = untar_data(URLs.MNIST_SAMPLE)\n",
    "data = ImageDataBunch.from_folder(path)\n",
    "learn = Learner(data, simple_cnn((3,16,16,2)), metrics=accuracy)\n",
    "fit_sgd_warm(learn, 3, 1e-3, 0.9, 1, 2)"
   ]
  },
  {
   "cell_type": "code",
   "execution_count": 4,
   "metadata": {},
   "outputs": [
    {
     "data": {
      "image/png": "[encoded data removed]",
      "text/plain": [
       "<Figure size 432x288 with 1 Axes>"
      ]
     },
     "metadata": {
      "needs_background": "light"
     },
     "output_type": "display_data"
    }
   ],
   "source": [
    "learn.recorder.plot_lr()"
   ]
  },
  {
   "cell_type": "markdown",
   "metadata": {},
   "source": [
    "### class GeneralScheduler\n",
    "`GeneralScheduler(learn:Learner, phases:Collection[TrainingPhase], start_epoch:int=None) :: LearnerCallback`\n",
    "\n",
    "为学习者安排多个TrainingPhase。\n",
    "\n",
    "### Callback methods\n",
    "你不要自己调用 - 他们会被fastai的Callback系统自动调用，以启用该类的功能。\n",
    "\n",
    "<b>on_batch_end</b>\n",
    "\n",
    "`on_batch_end(train, **kwargs:Any)`\n",
    "\n",
    "在当前阶段迈出一步，为下一批准备超参数。\n",
    "\n",
    "<b>on_train_begin</b>\n",
    "\n",
    "`on_train_begin(epoch:int, **kwargs:Any)`\n",
    "\n",
    "启动超参数到第一阶段的起始值。"
   ]
  },
  {
   "cell_type": "code",
   "execution_count": null,
   "metadata": {},
   "outputs": [],
   "source": []
  }
 ],
 "metadata": {
  "kernelspec": {
   "display_name": "Python 3",
   "language": "python",
   "name": "python3"
  },
  "language_info": {
   "codemirror_mode": {
    "name": "ipython",
    "version": 3
   },
   "file_extension": ".py",
   "mimetype": "text/x-python",
   "name": "python",
   "nbconvert_exporter": "python",
   "pygments_lexer": "ipython3",
   "version": "3.6.7"
  }
 },
 "nbformat": 4,
 "nbformat_minor": 2
}
