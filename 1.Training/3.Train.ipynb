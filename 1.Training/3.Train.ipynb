{
 "cells": [
  {
   "cell_type": "code",
   "execution_count": 1,
   "metadata": {},
   "outputs": [],
   "source": [
    "from fastai.vision import *\n",
    "from fastai.basics import *\n",
    "from fastai.callbacks import *"
   ]
  },
  {
   "cell_type": "markdown",
   "metadata": {},
   "source": [
    "## Additional training functions\n",
    "\n",
    "train提供了许多扩展方法，这些方法被添加到Learner（参见下面的列表和详细信息），以及三个简单的回调：\n",
    "\n",
    "* ShowGraph\n",
    "* GradientClipping\n",
    "* BnFreeze\n",
    "* AccumulateScheduler"
   ]
  },
  {
   "cell_type": "markdown",
   "metadata": {},
   "source": [
    "## Learner扩展方法\n",
    "这些方法会自动添加到导入此模块后创建的所有Learner对象中。 它们提供了对许多回调的方便访问，而无需手动创建它们。\n",
    "\n",
    "<b>fit_one_cycle</b>\n",
    "\n",
    "`fit_one_cycle(learn:Learner, cyc_len:int, max_lr:Union[float, Collection[float], slice]=slice(None, 0.003, None), moms:Point=(0.95, 0.85), div_factor:float=25.0, pct_start:float=0.3, final_div:float=None, wd:float=None, callbacks:Optional[Collection[Callback]]=None, tot_epochs:int=None, start_epoch:int=None)`\n",
    "\n",
    "按照1 cycle policy拟合模型。\n",
    "\n",
    "<b>one_cycle_scheduler</b>\n",
    "\n",
    "`one_cycle_scheduler(lr_max:float, **kwargs:Any) → OneCycleScheduler`\n",
    "\n",
    "使用lr_max实例化OneCycleScheduler。\n",
    "\n",
    "有关详细信息，请参阅OneCycleScheduler。\n",
    "\n",
    "<b>lr_find</b>\n",
    "\n",
    "`lr_find(learn:Learner, start_lr:Floats=1e-07, end_lr:Floats=10, num_it:int=100, stop_div:bool=True, wd:float=None)`\n",
    "\n",
    "在学习中通过num_it迭代从start_lr到end_lr探索lr。 如果stop_div，当损失发散时停止。\n",
    "\n",
    "<b>to_fp16</b>\n",
    "\n",
    "`to_fp16(learn:Learner, loss_scale:float=None, max_noskip:int=1000, dynamic:bool=True, clip:float=None, flat_master:bool=False, max_scale:float=16777216) → Learner`\n",
    "\n",
    "学习FP16精度模式。\n",
    "\n",
    "<b>to_fp32</b>\n",
    "\n",
    "`to_fp32(learn:Learner)`\n",
    "\n",
    "将学习回到FP32精度模式。\n",
    "\n",
    "<b>mixup</b>\n",
    "\n",
    "`mixup(learn:Learner, alpha:float=0.4, stack_x:bool=False, stack_y:bool=True) → Learner`\n",
    "\n",
    "添加mixup https://arxiv.org/abs/1710.09412\n",
    "\n",
    "有关详细信息，请参阅MixUpCallback。"
   ]
  },
  {
   "cell_type": "markdown",
   "metadata": {},
   "source": [
    "## class Interpretation\n",
    "`Interpretation(learn:Learner, preds:Tensor, y_true:Tensor, losses:Tensor, ds_type:DatasetType=<DatasetType.Valid: 2>)`\n",
    "\n",
    "解释基类，可以继承任务特定的解释类\n",
    "\n",
    "<b>from_learner</b>\n",
    "\n",
    "`from_learner(learn:Learner, ds_type:DatasetType=<DatasetType.Valid: 2>)`\n",
    "\n",
    "获取preds，y_true，loss以从`Learner`构造基类\n",
    "\n",
    "<b>top_losses</b>\n",
    "\n",
    "`top_losses(k:int=None, largest=True)`\n",
    "\n",
    "k最大（/最小）损失和指数，默认为所有损失（按最大值排序）。\n",
    "\n",
    "例如，在ClassificationInterpretation中使用argmax on preds来设置self.pred_class，而可选的sigmoid用于MultilabelClassificationInterpretation"
   ]
  },
  {
   "cell_type": "markdown",
   "metadata": {},
   "source": [
    "## class ClassificationInterpretation\n",
    "\n",
    "`ClassificationInterpretation(learn:Learner, preds:Tensor, y_true:Tensor, losses:Tensor, ds_type:DatasetType=<DatasetType.Valid: 2>) :: Interpretation`\n",
    "\n",
    "分类模型的解释方法。"
   ]
  },
  {
   "cell_type": "code",
   "execution_count": 2,
   "metadata": {},
   "outputs": [],
   "source": [
    "path = untar_data(URLs.MNIST_SAMPLE)\n",
    "data = ImageDataBunch.from_folder(path)\n",
    "learn = cnn_learner(data, models.resnet18)\n",
    "learn.fit(1)\n",
    "preds,y,losses = learn.get_preds(with_loss=True)\n",
    "interp = ClassificationInterpretation(learn, preds, y, losses)"
   ]
  },
  {
   "cell_type": "markdown",
   "metadata": {},
   "source": [
    "<b>top_losses</b>\n",
    "\n",
    "`top_losses(k:int=None, largest=True)`\n",
    "\n",
    "k最大（/最小）损失和指数，默认为所有损失（按最大值排序）。"
   ]
  },
  {
   "cell_type": "code",
   "execution_count": 4,
   "metadata": {},
   "outputs": [
    {
     "data": {
      "text/plain": [
       "torch.return_types.topk(\n",
       "values=tensor([8.2370, 6.6720, 5.6991, 4.8800, 4.1414]),\n",
       "indices=tensor([1282,  100,   69, 1999,  513]))"
      ]
     },
     "execution_count": 4,
     "metadata": {},
     "output_type": "execute_result"
    }
   ],
   "source": [
    "interp.top_losses(5)"
   ]
  },
  {
   "cell_type": "markdown",
   "metadata": {},
   "source": [
    "<b>plot_confusion_matrix</b>\n",
    "\n",
    "`plot_confusion_matrix(normalize:bool=False, title:str='Confusion matrix', cmap:Any='Blues', slice_size:int=1, norm_dec:int=2, plot_txt:bool=True, return_fig:bool=None, **kwargs) → Optional[Figure]`\n",
    "\n",
    "用标题和使用cmap绘制混淆矩阵。\n",
    "\n",
    "如果标准化，则使用norm_dec数字绘制百分比。 如果您的集合太大，slice_size可用于避免内存不足错误。 kwargs传递给plt.figure。"
   ]
  },
  {
   "cell_type": "code",
   "execution_count": 5,
   "metadata": {},
   "outputs": [
    {
     "data": {
      "image/png": "[encoded data removed]",
      "text/plain": [
       "<Figure size 432x288 with 1 Axes>"
      ]
     },
     "metadata": {
      "needs_background": "light"
     },
     "output_type": "display_data"
    }
   ],
   "source": [
    "interp.plot_confusion_matrix()"
   ]
  },
  {
   "cell_type": "markdown",
   "metadata": {},
   "source": [
    "<b>confusion_matrix</b>\n",
    "\n",
    "`confusion_matrix(slice_size:int=1)`\n",
    "\n",
    "混淆矩阵作为np.ndarray。"
   ]
  },
  {
   "cell_type": "code",
   "execution_count": 7,
   "metadata": {},
   "outputs": [
    {
     "data": {
      "text/plain": [
       "array([[ 978,   32],\n",
       "       [  21, 1007]], dtype=int64)"
      ]
     },
     "execution_count": 7,
     "metadata": {},
     "output_type": "execute_result"
    }
   ],
   "source": [
    "interp.confusion_matrix()"
   ]
  },
  {
   "cell_type": "markdown",
   "metadata": {},
   "source": [
    "<b>most_confused</b>\n",
    "\n",
    "`most_confused(min_val:int=1, slice_size:int=1) → Collection[Tuple[str, str, int]]`\n",
    "\n",
    "排序混淆矩阵的最大非对角条目的下降列表，表示为实际，预测，出现次数。"
   ]
  },
  {
   "cell_type": "code",
   "execution_count": 9,
   "metadata": {},
   "outputs": [
    {
     "data": {
      "text/plain": [
       "[('3', '7', 32), ('7', '3', 21)]"
      ]
     },
     "execution_count": 9,
     "metadata": {},
     "output_type": "execute_result"
    }
   ],
   "source": [
    "interp.most_confused()"
   ]
  },
  {
   "cell_type": "markdown",
   "metadata": {},
   "source": [
    "## Additional callbacks\n",
    "我们将使用我们的MNIST样本显示以下示例。 像往常一样，on_something方法由fastai库直接调用，无需自己调用它们。"
   ]
  },
  {
   "cell_type": "code",
   "execution_count": 10,
   "metadata": {},
   "outputs": [],
   "source": [
    "path = untar_data(URLs.MNIST_SAMPLE)\n",
    "data = ImageDataBunch.from_folder(path)"
   ]
  },
  {
   "cell_type": "markdown",
   "metadata": {},
   "source": [
    "<b>class ShowGraph</b>\n",
    "\n",
    "`ShowGraph(learn) :: LearnerCallback`\n",
    "\n",
    "在每个epoch后更新学习者统计数据和指标的图表。"
   ]
  },
  {
   "cell_type": "code",
   "execution_count": 11,
   "metadata": {},
   "outputs": [
    {
     "data": {
      "text/html": [
       "<table border=\"1\" class=\"dataframe\">\n",
       "  <thead>\n",
       "    <tr style=\"text-align: left;\">\n",
       "      <th>epoch</th>\n",
       "      <th>train_loss</th>\n",
       "      <th>valid_loss</th>\n",
       "      <th>accuracy</th>\n",
       "      <th>time</th>\n",
       "    </tr>\n",
       "  </thead>\n",
       "  <tbody>\n",
       "    <tr>\n",
       "      <td>0</td>\n",
       "      <td>0.144328</td>\n",
       "      <td>0.083137</td>\n",
       "      <td>0.971541</td>\n",
       "      <td>01:09</td>\n",
       "    </tr>\n",
       "    <tr>\n",
       "      <td>1</td>\n",
       "      <td>0.082446</td>\n",
       "      <td>0.057601</td>\n",
       "      <td>0.981845</td>\n",
       "      <td>01:09</td>\n",
       "    </tr>\n",
       "    <tr>\n",
       "      <td>2</td>\n",
       "      <td>0.054432</td>\n",
       "      <td>0.039774</td>\n",
       "      <td>0.986261</td>\n",
       "      <td>01:08</td>\n",
       "    </tr>\n",
       "  </tbody>\n",
       "</table>"
      ],
      "text/plain": [
       "<IPython.core.display.HTML object>"
      ]
     },
     "metadata": {},
     "output_type": "display_data"
    },
    {
     "data": {
      "image/png": "[encoded data removed]",
      "text/plain": [
       "<Figure size 432x288 with 1 Axes>"
      ]
     },
     "metadata": {},
     "output_type": "display_data"
    }
   ],
   "source": [
    "learn = cnn_learner(data, models.resnet18, metrics=accuracy, callback_fns=ShowGraph)\n",
    "learn.fit(3)"
   ]
  },
  {
   "cell_type": "markdown",
   "metadata": {},
   "source": [
    "<b>on_epoch_end</b>\n",
    "\n",
    "`on_epoch_end(n_epochs:int, last_metrics:MetricsList, **kwargs) → bool`\n",
    "\n",
    "如果我们有last_metrics在我们的pbar图中绘制它们"
   ]
  },
  {
   "cell_type": "markdown",
   "metadata": {},
   "source": [
    "## class GradientClipping\n",
    "\n",
    "`GradientClipping(learn:Learner, clip:float=0.0) :: LearnerCallback`\n",
    "\n",
    "在训练期间的梯度剪报。"
   ]
  },
  {
   "cell_type": "code",
   "execution_count": 12,
   "metadata": {},
   "outputs": [
    {
     "data": {
      "text/html": [
       "<table border=\"1\" class=\"dataframe\">\n",
       "  <thead>\n",
       "    <tr style=\"text-align: left;\">\n",
       "      <th>epoch</th>\n",
       "      <th>train_loss</th>\n",
       "      <th>valid_loss</th>\n",
       "      <th>accuracy</th>\n",
       "      <th>time</th>\n",
       "    </tr>\n",
       "  </thead>\n",
       "  <tbody>\n",
       "    <tr>\n",
       "      <td>0</td>\n",
       "      <td>0.134692</td>\n",
       "      <td>0.087045</td>\n",
       "      <td>0.972522</td>\n",
       "      <td>01:10</td>\n",
       "    </tr>\n",
       "  </tbody>\n",
       "</table>"
      ],
      "text/plain": [
       "<IPython.core.display.HTML object>"
      ]
     },
     "metadata": {},
     "output_type": "display_data"
    }
   ],
   "source": [
    "learn = cnn_learner(data, models.resnet18, metrics=accuracy,\n",
    "    callback_fns=partial(GradientClipping, clip=0.1))\n",
    "learn.fit(1)"
   ]
  },
  {
   "cell_type": "markdown",
   "metadata": {},
   "source": [
    "<b>on_backward_end</b>\n",
    "\n",
    "`on_backward_end(**kwargs)`\n",
    "\n",
    "在优化程序步骤之前剪切渐变。"
   ]
  },
  {
   "cell_type": "markdown",
   "metadata": {},
   "source": [
    "## class BnFreeze\n",
    "`BnFreeze(learn) :: LearnerCallback`\n",
    "\n",
    "冻结所有不可训练的batchnorm层中的移动平均统计数据。\n",
    "\n",
    "对于requires_grad == False的batchnorm图层，您通常不希望更新其移动平均值统计信息，以避免模型的统计信息与其预先训练的权重不同步。 您可以添加此回调以自动冻结统计信息（在内部，它会在这些图层上调用eval）。"
   ]
  },
  {
   "cell_type": "code",
   "execution_count": 13,
   "metadata": {},
   "outputs": [
    {
     "data": {
      "text/html": [
       "<table border=\"1\" class=\"dataframe\">\n",
       "  <thead>\n",
       "    <tr style=\"text-align: left;\">\n",
       "      <th>epoch</th>\n",
       "      <th>train_loss</th>\n",
       "      <th>valid_loss</th>\n",
       "      <th>accuracy</th>\n",
       "      <th>time</th>\n",
       "    </tr>\n",
       "  </thead>\n",
       "  <tbody>\n",
       "    <tr>\n",
       "      <td>0</td>\n",
       "      <td>0.139395</td>\n",
       "      <td>0.082107</td>\n",
       "      <td>0.969087</td>\n",
       "      <td>01:08</td>\n",
       "    </tr>\n",
       "  </tbody>\n",
       "</table>"
      ],
      "text/plain": [
       "<IPython.core.display.HTML object>"
      ]
     },
     "metadata": {},
     "output_type": "display_data"
    }
   ],
   "source": [
    "learn = cnn_learner(data, models.resnet18, metrics=accuracy, callback_fns=BnFreeze)\n",
    "learn.fit(1)"
   ]
  },
  {
   "cell_type": "markdown",
   "metadata": {},
   "source": [
    "<b>on_epoch_begin</b>\n",
    "\n",
    "`on_epoch_begin(**kwargs:Any)`\n",
    "\n",
    "在model.train（）之后将bn图层放入eval模式。"
   ]
  },
  {
   "cell_type": "markdown",
   "metadata": {},
   "source": [
    "## class AccumulateScheduler\n",
    "`AccumulateScheduler(learn:Learner, n_step:int=1, drop_last:bool=False) :: LearnerCallback`\n",
    "\n",
    "通过累积渐变，每隔n步累积一步\n",
    "\n",
    "让我们强制batch_size = 2模仿我们无法将足够的批量样本放入内存的场景。 然后我们可以根据需要设置n_step，以获得有效的batch_size为effective_batch_size = batch_size * n_step。\n",
    "\n",
    "使用reduce func with reduce ='sum'以计算精确的平均累积梯度也很重要。\n",
    "\n",
    "用户的另一个重要注意事项是，batchnorm尚未适应累积的渐变。 所以你应该使用这个回调你自己承担风险，直到英雄修复它:)\n",
    "\n",
    "在这里，我们使用没有batchnorm图层的模型演示此回调，或者您可以使用nn.InstanceNorm或nn.GroupNorm。"
   ]
  },
  {
   "cell_type": "code",
   "execution_count": null,
   "metadata": {},
   "outputs": [],
   "source": [
    "from torchvision.models import vgg11\n",
    "\n",
    "data = ImageDataBunch.from_folder(path, bs=2)\n",
    "\n",
    "learn = cnn_learner(data, resnet18, metrics=accuracy, loss_func=CrossEntropyFlat(reduction='sum'),\n",
    "                    callback_fns=partial(AccumulateScheduler, n_step=16))\n",
    "learn.fit(1)"
   ]
  },
  {
   "cell_type": "code",
   "execution_count": null,
   "metadata": {},
   "outputs": [],
   "source": []
  }
 ],
 "metadata": {
  "kernelspec": {
   "display_name": "Python 3",
   "language": "python",
   "name": "python3"
  },
  "language_info": {
   "codemirror_mode": {
    "name": "ipython",
    "version": 3
   },
   "file_extension": ".py",
   "mimetype": "text/x-python",
   "name": "python",
   "nbconvert_exporter": "python",
   "pygments_lexer": "ipython3",
   "version": "3.6.7"
  }
 },
 "nbformat": 4,
 "nbformat_minor": 2
}
