{
 "cells": [
  {
   "cell_type": "markdown",
   "metadata": {},
   "source": [
    "## 电脑视觉模型动物园\n",
    "\n",
    "除了torchvision提供的模型之外，fastai库还具有以下模型的实现：\n",
    "\n",
    "* Darknet架构，是Yolo v3的基础\n",
    "* Unet架构基于预训练模型。 这里描述了原始的unet，model.unet中详细介绍了模型的实现\n",
    "* 本文介绍的广泛的resnet体系结构。"
   ]
  },
  {
   "cell_type": "markdown",
   "metadata": {},
   "source": [
    "---"
   ]
  },
  {
   "cell_type": "markdown",
   "metadata": {},
   "source": [
    "## class Darknet\n",
    "\n",
    "`Darknet(*args, **kwargs) :: PrePostInitMeta :: Module`\n",
    "\n",
    "https://github.com/pjreddie/darknet\n",
    "\n",
    "使用num_blocks中给出的块大小创建Darknet，以num_classes结尾并使用nf初始功能。 Darknet53使用num_blocks = [1,2,8,8,4]。"
   ]
  },
  {
   "cell_type": "markdown",
   "metadata": {},
   "source": [
    "---"
   ]
  },
  {
   "cell_type": "markdown",
   "metadata": {},
   "source": [
    "## class WideResNet\n",
    "\n",
    "`WideResNet(*args, **kwargs) :: PrePostInitMeta :: Module`\n",
    "\n",
    "具有num_groups且宽度为k的Wide ResNet。\n",
    "\n",
    "每组包含N个块。 start_nf初始功能的数量。 drop_p的丢失应用于每个块中的两个卷积之间。 预期的输入通道大小固定为3。\n",
    "\n",
    "结构：初始卷积 - > num_groups x N个块 - >正则化和汇集的最终层\n",
    "\n",
    "每个组的第一个块连接一个包含2个卷积的路径，滤波器大小为3x3（和各种正则化），另一个路径包含一个滤波器大小为1x1的单个卷积。 每个组中的所有其他块遵循更传统的res_block样式，即，具有两个conv的路径的输入被添加到该路径的输出。\n",
    "\n",
    "在第一组中，对于所有卷积，步幅为1。 在所有后续组中，第一个块的第一个卷积中的步幅为2，然后所有后续卷积的步幅为1.填充始终为1。\n",
    "\n",
    "**wrn_22**\n",
    "\n",
    "`wrn_22()`\n",
    "\n",
    "宽ResNet 22层。\n",
    "\n",
    "这是一个WideResNet，num_groups = 3，N = 3，k = 6，drop_p = 0 "
   ]
  },
  {
   "cell_type": "code",
   "execution_count": null,
   "metadata": {},
   "outputs": [],
   "source": []
  }
 ],
 "metadata": {
  "kernelspec": {
   "display_name": "Python 3",
   "language": "python",
   "name": "python3"
  },
  "language_info": {
   "codemirror_mode": {
    "name": "ipython",
    "version": 3
   },
   "file_extension": ".py",
   "mimetype": "text/x-python",
   "name": "python",
   "nbconvert_exporter": "python",
   "pygments_lexer": "ipython3",
   "version": "3.6.7"
  }
 },
 "nbformat": 4,
 "nbformat_minor": 2
}
