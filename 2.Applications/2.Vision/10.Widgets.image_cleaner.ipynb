{
 "cells": [
  {
   "cell_type": "markdown",
   "metadata": {},
   "source": [
    "# 图像清洁小工具\n",
    "fastai提供了几个小工具来支持深度学习从业者的工作流程。 小部件的目的是帮助您组织，清理和准备模型的数据。 窗口小部件按数据类型分隔。"
   ]
  },
  {
   "cell_type": "code",
   "execution_count": 9,
   "metadata": {},
   "outputs": [],
   "source": [
    "from fastai.vision import *\n",
    "from fastai.basics import *\n",
    "from fastai.callbacks import *\n",
    "from fastai.widgets import *"
   ]
  },
  {
   "cell_type": "code",
   "execution_count": 2,
   "metadata": {},
   "outputs": [],
   "source": [
    "path = untar_data(URLs.MNIST_SAMPLE)\n",
    "data = ImageDataBunch.from_folder(path)"
   ]
  },
  {
   "cell_type": "code",
   "execution_count": 3,
   "metadata": {},
   "outputs": [],
   "source": [
    "learn = cnn_learner(data, models.resnet18, metrics=error_rate)"
   ]
  },
  {
   "cell_type": "code",
   "execution_count": 4,
   "metadata": {},
   "outputs": [
    {
     "data": {
      "text/html": [
       "<table border=\"1\" class=\"dataframe\">\n",
       "  <thead>\n",
       "    <tr style=\"text-align: left;\">\n",
       "      <th>epoch</th>\n",
       "      <th>train_loss</th>\n",
       "      <th>valid_loss</th>\n",
       "      <th>error_rate</th>\n",
       "      <th>time</th>\n",
       "    </tr>\n",
       "  </thead>\n",
       "  <tbody>\n",
       "    <tr>\n",
       "      <td>0</td>\n",
       "      <td>0.186349</td>\n",
       "      <td>0.102232</td>\n",
       "      <td>0.035329</td>\n",
       "      <td>01:21</td>\n",
       "    </tr>\n",
       "    <tr>\n",
       "      <td>1</td>\n",
       "      <td>0.099124</td>\n",
       "      <td>0.081136</td>\n",
       "      <td>0.025515</td>\n",
       "      <td>01:16</td>\n",
       "    </tr>\n",
       "  </tbody>\n",
       "</table>"
      ],
      "text/plain": [
       "<IPython.core.display.HTML object>"
      ]
     },
     "metadata": {},
     "output_type": "display_data"
    }
   ],
   "source": [
    "learn.fit_one_cycle(2)"
   ]
  },
  {
   "cell_type": "code",
   "execution_count": 5,
   "metadata": {},
   "outputs": [],
   "source": [
    "learn.save('stage-1')"
   ]
  },
  {
   "cell_type": "markdown",
   "metadata": {},
   "source": [
    "我们使用训练集中的所有数据创建一个databunch，并且没有验证集（DatasetFormatter仅使用训练集）"
   ]
  },
  {
   "cell_type": "code",
   "execution_count": 6,
   "metadata": {},
   "outputs": [],
   "source": [
    "db = (ImageList.from_folder(path)\n",
    "                   .split_none()\n",
    "                   .label_from_folder()\n",
    "                   .databunch())"
   ]
  },
  {
   "cell_type": "code",
   "execution_count": 7,
   "metadata": {},
   "outputs": [],
   "source": [
    "learn = cnn_learner(db, models.resnet18, metrics=[accuracy])\n",
    "learn.load('stage-1');"
   ]
  },
  {
   "cell_type": "markdown",
   "metadata": {},
   "source": [
    "---"
   ]
  },
  {
   "cell_type": "markdown",
   "metadata": {},
   "source": [
    "## class DatasetFormatter\n",
    "\n",
    "`DatasetFormatter()`\n",
    "\n",
    "返回具有要显示的相应格式和文件索引的数据集。\n",
    "\n",
    "DatasetFormatter类通过返回基于指定的DatasetType的格式化DatasetTfm来为小部件准备图像数据集。 使用from_toplosses直接从学习者那里获取最有问题的图像。 （可选）您可以将返回的格式化数据集限制为n_imgs。\n",
    "\n",
    "**from_similars**\n",
    "\n",
    "`from_similars(learn, layer_ls:list=[0, 7, 2], **kwargs)`\n",
    "\n",
    "获取最相似图像的索引。\n",
    "\n",
    "**from_toplosses**\n",
    "\n",
    "`from_toplosses(learn, n_imgs=None, **kwargs)`\n",
    "\n",
    "获得最高损失的指数。"
   ]
  },
  {
   "cell_type": "markdown",
   "metadata": {},
   "source": [
    "---"
   ]
  },
  {
   "cell_type": "markdown",
   "metadata": {},
   "source": [
    "## class ImageCleaner\n",
    "\n",
    "`ImageCleaner(dataset, fns_idxs, path, batch_size:int=5, duplicates=False)`\n",
    "\n",
    "显示用于重新标记或删除的图像，并将路径中的更改保存为“cleaning.csv”。\n",
    "\n",
    "ImageCleaner用于清理不属于数据集的图像。 它将图像连续呈现，并为您提供从文件系统中删除文件的机会。 要使用ImageCleaner，我们必须首先使用DatasetFormatter（）。from_toplosses来获取错误分类图像的建议索引。"
   ]
  },
  {
   "cell_type": "code",
   "execution_count": 10,
   "metadata": {},
   "outputs": [],
   "source": [
    "ds, idxs = DatasetFormatter().from_toplosses(learn)"
   ]
  },
  {
   "cell_type": "code",
   "execution_count": 11,
   "metadata": {},
   "outputs": [
    {
     "data": {
      "application/vnd.jupyter.widget-view+json": {
       "model_id": "357f6203eb114cb78af3c61e99b94b35",
       "version_major": 2,
       "version_minor": 0
      },
      "text/plain": [
       "HBox(children=(VBox(children=(Image(value=b'\\xff\\xd8\\xff\\xe0\\x00\\x10JFIF\\x00\\x01\\x01\\x01\\x00d\\x00d\\x00\\x00\\xff…"
      ]
     },
     "metadata": {},
     "output_type": "display_data"
    },
    {
     "data": {
      "application/vnd.jupyter.widget-view+json": {
       "model_id": "a6960076b8bd40f2b272f0aa97de4986",
       "version_major": 2,
       "version_minor": 0
      },
      "text/plain": [
       "Button(button_style='primary', description='Next Batch', layout=Layout(width='auto'), style=ButtonStyle())"
      ]
     },
     "metadata": {},
     "output_type": "display_data"
    }
   ],
   "source": [
    "ImageCleaner(ds, idxs, path)"
   ]
  },
  {
   "cell_type": "markdown",
   "metadata": {},
   "source": [
    "ImageCleaner不会更改磁盘上的任何内容（标签或图像的存在）。 相反，它会在您的数据路径中创建一个'cleaning.csv'文件，您需要从该文件中为文件加载新的数据清单以应用更改。"
   ]
  },
  {
   "cell_type": "code",
   "execution_count": 15,
   "metadata": {},
   "outputs": [
    {
     "data": {
      "text/html": [
       "<div>\n",
       "<style scoped>\n",
       "    .dataframe tbody tr th:only-of-type {\n",
       "        vertical-align: middle;\n",
       "    }\n",
       "\n",
       "    .dataframe tbody tr th {\n",
       "        vertical-align: top;\n",
       "    }\n",
       "\n",
       "    .dataframe thead th {\n",
       "        text-align: right;\n",
       "    }\n",
       "</style>\n",
       "<table border=\"1\" class=\"dataframe\">\n",
       "  <thead>\n",
       "    <tr style=\"text-align: right;\">\n",
       "      <th></th>\n",
       "      <th>name</th>\n",
       "      <th>label</th>\n",
       "    </tr>\n",
       "  </thead>\n",
       "  <tbody>\n",
       "    <tr>\n",
       "      <th>0</th>\n",
       "      <td>train\\3\\10.png</td>\n",
       "      <td>3</td>\n",
       "    </tr>\n",
       "    <tr>\n",
       "      <th>1</th>\n",
       "      <td>train\\3\\10000.png</td>\n",
       "      <td>3</td>\n",
       "    </tr>\n",
       "    <tr>\n",
       "      <th>2</th>\n",
       "      <td>train\\3\\10011.png</td>\n",
       "      <td>3</td>\n",
       "    </tr>\n",
       "    <tr>\n",
       "      <th>3</th>\n",
       "      <td>train\\3\\10031.png</td>\n",
       "      <td>3</td>\n",
       "    </tr>\n",
       "    <tr>\n",
       "      <th>4</th>\n",
       "      <td>train\\3\\10034.png</td>\n",
       "      <td>3</td>\n",
       "    </tr>\n",
       "    <tr>\n",
       "      <th>5</th>\n",
       "      <td>train\\3\\10042.png</td>\n",
       "      <td>3</td>\n",
       "    </tr>\n",
       "    <tr>\n",
       "      <th>6</th>\n",
       "      <td>train\\3\\10052.png</td>\n",
       "      <td>3</td>\n",
       "    </tr>\n",
       "    <tr>\n",
       "      <th>7</th>\n",
       "      <td>train\\3\\1007.png</td>\n",
       "      <td>3</td>\n",
       "    </tr>\n",
       "    <tr>\n",
       "      <th>8</th>\n",
       "      <td>train\\3\\10074.png</td>\n",
       "      <td>3</td>\n",
       "    </tr>\n",
       "    <tr>\n",
       "      <th>9</th>\n",
       "      <td>train\\3\\10091.png</td>\n",
       "      <td>3</td>\n",
       "    </tr>\n",
       "    <tr>\n",
       "      <th>10</th>\n",
       "      <td>train\\3\\10093.png</td>\n",
       "      <td>3</td>\n",
       "    </tr>\n",
       "    <tr>\n",
       "      <th>11</th>\n",
       "      <td>train\\3\\10097.png</td>\n",
       "      <td>3</td>\n",
       "    </tr>\n",
       "    <tr>\n",
       "      <th>12</th>\n",
       "      <td>train\\3\\10099.png</td>\n",
       "      <td>3</td>\n",
       "    </tr>\n",
       "    <tr>\n",
       "      <th>13</th>\n",
       "      <td>train\\3\\10116.png</td>\n",
       "      <td>3</td>\n",
       "    </tr>\n",
       "    <tr>\n",
       "      <th>14</th>\n",
       "      <td>train\\3\\10125.png</td>\n",
       "      <td>3</td>\n",
       "    </tr>\n",
       "    <tr>\n",
       "      <th>15</th>\n",
       "      <td>train\\3\\10137.png</td>\n",
       "      <td>3</td>\n",
       "    </tr>\n",
       "    <tr>\n",
       "      <th>16</th>\n",
       "      <td>train\\3\\10141.png</td>\n",
       "      <td>3</td>\n",
       "    </tr>\n",
       "    <tr>\n",
       "      <th>17</th>\n",
       "      <td>train\\3\\10144.png</td>\n",
       "      <td>3</td>\n",
       "    </tr>\n",
       "    <tr>\n",
       "      <th>18</th>\n",
       "      <td>train\\3\\10155.png</td>\n",
       "      <td>3</td>\n",
       "    </tr>\n",
       "    <tr>\n",
       "      <th>19</th>\n",
       "      <td>train\\3\\10161.png</td>\n",
       "      <td>3</td>\n",
       "    </tr>\n",
       "    <tr>\n",
       "      <th>20</th>\n",
       "      <td>train\\3\\10206.png</td>\n",
       "      <td>3</td>\n",
       "    </tr>\n",
       "    <tr>\n",
       "      <th>21</th>\n",
       "      <td>train\\3\\1021.png</td>\n",
       "      <td>3</td>\n",
       "    </tr>\n",
       "    <tr>\n",
       "      <th>22</th>\n",
       "      <td>train\\3\\10210.png</td>\n",
       "      <td>3</td>\n",
       "    </tr>\n",
       "    <tr>\n",
       "      <th>23</th>\n",
       "      <td>train\\3\\10214.png</td>\n",
       "      <td>3</td>\n",
       "    </tr>\n",
       "    <tr>\n",
       "      <th>24</th>\n",
       "      <td>train\\3\\10238.png</td>\n",
       "      <td>3</td>\n",
       "    </tr>\n",
       "    <tr>\n",
       "      <th>25</th>\n",
       "      <td>train\\3\\10260.png</td>\n",
       "      <td>3</td>\n",
       "    </tr>\n",
       "    <tr>\n",
       "      <th>26</th>\n",
       "      <td>train\\3\\10278.png</td>\n",
       "      <td>3</td>\n",
       "    </tr>\n",
       "    <tr>\n",
       "      <th>27</th>\n",
       "      <td>train\\3\\10282.png</td>\n",
       "      <td>3</td>\n",
       "    </tr>\n",
       "    <tr>\n",
       "      <th>28</th>\n",
       "      <td>train\\3\\10314.png</td>\n",
       "      <td>3</td>\n",
       "    </tr>\n",
       "    <tr>\n",
       "      <th>29</th>\n",
       "      <td>train\\3\\10322.png</td>\n",
       "      <td>3</td>\n",
       "    </tr>\n",
       "    <tr>\n",
       "      <th>...</th>\n",
       "      <td>...</td>\n",
       "      <td>...</td>\n",
       "    </tr>\n",
       "    <tr>\n",
       "      <th>14397</th>\n",
       "      <td>valid\\7\\9771.png</td>\n",
       "      <td>7</td>\n",
       "    </tr>\n",
       "    <tr>\n",
       "      <th>14398</th>\n",
       "      <td>valid\\7\\9773.png</td>\n",
       "      <td>7</td>\n",
       "    </tr>\n",
       "    <tr>\n",
       "      <th>14399</th>\n",
       "      <td>valid\\7\\9781.png</td>\n",
       "      <td>7</td>\n",
       "    </tr>\n",
       "    <tr>\n",
       "      <th>14400</th>\n",
       "      <td>valid\\7\\9788.png</td>\n",
       "      <td>7</td>\n",
       "    </tr>\n",
       "    <tr>\n",
       "      <th>14401</th>\n",
       "      <td>valid\\7\\9806.png</td>\n",
       "      <td>7</td>\n",
       "    </tr>\n",
       "    <tr>\n",
       "      <th>14402</th>\n",
       "      <td>valid\\7\\9816.png</td>\n",
       "      <td>7</td>\n",
       "    </tr>\n",
       "    <tr>\n",
       "      <th>14403</th>\n",
       "      <td>valid\\7\\9823.png</td>\n",
       "      <td>7</td>\n",
       "    </tr>\n",
       "    <tr>\n",
       "      <th>14404</th>\n",
       "      <td>valid\\7\\9837.png</td>\n",
       "      <td>7</td>\n",
       "    </tr>\n",
       "    <tr>\n",
       "      <th>14405</th>\n",
       "      <td>valid\\7\\9851.png</td>\n",
       "      <td>7</td>\n",
       "    </tr>\n",
       "    <tr>\n",
       "      <th>14406</th>\n",
       "      <td>valid\\7\\9852.png</td>\n",
       "      <td>7</td>\n",
       "    </tr>\n",
       "    <tr>\n",
       "      <th>14407</th>\n",
       "      <td>valid\\7\\9859.png</td>\n",
       "      <td>7</td>\n",
       "    </tr>\n",
       "    <tr>\n",
       "      <th>14408</th>\n",
       "      <td>valid\\7\\9864.png</td>\n",
       "      <td>7</td>\n",
       "    </tr>\n",
       "    <tr>\n",
       "      <th>14409</th>\n",
       "      <td>valid\\7\\9868.png</td>\n",
       "      <td>7</td>\n",
       "    </tr>\n",
       "    <tr>\n",
       "      <th>14410</th>\n",
       "      <td>valid\\7\\9869.png</td>\n",
       "      <td>7</td>\n",
       "    </tr>\n",
       "    <tr>\n",
       "      <th>14411</th>\n",
       "      <td>valid\\7\\987.png</td>\n",
       "      <td>7</td>\n",
       "    </tr>\n",
       "    <tr>\n",
       "      <th>14412</th>\n",
       "      <td>valid\\7\\9884.png</td>\n",
       "      <td>7</td>\n",
       "    </tr>\n",
       "    <tr>\n",
       "      <th>14413</th>\n",
       "      <td>valid\\7\\9894.png</td>\n",
       "      <td>7</td>\n",
       "    </tr>\n",
       "    <tr>\n",
       "      <th>14414</th>\n",
       "      <td>valid\\7\\9895.png</td>\n",
       "      <td>7</td>\n",
       "    </tr>\n",
       "    <tr>\n",
       "      <th>14415</th>\n",
       "      <td>valid\\7\\9899.png</td>\n",
       "      <td>7</td>\n",
       "    </tr>\n",
       "    <tr>\n",
       "      <th>14416</th>\n",
       "      <td>valid\\7\\9909.png</td>\n",
       "      <td>7</td>\n",
       "    </tr>\n",
       "    <tr>\n",
       "      <th>14417</th>\n",
       "      <td>valid\\7\\9916.png</td>\n",
       "      <td>7</td>\n",
       "    </tr>\n",
       "    <tr>\n",
       "      <th>14418</th>\n",
       "      <td>valid\\7\\9919.png</td>\n",
       "      <td>7</td>\n",
       "    </tr>\n",
       "    <tr>\n",
       "      <th>14419</th>\n",
       "      <td>valid\\7\\9929.png</td>\n",
       "      <td>7</td>\n",
       "    </tr>\n",
       "    <tr>\n",
       "      <th>14420</th>\n",
       "      <td>valid\\7\\9935.png</td>\n",
       "      <td>7</td>\n",
       "    </tr>\n",
       "    <tr>\n",
       "      <th>14421</th>\n",
       "      <td>valid\\7\\9957.png</td>\n",
       "      <td>7</td>\n",
       "    </tr>\n",
       "    <tr>\n",
       "      <th>14422</th>\n",
       "      <td>valid\\7\\9958.png</td>\n",
       "      <td>7</td>\n",
       "    </tr>\n",
       "    <tr>\n",
       "      <th>14423</th>\n",
       "      <td>valid\\7\\9963.png</td>\n",
       "      <td>7</td>\n",
       "    </tr>\n",
       "    <tr>\n",
       "      <th>14424</th>\n",
       "      <td>valid\\7\\9968.png</td>\n",
       "      <td>7</td>\n",
       "    </tr>\n",
       "    <tr>\n",
       "      <th>14425</th>\n",
       "      <td>valid\\7\\9979.png</td>\n",
       "      <td>7</td>\n",
       "    </tr>\n",
       "    <tr>\n",
       "      <th>14426</th>\n",
       "      <td>valid\\7\\9990.png</td>\n",
       "      <td>7</td>\n",
       "    </tr>\n",
       "  </tbody>\n",
       "</table>\n",
       "<p>14427 rows × 2 columns</p>\n",
       "</div>"
      ],
      "text/plain": [
       "                    name  label\n",
       "0         train\\3\\10.png      3\n",
       "1      train\\3\\10000.png      3\n",
       "2      train\\3\\10011.png      3\n",
       "3      train\\3\\10031.png      3\n",
       "4      train\\3\\10034.png      3\n",
       "5      train\\3\\10042.png      3\n",
       "6      train\\3\\10052.png      3\n",
       "7       train\\3\\1007.png      3\n",
       "8      train\\3\\10074.png      3\n",
       "9      train\\3\\10091.png      3\n",
       "10     train\\3\\10093.png      3\n",
       "11     train\\3\\10097.png      3\n",
       "12     train\\3\\10099.png      3\n",
       "13     train\\3\\10116.png      3\n",
       "14     train\\3\\10125.png      3\n",
       "15     train\\3\\10137.png      3\n",
       "16     train\\3\\10141.png      3\n",
       "17     train\\3\\10144.png      3\n",
       "18     train\\3\\10155.png      3\n",
       "19     train\\3\\10161.png      3\n",
       "20     train\\3\\10206.png      3\n",
       "21      train\\3\\1021.png      3\n",
       "22     train\\3\\10210.png      3\n",
       "23     train\\3\\10214.png      3\n",
       "24     train\\3\\10238.png      3\n",
       "25     train\\3\\10260.png      3\n",
       "26     train\\3\\10278.png      3\n",
       "27     train\\3\\10282.png      3\n",
       "28     train\\3\\10314.png      3\n",
       "29     train\\3\\10322.png      3\n",
       "...                  ...    ...\n",
       "14397   valid\\7\\9771.png      7\n",
       "14398   valid\\7\\9773.png      7\n",
       "14399   valid\\7\\9781.png      7\n",
       "14400   valid\\7\\9788.png      7\n",
       "14401   valid\\7\\9806.png      7\n",
       "14402   valid\\7\\9816.png      7\n",
       "14403   valid\\7\\9823.png      7\n",
       "14404   valid\\7\\9837.png      7\n",
       "14405   valid\\7\\9851.png      7\n",
       "14406   valid\\7\\9852.png      7\n",
       "14407   valid\\7\\9859.png      7\n",
       "14408   valid\\7\\9864.png      7\n",
       "14409   valid\\7\\9868.png      7\n",
       "14410   valid\\7\\9869.png      7\n",
       "14411    valid\\7\\987.png      7\n",
       "14412   valid\\7\\9884.png      7\n",
       "14413   valid\\7\\9894.png      7\n",
       "14414   valid\\7\\9895.png      7\n",
       "14415   valid\\7\\9899.png      7\n",
       "14416   valid\\7\\9909.png      7\n",
       "14417   valid\\7\\9916.png      7\n",
       "14418   valid\\7\\9919.png      7\n",
       "14419   valid\\7\\9929.png      7\n",
       "14420   valid\\7\\9935.png      7\n",
       "14421   valid\\7\\9957.png      7\n",
       "14422   valid\\7\\9958.png      7\n",
       "14423   valid\\7\\9963.png      7\n",
       "14424   valid\\7\\9968.png      7\n",
       "14425   valid\\7\\9979.png      7\n",
       "14426   valid\\7\\9990.png      7\n",
       "\n",
       "[14427 rows x 2 columns]"
      ]
     },
     "execution_count": 15,
     "metadata": {},
     "output_type": "execute_result"
    }
   ],
   "source": [
    "df = pd.read_csv(path/'cleaned.csv', header='infer')\n",
    "df"
   ]
  },
  {
   "cell_type": "code",
   "execution_count": 16,
   "metadata": {},
   "outputs": [],
   "source": [
    "# We create a databunch from our csv. We include the data in the training set and we don't use a validation set (DatasetFormatter uses only the training set)\n",
    "np.random.seed(42)\n",
    "db = (ImageList.from_df(df, path)\n",
    "                   .split_none()\n",
    "                   .label_from_df()\n",
    "                   .databunch(bs=64))"
   ]
  },
  {
   "cell_type": "code",
   "execution_count": 17,
   "metadata": {},
   "outputs": [],
   "source": [
    "learn = cnn_learner(db, models.resnet18, metrics=error_rate)\n",
    "learn = learn.load('stage-1')"
   ]
  },
  {
   "cell_type": "markdown",
   "metadata": {},
   "source": [
    "然后，您可以再次使用ImageCleaner在数据集中查找重复项。 为此，您可以在从.from_similars获取索引和数据集后调用ImageCleaner时指定duplicates = True。 请注意，如果您正在使用具有维度（n_batches，n_features，1,1）的图层输出，那么您不需要任何池（最后一层就是这种情况）。 建议使用.from_similars（）和resnet使用最后一层而不使用池，就像在下面的单元格中一样。"
   ]
  },
  {
   "cell_type": "code",
   "execution_count": 18,
   "metadata": {},
   "outputs": [
    {
     "name": "stdout",
     "output_type": "stream",
     "text": [
      "Getting activations...\n"
     ]
    },
    {
     "data": {
      "text/html": [
       "\n",
       "    <div>\n",
       "        <style>\n",
       "            /* Turns off some styling */\n",
       "            progress {\n",
       "                /* gets rid of default border in Firefox and Opera. */\n",
       "                border: none;\n",
       "                /* Needs to be in here for Safari polyfill so background images work as expected. */\n",
       "                background-size: auto;\n",
       "            }\n",
       "            .progress-bar-interrupted, .progress-bar-interrupted::-webkit-progress-bar {\n",
       "                background: #F44336;\n",
       "            }\n",
       "        </style>\n",
       "      <progress value='226' class='' max='226', style='width:300px; height:20px; vertical-align: middle;'></progress>\n",
       "      100.00% [226/226 00:34<00:00]\n",
       "    </div>\n",
       "    "
      ],
      "text/plain": [
       "<IPython.core.display.HTML object>"
      ]
     },
     "metadata": {},
     "output_type": "display_data"
    },
    {
     "name": "stdout",
     "output_type": "stream",
     "text": [
      "Computing similarities...\n"
     ]
    }
   ],
   "source": [
    "ds, idxs = DatasetFormatter().from_similars(learn, layer_ls=[0,7,1], pool=None)"
   ]
  },
  {
   "cell_type": "code",
   "execution_count": 19,
   "metadata": {},
   "outputs": [
    {
     "data": {
      "application/vnd.jupyter.widget-view+json": {
       "model_id": "6b9cd91f39284e9692def616c00a59d7",
       "version_major": 2,
       "version_minor": 0
      },
      "text/plain": [
       "HBox(children=(VBox(children=(Image(value=b'\\xff\\xd8\\xff\\xe0\\x00\\x10JFIF\\x00\\x01\\x01\\x01\\x00d\\x00d\\x00\\x00\\xff…"
      ]
     },
     "metadata": {},
     "output_type": "display_data"
    },
    {
     "data": {
      "application/vnd.jupyter.widget-view+json": {
       "model_id": "dcf86038e67d4d09a4d23021c2a51b7a",
       "version_major": 2,
       "version_minor": 0
      },
      "text/plain": [
       "Button(button_style='primary', description='Next Batch', layout=Layout(width='auto'), style=ButtonStyle())"
      ]
     },
     "metadata": {},
     "output_type": "display_data"
    },
    {
     "data": {
      "text/plain": [
       "<fastai.widgets.image_cleaner.ImageCleaner at 0x1c09dcfdb00>"
      ]
     },
     "execution_count": 19,
     "metadata": {},
     "output_type": "execute_result"
    }
   ],
   "source": [
    "ImageCleaner(ds, idxs, path, duplicates=True)"
   ]
  },
  {
   "cell_type": "code",
   "execution_count": null,
   "metadata": {},
   "outputs": [],
   "source": [
    "doc(ImageDownloader)"
   ]
  },
  {
   "cell_type": "markdown",
   "metadata": {},
   "source": [
    "---"
   ]
  },
  {
   "cell_type": "markdown",
   "metadata": {},
   "source": [
    "## class ImageDownloader\n",
    "\n",
    "`ImageDownloader(path:PathOrStr='data')`\n",
    "\n",
    "显示一个小部件，允许在Jupyter笔记本或实验室中搜索和下载谷歌图像搜索中的图像。\n",
    "\n",
    "ImageDownloader小部件为您提供了一种快速引导图像数据集而无需离开笔记本的方法。 它搜索并下载符合搜索条件和分辨率/质量要求的图像，并将它们存储在提供的路径中的文件系统上。\n",
    "\n",
    "每个搜索查询（或标签）的图像都存储在路径中的单独文件夹中。 例如，如果你用设置为./data的路径瞳孔老虎，你将获得一个文件夹./data/tiger/，里面有老虎图像。\n",
    "\n",
    "ImageDownloader将在下载后使用verify_images（）自动清理并验证下载的图像。"
   ]
  },
  {
   "cell_type": "code",
   "execution_count": 24,
   "metadata": {},
   "outputs": [
    {
     "data": {
      "application/vnd.jupyter.widget-view+json": {
       "model_id": "5233d69770b943828c36a11498666afa",
       "version_major": 2,
       "version_minor": 0
      },
      "text/plain": [
       "VBox(children=(HBox(children=(Text(value='earth', placeholder='What images to search for?'), BoundedIntText(va…"
      ]
     },
     "metadata": {},
     "output_type": "display_data"
    }
   ],
   "source": [
    "path = Config.data_path()/'image_downloader'\n",
    "os.makedirs(path, exist_ok=True)\n",
    "ImageDownloader(path)"
   ]
  },
  {
   "cell_type": "markdown",
   "metadata": {},
   "source": [
    "在Jupyter笔记本之外的python脚本中下载图像"
   ]
  },
  {
   "cell_type": "code",
   "execution_count": 25,
   "metadata": {},
   "outputs": [
    {
     "data": {
      "text/plain": [
       "30"
      ]
     },
     "execution_count": 25,
     "metadata": {},
     "output_type": "execute_result"
    }
   ],
   "source": [
    "path = Config.data_path()/'image_downloader'\n",
    "files = download_google_images(path, 'aussie shepherd', size='>1024*768', n_images=30)\n",
    "\n",
    "len(files)"
   ]
  },
  {
   "cell_type": "markdown",
   "metadata": {},
   "source": [
    "**download_google_images**\n",
    "\n",
    "`download_google_images(path:PathOrStr, search_term:str, size:str=`'>400300'`*, n_images:int=10, format:str='jpg', max_workers:int=16, timeout:int=4) → FilePathList`\n",
    "\n",
    "在Google上搜索n_images图像，匹配search_term和大小要求，将它们下载到path / search_term并使用max_workers线程验证它们。\n",
    "\n",
    "使用ImageDownloader填充图像后，您可以通过调用ImageDataBunch.from_folder（path，size = size）或使用数据块API来获取ImageDataBunch。"
   ]
  },
  {
   "cell_type": "code",
   "execution_count": 26,
   "metadata": {},
   "outputs": [
    {
     "data": {
      "text/html": [
       "<table border=\"1\" class=\"dataframe\">\n",
       "  <thead>\n",
       "    <tr style=\"text-align: left;\">\n",
       "      <th>epoch</th>\n",
       "      <th>train_loss</th>\n",
       "      <th>valid_loss</th>\n",
       "      <th>accuracy</th>\n",
       "      <th>time</th>\n",
       "    </tr>\n",
       "  </thead>\n",
       "  <tbody>\n",
       "    <tr>\n",
       "      <td>0</td>\n",
       "      <td>1.866978</td>\n",
       "      <td>0.790729</td>\n",
       "      <td>0.833333</td>\n",
       "      <td>00:08</td>\n",
       "    </tr>\n",
       "    <tr>\n",
       "      <td>1</td>\n",
       "      <td>1.123303</td>\n",
       "      <td>0.482663</td>\n",
       "      <td>0.866667</td>\n",
       "      <td>00:07</td>\n",
       "    </tr>\n",
       "    <tr>\n",
       "      <td>2</td>\n",
       "      <td>0.788141</td>\n",
       "      <td>0.492640</td>\n",
       "      <td>0.866667</td>\n",
       "      <td>00:07</td>\n",
       "    </tr>\n",
       "  </tbody>\n",
       "</table>"
      ],
      "text/plain": [
       "<IPython.core.display.HTML object>"
      ]
     },
     "metadata": {},
     "output_type": "display_data"
    }
   ],
   "source": [
    "# Setup path and labels to search for\n",
    "path = Config.data_path()/'image_downloader'\n",
    "labels = ['boston terrier', 'french bulldog']\n",
    "\n",
    "# Download images\n",
    "for label in labels: \n",
    "    download_google_images(path, label, size='>400*300', n_images=50)\n",
    "\n",
    "# Build a databunch and train! \n",
    "src = (ImageList.from_folder(path)\n",
    "       .split_by_rand_pct()\n",
    "       .label_from_folder()\n",
    "       .transform(get_transforms(), size=224))\n",
    "\n",
    "db  = src.databunch(bs=16, num_workers=0)\n",
    "\n",
    "learn = cnn_learner(db, models.resnet34, metrics=[accuracy])\n",
    "learn.fit_one_cycle(3)"
   ]
  },
  {
   "cell_type": "markdown",
   "metadata": {},
   "source": [
    "**下载超过一百张图片**\n",
    "\n",
    "要获取超过一百张图像，ImageDownloader使用selenium和chromedriver滚动浏览Google图像搜索结果页面并刮取图像网址。 默认情况下，它们不是必需的依赖项。 如果您的系统上没有安装它们，则窗口小部件将显示错误消息。\n",
    "\n",
    "要安装硒，只需在您的fastai环境中安装硒。\n",
    "\n",
    "在Mac上，您可以使用brew cask install chromedriver安装chromedriver。\n",
    "\n",
    "在Ubuntu上看看最新的Chromedriver版本，然后是：\n",
    "\n",
    "```\n",
    "wget https://chromedriver.storage.googleapis.com/2.45/chromedriver_linux64.zip\n",
    "unzip chromedriver_linux64.zip\n",
    "```\n",
    "\n",
    "请注意，在100张图像下下载不需要除fastai本身之外的任何依赖，但是下载超过一百张图像使用selenium和chromedriver。\n",
    "\n",
    "大小可以是以下之一：\n",
    "\n",
    "```\n",
    "'>400*300'\n",
    "'>640*480'\n",
    "'>800*600'\n",
    "'>1024*768'\n",
    "'>2MP'\n",
    "'>4MP'\n",
    "'>6MP'\n",
    "'>8MP'\n",
    "'>10MP'\n",
    "'>12MP'\n",
    "'>15MP'\n",
    "'>20MP'\n",
    "'>40MP'\n",
    "'>70MP'\n",
    "```"
   ]
  },
  {
   "cell_type": "code",
   "execution_count": null,
   "metadata": {},
   "outputs": [],
   "source": []
  }
 ],
 "metadata": {
  "kernelspec": {
   "display_name": "Python 3",
   "language": "python",
   "name": "python3"
  },
  "language_info": {
   "codemirror_mode": {
    "name": "ipython",
    "version": 3
   },
   "file_extension": ".py",
   "mimetype": "text/x-python",
   "name": "python",
   "nbconvert_exporter": "python",
   "pygments_lexer": "ipython3",
   "version": "3.6.7"
  }
 },
 "nbformat": 4,
 "nbformat_minor": 2
}
