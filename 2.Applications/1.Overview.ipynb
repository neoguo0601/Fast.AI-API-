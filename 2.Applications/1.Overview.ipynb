{
 "cells": [
  {
   "cell_type": "markdown",
   "metadata": {},
   "source": [
    "## Application fields\n",
    "\n",
    "fastai库允许您通过在Learner对象内将它们绑定在一起，非常容易地在某个DataBunch上训练模型。 此模块重新组合库提供的工具，以帮助您以此格式预处理和分组数据。\n",
    "\n",
    "### collab\n",
    "该子模块处理协同过滤问题。\n",
    "\n",
    "### tabular\n",
    "该子包处理表格（或结构化）数据。\n",
    "\n",
    "### text\n",
    "此子包包含自然语言处理所需的一切。\n",
    "\n",
    "### vision\n",
    "此子包包含与Computer Vision相关的类。\n",
    "\n",
    "## Module structure\n",
    "在每种情况下（协作除外），模块以这种方式组织：\n",
    "\n",
    "### transform\n",
    "该子模块处理预处理（图像的数据增强，表格数据的清理，文本的标记化和数字化）。\n",
    "\n",
    "### data\n",
    "该子模块定义了用于处理此类数据的数据集类。\n",
    "\n",
    "### models\n",
    "该子模块定义了用于此类数据的特定模型。\n",
    "\n",
    "### learner\n",
    "当它存在时，该子模块包含将该数据与适当的模型直接绑定并添加必要的回调的函数。\n",
    "\n",
    "## Usage\n",
    "要开始使用上述任何应用程序，只需导入顶级模块即可。\n",
    "所有子模块都包含在内。\n",
    "\n",
    "一般结构是：\n",
    "`from fastai.[APPLICATION] import *`\n",
    "\n",
    "例如，要使用协作：\n",
    "`from fastai.collab import *`\n",
    "\n",
    "For more information on imports"
   ]
  },
  {
   "cell_type": "code",
   "execution_count": null,
   "metadata": {},
   "outputs": [],
   "source": []
  }
 ],
 "metadata": {
  "kernelspec": {
   "display_name": "Python 3",
   "language": "python",
   "name": "python3"
  },
  "language_info": {
   "codemirror_mode": {
    "name": "ipython",
    "version": 3
   },
   "file_extension": ".py",
   "mimetype": "text/x-python",
   "name": "python",
   "nbconvert_exporter": "python",
   "pygments_lexer": "ipython3",
   "version": "3.6.7"
  }
 },
 "nbformat": 4,
 "nbformat_minor": 2
}
