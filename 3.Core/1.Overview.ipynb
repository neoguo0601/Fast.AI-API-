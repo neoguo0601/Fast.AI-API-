{
 "cells": [
  {
   "cell_type": "markdown",
   "metadata": {},
   "source": [
    "## fastai的核心模块\n",
    "\n",
    "这些模块提供若干个基础功能需要的库\n",
    "\n",
    "### basic_data\n",
    "该模块定义了基本的DataBunch类，它是使用模型创建Learner对象所需的类。 它还定义了DeviceDataLoader，这是一个包装pytorch DataLoader以将批量放在正确设备上的类。\n",
    "\n",
    "### layers\n",
    "该模块包含我们大多数模型中所需的基本自定义图层的定义，以及一些用于创建简单块的辅助函数。\n",
    "\n",
    "除非您特别想知道某个功能正在做什么，否则在第一次阅读时可以跳过以下两个模块的大多数文档。\n",
    "### core\n",
    "该模块包含最基本的功能和导入，特别是：\n",
    "\n",
    "* pandas as pd\n",
    "* numpy as np\n",
    "* matplotlib.pyplot as plt\n",
    "\n",
    "### torch_core\n",
    "该模块包含使用pytorch的最基本功能和导入。 我们遵循pytorch命名约定，主要是：\n",
    "\n",
    "* torch.nn as nn\n",
    "* torch.optim as optim\n",
    "* torch.nn.functional as F"
   ]
  },
  {
   "cell_type": "markdown",
   "metadata": {},
   "source": [
    "## 用法\n",
    "核心模块旨在与特定于应用程序的模块结合使用，并在这些情况下自动导入。\n",
    "\n",
    "仅导入核心功能：\n",
    "\n",
    "from fastai.basics import *"
   ]
  },
  {
   "cell_type": "code",
   "execution_count": null,
   "metadata": {},
   "outputs": [],
   "source": []
  }
 ],
 "metadata": {
  "kernelspec": {
   "display_name": "Python 3",
   "language": "python",
   "name": "python3"
  },
  "language_info": {
   "codemirror_mode": {
    "name": "ipython",
    "version": 3
   },
   "file_extension": ".py",
   "mimetype": "text/x-python",
   "name": "python",
   "nbconvert_exporter": "python",
   "pygments_lexer": "ipython3",
   "version": "3.6.7"
  }
 },
 "nbformat": 4,
 "nbformat_minor": 2
}
