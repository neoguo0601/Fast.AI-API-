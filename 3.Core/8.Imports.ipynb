{
 "cells": [
  {
   "cell_type": "markdown",
   "metadata": {},
   "source": [
    "## Introduction\n",
    "为了支持交互式计算，fastai提供了对常用外部模块的轻松访问。 导入如："
   ]
  },
  {
   "cell_type": "code",
   "execution_count": 1,
   "metadata": {},
   "outputs": [],
   "source": [
    "from fastai.basics import *"
   ]
  },
  {
   "cell_type": "markdown",
   "metadata": {},
   "source": [
    "除了fastai特定的函数和变量之外，还将使用这些外部模块填充当前命名空间。 此页面记录了这些便捷导入，这些导入在fastai.imports中定义。\n",
    "\n",
    "注意：由于此文档是手动创建的，因此在您阅读它时可能会过时。 要获取最新的导入列表，请使用：\n",
    "\n",
    "`python -c 'a = set([*vars().keys(), \"a\"]); from fastai.basics import *; print(*sorted(set(vars().keys())-a), sep=\"\\n\")'`"
   ]
  },
  {
   "cell_type": "code",
   "execution_count": 3,
   "metadata": {},
   "outputs": [],
   "source": [
    "python -c 'a = set([*vars().keys(), \"a\"]); from fastai.basics import *; print(*sorted(set(vars().keys())-a), sep=\"\\n\")'"
   ]
  },
  {
   "cell_type": "markdown",
   "metadata": {},
   "source": [
    "Name | Description |\n",
    " :- | :- |\n",
    "csv | CSV file reading and writing |\n",
    "gc | Garbage collector interface |\n",
    "gzip | Support for gzip files | \n",
    "os | Miscellaneous operating system interfaces | \n",
    "pickle | Python object serialization | \n",
    "shutil | High level file operations | \n",
    "sys | System-specific parameters and functions | \n",
    "warnings, warn | Warning control | \n",
    "yaml | YAML parser and emitter | \n",
    "io, BufferedWriter, BytesIO | Core tools for working with streams | \n",
    "subprocess | Subprocess management | \n",
    "math | Mathematical functions | \n",
    "plt (matplotlib.pyplot) | MATLAB-like plotting framework | \n",
    "np (numpy) , array, cos, exp, log, sin, tan, tanh | Multi-dimensional arrays, mathematical functions | \n",
    "pd (pandas), Series, DataFrame | Data structures and tools for data analysis | \n",
    "random | Generate pseudo-random numbers | \n",
    "scipy.stats | Statistical functions | \n",
    "scipy.special | Special functions | \n",
    "abstractmethod, abstractproperty | Abstract base classes | \n",
    "collections, Counter, defaultdict, namedtuple, OrderedDict | Container datatypes | \n",
    "abc (collections.abc), Iterable | Abstract base classes for containers | \n",
    "hashlib | Secure hashes and message digests | \n",
    "itertools | Functions creating iterators for efficient looping | \n",
    "json | JSON encoder and decoder | \n",
    "operator, attrgetter, itemgetter | Standard operators as functions | \n",
    "pathlib, Path | Object-oriented filesystem paths | \n",
    "mimetypes | Map filenames to MIME types | \n",
    "inspect | Inspect live objects | \n",
    "typing, Any, AnyStr, Callable, Collection, Dict, Hashable, Iterator, List, Mapping, NewType, Optional, Sequence, Tuple, TypeVar, Union\t | Support for type hints | \n",
    "functools, partial, reduce | Higher-order functions and operations on callable objects | \n",
    "importlib | The implementatin of import | \n",
    "weakref | Weak references | \n",
    "html | HyperText Markup Language support | \n",
    "re | Regular expression operations | \n",
    "requests | HTTP for Humans™ | \n",
    "tarfile | Read and write tar archive files | \n",
    "numbers, Number | Numeric abstract base classes | \n",
    "tempfile | Generate temporary files and directories | \n",
    "concurrent, ProcessPoolExecutor, ThreadPoolExecutor | Launch parallel tasks | \n",
    "copy, deepcopy | Shallow and deep copy operation | \n",
    "dataclass, field, InitVar | Data Classes | \n",
    "Enum, IntEnum | Support for enumerations | \n",
    "set_trace | The Python debugger | \n",
    "patches (matplotlib.patches), Patch | ? | \n",
    "patheffects (matplotlib.patheffects) | ? | \n",
    "contextmanager | Utilities for with-statement contexts | \n",
    "MasterBar, master_bar, ProgressBar, progress_bar | Simple and flexible progress bar for Jupyter Notebook and console | \n",
    "pkg_resources | Package discovery and resource access | \n",
    "SimpleNamespace | Dynamic type creation and names for built-in types | \n",
    "torch, as_tensor, ByteTensor,DoubleTensor, FloatTensor, HalfTensor, LongTensor, ShortTensor, Tensor | Tensor computation and deep learning | \n",
    "nn (torch.nn), weight_norm, spectral_norm | Neural networks with PyTorch | \n",
    "F (torch.nn.functional) | PyTorch functional interface | \n",
    "optim (torch.optim) | Optimization algorithms in PyTorch | \n",
    "BatchSampler, DataLoader, Dataset, Sampler, TensorDataset | PyTorch data utils | "
   ]
  },
  {
   "cell_type": "code",
   "execution_count": null,
   "metadata": {},
   "outputs": [],
   "source": []
  }
 ],
 "metadata": {
  "kernelspec": {
   "display_name": "Python 3",
   "language": "python",
   "name": "python3"
  },
  "language_info": {
   "codemirror_mode": {
    "name": "ipython",
    "version": 3
   },
   "file_extension": ".py",
   "mimetype": "text/x-python",
   "name": "python",
   "nbconvert_exporter": "python",
   "pygments_lexer": "ipython3",
   "version": "3.6.7"
  }
 },
 "nbformat": 4,
 "nbformat_minor": 2
}
