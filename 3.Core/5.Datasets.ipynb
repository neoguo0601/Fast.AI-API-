{
 "cells": [
  {
   "cell_type": "markdown",
   "metadata": {},
   "source": [
    "## 数据集\n",
    "\n",
    "该模块具有必要的功能，可以下载我们可能感兴趣在我们的模型中使用的几个有用的数据集。\n",
    "\n",
    "<b>class URLs</b>\n",
    "\n",
    "`URLs()`\n",
    "\n",
    "数据集和模型URL的全局常量。\n",
    "\n",
    "这包含所有数据集和模型的URL，以及一些帮助使用它们的类方法 - 您不创建此类的对象。 支持的数据集（带有其调用名称）：S3_NLP，S3_COCO，MNIST_SAMPLE，MNIST_TINY，IMDB_SAMPLE，ADULT_SAMPLE，ML_SAMPLE，PLANET_SAMPLE，CIFAR，PETS，MNIST。 要获取有关数据集的详细信息，您可以查看fast.ai数据集网页。 名称中带有SAMPLE的数据集是原始数据集的子集。 在MNIST的情况下，我们还有一个比MNIST_SAMPLE小的TINY数据集。\n",
    "\n",
    "模型现在仅限于WT103，但未来您可以期待更多！"
   ]
  },
  {
   "cell_type": "code",
   "execution_count": 1,
   "metadata": {},
   "outputs": [],
   "source": [
    "from fastai.vision import *\n",
    "from fastai.basics import *\n",
    "from fastai.callbacks import *"
   ]
  },
  {
   "cell_type": "code",
   "execution_count": 2,
   "metadata": {},
   "outputs": [
    {
     "data": {
      "text/plain": [
       "'http://files.fast.ai/data/examples/mnist_sample'"
      ]
     },
     "execution_count": 2,
     "metadata": {},
     "output_type": "execute_result"
    }
   ],
   "source": [
    "URLs.MNIST_SAMPLE"
   ]
  },
  {
   "cell_type": "markdown",
   "metadata": {},
   "source": [
    "## Downloading Data\n",
    "对于其他数据集，您需要使用untar_data或download_data下载它们。 untar_data将解压缩数据文件并下载，而download_data将下载并以.tgz格式保存压缩文件。\n",
    "\n",
    "下载数据和模型的位置在config.yml中设置，默认情况下位于〜/ .fastai。可以通过可选的环境变量FASTAI_HOME（例如FASTAI_HOME = / home / .fastai）更改此目录。\n",
    "\n",
    "如果指定目录中不存在config.yml，则将使用data_archive_path，data_path和models_path条目创建默认值。 data_path和models_path条目分别指向config.yml所在目录中的data文件夹和models文件夹。 data_archive_path允许您设置单独的文件夹以保存压缩数据集以进行存档。它默认与data_path位于同一目录。\n",
    "\n",
    "通过编辑config.yml中的data_archive_path，data_path和models_path来配置这些下载位置。\n",
    "\n",
    "<b>untar_data</b>\n",
    "\n",
    "`untar_data(url:str, fname:PathOrStr=None, dest:PathOrStr=None, data=True, force_download=False) → Path`\n",
    "\n",
    "如果`dest`不存在，则将url下载到`fname`，将un-tgz下载到文件夹`dest`。\n",
    "\n",
    "通常，`untar_data`使用url下载`fname`下的tgz文件，然后将un-tgz fname下载到`dest`下的文件夹中。\n",
    "\n",
    "如果您之前运行过untar_data，那么再次运行untar_data（URLs.something）将只返回`dest`而无需再次下载。\n",
    "\n",
    "如果您之前运行过untar_data，然后再次使用force_download = True运行untar_data或fname下的tgz文件被损坏，将删除现有的fname和dest并再次开始下载。\n",
    "\n",
    "如果你之前运行过untar_data，但`dest`不存在，意味着`dest`下没有文件夹（文件夹可能被删除或以某种方式重命名），那么再次运行untar_data（URLs.something）将执行download_data。此外，如果fname下的tgz文件确实存在，那么将没有实际的下载而不是un-tgz fname到dest;如果`fname`不存在，则实际执行tgz文件的下载。\n",
    "\n",
    "注意：您提供给untar_data的网址必须是URLs.something之一。"
   ]
  },
  {
   "cell_type": "code",
   "execution_count": 4,
   "metadata": {},
   "outputs": [
    {
     "data": {
      "text/plain": [
       "WindowsPath('C:/Users/Yang/.fastai/data/mnist_sample')"
      ]
     },
     "execution_count": 4,
     "metadata": {},
     "output_type": "execute_result"
    }
   ],
   "source": [
    "path = untar_data(URLs.MNIST_SAMPLE)\n",
    "path"
   ]
  },
  {
   "cell_type": "markdown",
   "metadata": {},
   "source": [
    "<b>download_data</b>\n",
    "\n",
    "`download_data(url:str, fname:PathOrStr=None, data:bool=True, ext:str='.tgz') → Path`\n",
    "\n",
    "将url下载到目标fname。\n",
    "\n",
    "注意：如果数据文件已存在于笔记本内的数据目录中，则将使用该数据文件而不是config.yml中指定的文件夹中的数据文件。 config.yml位于可选环境变量FASTAI_HOME中指定的目录中（默认为〜/ .fastai /）。 通过调用函数datapath4file来解析路径 - 在下载到config.yml中指定的文件夹之前，该函数首先检查数据是否存在于本地（data /）。\n",
    "\n",
    "例："
   ]
  },
  {
   "cell_type": "code",
   "execution_count": 6,
   "metadata": {},
   "outputs": [
    {
     "data": {
      "text/plain": [
       "WindowsPath('C:/Users/Yang/.fastai/data/mnist_sample.tgz')"
      ]
     },
     "execution_count": 6,
     "metadata": {},
     "output_type": "execute_result"
    }
   ],
   "source": [
    "download_data(URLs.MNIST_SAMPLE)"
   ]
  },
  {
   "cell_type": "markdown",
   "metadata": {},
   "source": [
    "<b>datapath4file</b>\n",
    "\n",
    "`datapath4file(filename, ext:str='.tgz', archive=True)`\n",
    "\n",
    "返回文件名的数据路径，先在本地检查，然后在配置文件中检查。\n",
    "\n",
    "所有下载功能都使用它来决定放置tgz和扩展文件夹的位置。 如果filename与调用笔记本/脚本位于同一位置的数据目录中已存在，则直接用作父级，否则读取config.yml以查看要使用的路径，默认为〜/ .fastai / data为 用过的。 要覆盖此默认值，只需修改config.yml中的值：\n",
    "\n",
    "```code\n",
    "data_archive_path: ~/.fastai/data\n",
    "data_path: ~/.fastai/data\n",
    "```\n",
    "\n",
    "config.yml位于可选环境变量FASTAI_HOME中指定的目录中（默认为〜/ .fastai /）。\n",
    "\n",
    "<b>url2path</b>\n",
    "\n",
    "`url2path(url, data=True, ext:str='.tgz')`\n",
    "\n",
    "将URL更改为路径。"
   ]
  },
  {
   "cell_type": "markdown",
   "metadata": {},
   "source": [
    "### class Config\n",
    "`Config()`\n",
    "\n",
    "在$ FASTAI_HOME中创建默认配置文件'config.yml'（默认〜/ .fastai /）\n",
    "\n",
    "您可能不需要自己使用它 - 它由URLs.datapath4file使用。\n",
    "\n",
    "<b>get_path</b>\n",
    "\n",
    "`get_path(path)`\n",
    "\n",
    "获取配置文件中的路径。\n",
    "\n",
    "获取Config中路径对应的密钥。\n",
    "\n",
    "<b>data_path</b>\n",
    "\n",
    "`data_path()`\n",
    "\n",
    "获取配置文件中的数据路径。\n",
    "\n",
    "获取存储数据的路径。\n",
    "\n",
    "<b>model_path</b>\n",
    "\n",
    "`model_path()`\n",
    "\n",
    "在配置文件中获取fastai预训练模型的路径。"
   ]
  },
  {
   "cell_type": "code",
   "execution_count": null,
   "metadata": {},
   "outputs": [],
   "source": []
  }
 ],
 "metadata": {
  "kernelspec": {
   "display_name": "Python 3",
   "language": "python",
   "name": "python3"
  },
  "language_info": {
   "codemirror_mode": {
    "name": "ipython",
    "version": 3
   },
   "file_extension": ".py",
   "mimetype": "text/x-python",
   "name": "python",
   "nbconvert_exporter": "python",
   "pygments_lexer": "ipython3",
   "version": "3.6.7"
  }
 },
 "nbformat": 4,
 "nbformat_minor": 2
}
