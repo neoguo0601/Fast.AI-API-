{
 "cells": [
  {
   "cell_type": "markdown",
   "metadata": {},
   "source": [
    "## The data block API\n",
    "\n",
    "`data block` API 允许您自定义创建DataBunch通过\n",
    "\n",
    "`data block` API允许您通过在单独的块中隔离该进程的底层部分来自定义DataBunch的创建，主要是：\n",
    "\n",
    "1. Where are the inputs and how to create them?\n",
    "2. How to split the data into a training and validation sets?\n",
    "3. How to label the inputs?\n",
    "4. What transforms to apply?\n",
    "5. How to add a test set?\n",
    "6. How to wrap in dataloaders and create the DataBunch\n",
    "\n",
    "这些中的每一个都可以通过专为您独特设置而设计的特定块来解决。 您的输入可能位于文件夹，csv文件或数据框中。 您可能希望通过某些索引或根据它们所在的文件夹随机拆分它们。您可以在csv文件或数据框中放置标签，但它可能来自文件夹或输入的特定功能。 您可以选择是否添加数据扩充。 测试集也是可选的。 最后，您必须设置参数以将数据放在DataBunch中（批量大小，整理函数...）\n",
    "\n",
    "数据块API就是这样调用的，因为您可以将这些块中的每一个与其他块混合搭配，从而可以灵活地创建自定义DataBunch以进行培训，验证和测试。 各种DataBunch的工厂方法非常适合初学者，但您无法始终使数据适合他们所需的轨道。\n",
    "\n",
    "像往常一样，我们将从端到端示例开始，然后切换到每个部分的详细信息。"
   ]
  },
  {
   "cell_type": "markdown",
   "metadata": {},
   "source": [
    "## Examples of use\n",
    "Let's begin with our traditional MNIST example."
   ]
  },
  {
   "cell_type": "code",
   "execution_count": 1,
   "metadata": {},
   "outputs": [],
   "source": [
    "from fastai.vision import *\n",
    "from fastai.basics import *\n",
    "from fastai.callbacks import *"
   ]
  },
  {
   "cell_type": "code",
   "execution_count": 2,
   "metadata": {},
   "outputs": [
    {
     "data": {
      "text/plain": [
       "[WindowsPath('C:/Users/Yang/.fastai/data/mnist_tiny/labels.csv'),\n",
       " WindowsPath('C:/Users/Yang/.fastai/data/mnist_tiny/models'),\n",
       " WindowsPath('C:/Users/Yang/.fastai/data/mnist_tiny/test'),\n",
       " WindowsPath('C:/Users/Yang/.fastai/data/mnist_tiny/train'),\n",
       " WindowsPath('C:/Users/Yang/.fastai/data/mnist_tiny/valid')]"
      ]
     },
     "execution_count": 2,
     "metadata": {},
     "output_type": "execute_result"
    }
   ],
   "source": [
    "path = untar_data(URLs.MNIST_TINY)\n",
    "tfms = get_transforms(do_flip=False)\n",
    "path.ls()"
   ]
  },
  {
   "cell_type": "code",
   "execution_count": 3,
   "metadata": {
    "scrolled": true
   },
   "outputs": [
    {
     "data": {
      "text/plain": [
       "[WindowsPath('C:/Users/Yang/.fastai/data/mnist_tiny/train/3'),\n",
       " WindowsPath('C:/Users/Yang/.fastai/data/mnist_tiny/train/7')]"
      ]
     },
     "execution_count": 3,
     "metadata": {},
     "output_type": "execute_result"
    }
   ],
   "source": [
    "(path/'train').ls()"
   ]
  },
  {
   "cell_type": "markdown",
   "metadata": {},
   "source": [
    "在vision.data中，我们只需键入以下内容即可创建适合图像分类的DataBunch："
   ]
  },
  {
   "cell_type": "code",
   "execution_count": 4,
   "metadata": {},
   "outputs": [
    {
     "name": "stderr",
     "output_type": "stream",
     "text": [
      "C:\\Users\\Yang\\AppData\\Local\\conda\\conda\\envs\\PyTorch\\lib\\site-packages\\fastai\\vision\\transform.py:243: UserWarning: torch.gesv is deprecated in favour of torch.solve and will be removed in the next release. Please use torch.solve instead.\n",
      "  return torch.gesv(B,A)[0][:,0]\n",
      "C:\\Users\\Yang\\AppData\\Local\\conda\\conda\\envs\\PyTorch\\lib\\site-packages\\fastai\\vision\\transform.py:243: UserWarning: torch.gesv is deprecated in favour of torch.solve and will be removed in the next release. Please use torch.solve instead.\n",
      "  return torch.gesv(B,A)[0][:,0]\n",
      "C:\\Users\\Yang\\AppData\\Local\\conda\\conda\\envs\\PyTorch\\lib\\site-packages\\fastai\\vision\\transform.py:243: UserWarning: torch.gesv is deprecated in favour of torch.solve and will be removed in the next release. Please use torch.solve instead.\n",
      "  return torch.gesv(B,A)[0][:,0]\n",
      "C:\\Users\\Yang\\AppData\\Local\\conda\\conda\\envs\\PyTorch\\lib\\site-packages\\fastai\\vision\\transform.py:243: UserWarning: torch.gesv is deprecated in favour of torch.solve and will be removed in the next release. Please use torch.solve instead.\n",
      "  return torch.gesv(B,A)[0][:,0]\n",
      "C:\\Users\\Yang\\AppData\\Local\\conda\\conda\\envs\\PyTorch\\lib\\site-packages\\fastai\\vision\\transform.py:243: UserWarning: torch.gesv is deprecated in favour of torch.solve and will be removed in the next release. Please use torch.solve instead.\n",
      "  return torch.gesv(B,A)[0][:,0]\n",
      "C:\\Users\\Yang\\AppData\\Local\\conda\\conda\\envs\\PyTorch\\lib\\site-packages\\fastai\\vision\\transform.py:243: UserWarning: torch.gesv is deprecated in favour of torch.solve and will be removed in the next release. Please use torch.solve instead.\n",
      "  return torch.gesv(B,A)[0][:,0]\n",
      "C:\\Users\\Yang\\AppData\\Local\\conda\\conda\\envs\\PyTorch\\lib\\site-packages\\fastai\\vision\\transform.py:243: UserWarning: torch.gesv is deprecated in favour of torch.solve and will be removed in the next release. Please use torch.solve instead.\n",
      "  return torch.gesv(B,A)[0][:,0]\n",
      "C:\\Users\\Yang\\AppData\\Local\\conda\\conda\\envs\\PyTorch\\lib\\site-packages\\fastai\\vision\\transform.py:243: UserWarning: torch.gesv is deprecated in favour of torch.solve and will be removed in the next release. Please use torch.solve instead.\n",
      "  return torch.gesv(B,A)[0][:,0]\n",
      "C:\\Users\\Yang\\AppData\\Local\\conda\\conda\\envs\\PyTorch\\lib\\site-packages\\fastai\\vision\\transform.py:243: UserWarning: torch.gesv is deprecated in favour of torch.solve and will be removed in the next release. Please use torch.solve instead.\n",
      "  return torch.gesv(B,A)[0][:,0]\n",
      "C:\\Users\\Yang\\AppData\\Local\\conda\\conda\\envs\\PyTorch\\lib\\site-packages\\fastai\\vision\\transform.py:243: UserWarning: torch.gesv is deprecated in favour of torch.solve and will be removed in the next release. Please use torch.solve instead.\n",
      "  return torch.gesv(B,A)[0][:,0]\n",
      "C:\\Users\\Yang\\AppData\\Local\\conda\\conda\\envs\\PyTorch\\lib\\site-packages\\fastai\\vision\\transform.py:243: UserWarning: torch.gesv is deprecated in favour of torch.solve and will be removed in the next release. Please use torch.solve instead.\n",
      "  return torch.gesv(B,A)[0][:,0]\n",
      "C:\\Users\\Yang\\AppData\\Local\\conda\\conda\\envs\\PyTorch\\lib\\site-packages\\fastai\\vision\\transform.py:243: UserWarning: torch.gesv is deprecated in favour of torch.solve and will be removed in the next release. Please use torch.solve instead.\n",
      "  return torch.gesv(B,A)[0][:,0]\n",
      "C:\\Users\\Yang\\AppData\\Local\\conda\\conda\\envs\\PyTorch\\lib\\site-packages\\fastai\\vision\\transform.py:243: UserWarning: torch.gesv is deprecated in favour of torch.solve and will be removed in the next release. Please use torch.solve instead.\n",
      "  return torch.gesv(B,A)[0][:,0]\n",
      "C:\\Users\\Yang\\AppData\\Local\\conda\\conda\\envs\\PyTorch\\lib\\site-packages\\fastai\\vision\\transform.py:243: UserWarning: torch.gesv is deprecated in favour of torch.solve and will be removed in the next release. Please use torch.solve instead.\n",
      "  return torch.gesv(B,A)[0][:,0]\n",
      "C:\\Users\\Yang\\AppData\\Local\\conda\\conda\\envs\\PyTorch\\lib\\site-packages\\fastai\\vision\\transform.py:243: UserWarning: torch.gesv is deprecated in favour of torch.solve and will be removed in the next release. Please use torch.solve instead.\n",
      "  return torch.gesv(B,A)[0][:,0]\n",
      "C:\\Users\\Yang\\AppData\\Local\\conda\\conda\\envs\\PyTorch\\lib\\site-packages\\fastai\\vision\\transform.py:243: UserWarning: torch.gesv is deprecated in favour of torch.solve and will be removed in the next release. Please use torch.solve instead.\n",
      "  return torch.gesv(B,A)[0][:,0]\n",
      "C:\\Users\\Yang\\AppData\\Local\\conda\\conda\\envs\\PyTorch\\lib\\site-packages\\fastai\\vision\\transform.py:243: UserWarning: torch.gesv is deprecated in favour of torch.solve and will be removed in the next release. Please use torch.solve instead.\n",
      "  return torch.gesv(B,A)[0][:,0]\n",
      "C:\\Users\\Yang\\AppData\\Local\\conda\\conda\\envs\\PyTorch\\lib\\site-packages\\fastai\\vision\\transform.py:243: UserWarning: torch.gesv is deprecated in favour of torch.solve and will be removed in the next release. Please use torch.solve instead.\n",
      "  return torch.gesv(B,A)[0][:,0]\n",
      "C:\\Users\\Yang\\AppData\\Local\\conda\\conda\\envs\\PyTorch\\lib\\site-packages\\fastai\\vision\\transform.py:243: UserWarning: torch.gesv is deprecated in favour of torch.solve and will be removed in the next release. Please use torch.solve instead.\n",
      "  return torch.gesv(B,A)[0][:,0]\n",
      "C:\\Users\\Yang\\AppData\\Local\\conda\\conda\\envs\\PyTorch\\lib\\site-packages\\fastai\\vision\\transform.py:243: UserWarning: torch.gesv is deprecated in favour of torch.solve and will be removed in the next release. Please use torch.solve instead.\n",
      "  return torch.gesv(B,A)[0][:,0]\n",
      "C:\\Users\\Yang\\AppData\\Local\\conda\\conda\\envs\\PyTorch\\lib\\site-packages\\fastai\\vision\\transform.py:243: UserWarning: torch.gesv is deprecated in favour of torch.solve and will be removed in the next release. Please use torch.solve instead.\n",
      "  return torch.gesv(B,A)[0][:,0]\n",
      "C:\\Users\\Yang\\AppData\\Local\\conda\\conda\\envs\\PyTorch\\lib\\site-packages\\fastai\\vision\\transform.py:243: UserWarning: torch.gesv is deprecated in favour of torch.solve and will be removed in the next release. Please use torch.solve instead.\n",
      "  return torch.gesv(B,A)[0][:,0]\n",
      "C:\\Users\\Yang\\AppData\\Local\\conda\\conda\\envs\\PyTorch\\lib\\site-packages\\fastai\\vision\\transform.py:243: UserWarning: torch.gesv is deprecated in favour of torch.solve and will be removed in the next release. Please use torch.solve instead.\n",
      "  return torch.gesv(B,A)[0][:,0]\n",
      "C:\\Users\\Yang\\AppData\\Local\\conda\\conda\\envs\\PyTorch\\lib\\site-packages\\fastai\\vision\\transform.py:243: UserWarning: torch.gesv is deprecated in favour of torch.solve and will be removed in the next release. Please use torch.solve instead.\n",
      "  return torch.gesv(B,A)[0][:,0]\n",
      "C:\\Users\\Yang\\AppData\\Local\\conda\\conda\\envs\\PyTorch\\lib\\site-packages\\fastai\\vision\\transform.py:243: UserWarning: torch.gesv is deprecated in favour of torch.solve and will be removed in the next release. Please use torch.solve instead.\n",
      "  return torch.gesv(B,A)[0][:,0]\n",
      "C:\\Users\\Yang\\AppData\\Local\\conda\\conda\\envs\\PyTorch\\lib\\site-packages\\fastai\\vision\\transform.py:243: UserWarning: torch.gesv is deprecated in favour of torch.solve and will be removed in the next release. Please use torch.solve instead.\n",
      "  return torch.gesv(B,A)[0][:,0]\n",
      "C:\\Users\\Yang\\AppData\\Local\\conda\\conda\\envs\\PyTorch\\lib\\site-packages\\fastai\\vision\\transform.py:243: UserWarning: torch.gesv is deprecated in favour of torch.solve and will be removed in the next release. Please use torch.solve instead.\n",
      "  return torch.gesv(B,A)[0][:,0]\n",
      "C:\\Users\\Yang\\AppData\\Local\\conda\\conda\\envs\\PyTorch\\lib\\site-packages\\fastai\\vision\\transform.py:243: UserWarning: torch.gesv is deprecated in favour of torch.solve and will be removed in the next release. Please use torch.solve instead.\n",
      "  return torch.gesv(B,A)[0][:,0]\n",
      "C:\\Users\\Yang\\AppData\\Local\\conda\\conda\\envs\\PyTorch\\lib\\site-packages\\fastai\\vision\\transform.py:243: UserWarning: torch.gesv is deprecated in favour of torch.solve and will be removed in the next release. Please use torch.solve instead.\n",
      "  return torch.gesv(B,A)[0][:,0]\n",
      "C:\\Users\\Yang\\AppData\\Local\\conda\\conda\\envs\\PyTorch\\lib\\site-packages\\fastai\\vision\\transform.py:243: UserWarning: torch.gesv is deprecated in favour of torch.solve and will be removed in the next release. Please use torch.solve instead.\n",
      "  return torch.gesv(B,A)[0][:,0]\n",
      "C:\\Users\\Yang\\AppData\\Local\\conda\\conda\\envs\\PyTorch\\lib\\site-packages\\fastai\\vision\\transform.py:243: UserWarning: torch.gesv is deprecated in favour of torch.solve and will be removed in the next release. Please use torch.solve instead.\n",
      "  return torch.gesv(B,A)[0][:,0]\n"
     ]
    },
    {
     "name": "stderr",
     "output_type": "stream",
     "text": [
      "C:\\Users\\Yang\\AppData\\Local\\conda\\conda\\envs\\PyTorch\\lib\\site-packages\\fastai\\vision\\transform.py:243: UserWarning: torch.gesv is deprecated in favour of torch.solve and will be removed in the next release. Please use torch.solve instead.\n",
      "  return torch.gesv(B,A)[0][:,0]\n",
      "C:\\Users\\Yang\\AppData\\Local\\conda\\conda\\envs\\PyTorch\\lib\\site-packages\\fastai\\vision\\transform.py:243: UserWarning: torch.gesv is deprecated in favour of torch.solve and will be removed in the next release. Please use torch.solve instead.\n",
      "  return torch.gesv(B,A)[0][:,0]\n",
      "C:\\Users\\Yang\\AppData\\Local\\conda\\conda\\envs\\PyTorch\\lib\\site-packages\\fastai\\vision\\transform.py:243: UserWarning: torch.gesv is deprecated in favour of torch.solve and will be removed in the next release. Please use torch.solve instead.\n",
      "  return torch.gesv(B,A)[0][:,0]\n",
      "C:\\Users\\Yang\\AppData\\Local\\conda\\conda\\envs\\PyTorch\\lib\\site-packages\\fastai\\vision\\transform.py:243: UserWarning: torch.gesv is deprecated in favour of torch.solve and will be removed in the next release. Please use torch.solve instead.\n",
      "  return torch.gesv(B,A)[0][:,0]\n",
      "C:\\Users\\Yang\\AppData\\Local\\conda\\conda\\envs\\PyTorch\\lib\\site-packages\\fastai\\vision\\transform.py:243: UserWarning: torch.gesv is deprecated in favour of torch.solve and will be removed in the next release. Please use torch.solve instead.\n",
      "  return torch.gesv(B,A)[0][:,0]\n",
      "C:\\Users\\Yang\\AppData\\Local\\conda\\conda\\envs\\PyTorch\\lib\\site-packages\\fastai\\vision\\transform.py:243: UserWarning: torch.gesv is deprecated in favour of torch.solve and will be removed in the next release. Please use torch.solve instead.\n",
      "  return torch.gesv(B,A)[0][:,0]\n",
      "C:\\Users\\Yang\\AppData\\Local\\conda\\conda\\envs\\PyTorch\\lib\\site-packages\\fastai\\vision\\transform.py:243: UserWarning: torch.gesv is deprecated in favour of torch.solve and will be removed in the next release. Please use torch.solve instead.\n",
      "  return torch.gesv(B,A)[0][:,0]\n",
      "C:\\Users\\Yang\\AppData\\Local\\conda\\conda\\envs\\PyTorch\\lib\\site-packages\\fastai\\vision\\transform.py:243: UserWarning: torch.gesv is deprecated in favour of torch.solve and will be removed in the next release. Please use torch.solve instead.\n",
      "  return torch.gesv(B,A)[0][:,0]\n",
      "C:\\Users\\Yang\\AppData\\Local\\conda\\conda\\envs\\PyTorch\\lib\\site-packages\\fastai\\vision\\transform.py:243: UserWarning: torch.gesv is deprecated in favour of torch.solve and will be removed in the next release. Please use torch.solve instead.\n",
      "  return torch.gesv(B,A)[0][:,0]\n",
      "C:\\Users\\Yang\\AppData\\Local\\conda\\conda\\envs\\PyTorch\\lib\\site-packages\\fastai\\vision\\transform.py:243: UserWarning: torch.gesv is deprecated in favour of torch.solve and will be removed in the next release. Please use torch.solve instead.\n",
      "  return torch.gesv(B,A)[0][:,0]\n"
     ]
    }
   ],
   "source": [
    "data = ImageDataBunch.from_folder(path, ds_tfms=tfms, size=64)"
   ]
  },
  {
   "cell_type": "markdown",
   "metadata": {},
   "source": [
    "这是一种快捷方法，针对ImageNet样式后的文件夹中的数据，包括train和valid目录，每个目录包含一个子目录，其中所有标记的图片都是。 还有一个包含未标记图片的测试目录。\n",
    "\n",
    "这是相同的代码，但这次使用的数据块API可以使用任何样式的数据集。 所有阶段，将在下面解释，可以这样组合在一起："
   ]
  },
  {
   "cell_type": "code",
   "execution_count": 5,
   "metadata": {},
   "outputs": [
    {
     "name": "stderr",
     "output_type": "stream",
     "text": [
      "C:\\Users\\Yang\\AppData\\Local\\conda\\conda\\envs\\PyTorch\\lib\\site-packages\\fastai\\vision\\transform.py:243: UserWarning: torch.gesv is deprecated in favour of torch.solve and will be removed in the next release. Please use torch.solve instead.\n",
      "  return torch.gesv(B,A)[0][:,0]\n",
      "C:\\Users\\Yang\\AppData\\Local\\conda\\conda\\envs\\PyTorch\\lib\\site-packages\\fastai\\vision\\transform.py:243: UserWarning: torch.gesv is deprecated in favour of torch.solve and will be removed in the next release. Please use torch.solve instead.\n",
      "  return torch.gesv(B,A)[0][:,0]\n",
      "C:\\Users\\Yang\\AppData\\Local\\conda\\conda\\envs\\PyTorch\\lib\\site-packages\\fastai\\vision\\transform.py:243: UserWarning: torch.gesv is deprecated in favour of torch.solve and will be removed in the next release. Please use torch.solve instead.\n",
      "  return torch.gesv(B,A)[0][:,0]\n",
      "C:\\Users\\Yang\\AppData\\Local\\conda\\conda\\envs\\PyTorch\\lib\\site-packages\\fastai\\vision\\transform.py:243: UserWarning: torch.gesv is deprecated in favour of torch.solve and will be removed in the next release. Please use torch.solve instead.\n",
      "  return torch.gesv(B,A)[0][:,0]\n",
      "C:\\Users\\Yang\\AppData\\Local\\conda\\conda\\envs\\PyTorch\\lib\\site-packages\\fastai\\vision\\transform.py:243: UserWarning: torch.gesv is deprecated in favour of torch.solve and will be removed in the next release. Please use torch.solve instead.\n",
      "  return torch.gesv(B,A)[0][:,0]\n",
      "C:\\Users\\Yang\\AppData\\Local\\conda\\conda\\envs\\PyTorch\\lib\\site-packages\\fastai\\vision\\transform.py:243: UserWarning: torch.gesv is deprecated in favour of torch.solve and will be removed in the next release. Please use torch.solve instead.\n",
      "  return torch.gesv(B,A)[0][:,0]\n",
      "C:\\Users\\Yang\\AppData\\Local\\conda\\conda\\envs\\PyTorch\\lib\\site-packages\\fastai\\vision\\transform.py:243: UserWarning: torch.gesv is deprecated in favour of torch.solve and will be removed in the next release. Please use torch.solve instead.\n",
      "  return torch.gesv(B,A)[0][:,0]\n",
      "C:\\Users\\Yang\\AppData\\Local\\conda\\conda\\envs\\PyTorch\\lib\\site-packages\\fastai\\vision\\transform.py:243: UserWarning: torch.gesv is deprecated in favour of torch.solve and will be removed in the next release. Please use torch.solve instead.\n",
      "  return torch.gesv(B,A)[0][:,0]\n",
      "C:\\Users\\Yang\\AppData\\Local\\conda\\conda\\envs\\PyTorch\\lib\\site-packages\\fastai\\vision\\transform.py:243: UserWarning: torch.gesv is deprecated in favour of torch.solve and will be removed in the next release. Please use torch.solve instead.\n",
      "  return torch.gesv(B,A)[0][:,0]\n",
      "C:\\Users\\Yang\\AppData\\Local\\conda\\conda\\envs\\PyTorch\\lib\\site-packages\\fastai\\vision\\transform.py:243: UserWarning: torch.gesv is deprecated in favour of torch.solve and will be removed in the next release. Please use torch.solve instead.\n",
      "  return torch.gesv(B,A)[0][:,0]\n",
      "C:\\Users\\Yang\\AppData\\Local\\conda\\conda\\envs\\PyTorch\\lib\\site-packages\\fastai\\vision\\transform.py:243: UserWarning: torch.gesv is deprecated in favour of torch.solve and will be removed in the next release. Please use torch.solve instead.\n",
      "  return torch.gesv(B,A)[0][:,0]\n",
      "C:\\Users\\Yang\\AppData\\Local\\conda\\conda\\envs\\PyTorch\\lib\\site-packages\\fastai\\vision\\transform.py:243: UserWarning: torch.gesv is deprecated in favour of torch.solve and will be removed in the next release. Please use torch.solve instead.\n",
      "  return torch.gesv(B,A)[0][:,0]\n",
      "C:\\Users\\Yang\\AppData\\Local\\conda\\conda\\envs\\PyTorch\\lib\\site-packages\\fastai\\vision\\transform.py:243: UserWarning: torch.gesv is deprecated in favour of torch.solve and will be removed in the next release. Please use torch.solve instead.\n",
      "  return torch.gesv(B,A)[0][:,0]\n",
      "C:\\Users\\Yang\\AppData\\Local\\conda\\conda\\envs\\PyTorch\\lib\\site-packages\\fastai\\vision\\transform.py:243: UserWarning: torch.gesv is deprecated in favour of torch.solve and will be removed in the next release. Please use torch.solve instead.\n",
      "  return torch.gesv(B,A)[0][:,0]\n",
      "C:\\Users\\Yang\\AppData\\Local\\conda\\conda\\envs\\PyTorch\\lib\\site-packages\\fastai\\vision\\transform.py:243: UserWarning: torch.gesv is deprecated in favour of torch.solve and will be removed in the next release. Please use torch.solve instead.\n",
      "  return torch.gesv(B,A)[0][:,0]\n",
      "C:\\Users\\Yang\\AppData\\Local\\conda\\conda\\envs\\PyTorch\\lib\\site-packages\\fastai\\vision\\transform.py:243: UserWarning: torch.gesv is deprecated in favour of torch.solve and will be removed in the next release. Please use torch.solve instead.\n",
      "  return torch.gesv(B,A)[0][:,0]\n",
      "C:\\Users\\Yang\\AppData\\Local\\conda\\conda\\envs\\PyTorch\\lib\\site-packages\\fastai\\vision\\transform.py:243: UserWarning: torch.gesv is deprecated in favour of torch.solve and will be removed in the next release. Please use torch.solve instead.\n",
      "  return torch.gesv(B,A)[0][:,0]\n",
      "C:\\Users\\Yang\\AppData\\Local\\conda\\conda\\envs\\PyTorch\\lib\\site-packages\\fastai\\vision\\transform.py:243: UserWarning: torch.gesv is deprecated in favour of torch.solve and will be removed in the next release. Please use torch.solve instead.\n",
      "  return torch.gesv(B,A)[0][:,0]\n",
      "C:\\Users\\Yang\\AppData\\Local\\conda\\conda\\envs\\PyTorch\\lib\\site-packages\\fastai\\vision\\transform.py:243: UserWarning: torch.gesv is deprecated in favour of torch.solve and will be removed in the next release. Please use torch.solve instead.\n",
      "  return torch.gesv(B,A)[0][:,0]\n",
      "C:\\Users\\Yang\\AppData\\Local\\conda\\conda\\envs\\PyTorch\\lib\\site-packages\\fastai\\vision\\transform.py:243: UserWarning: torch.gesv is deprecated in favour of torch.solve and will be removed in the next release. Please use torch.solve instead.\n",
      "  return torch.gesv(B,A)[0][:,0]\n",
      "C:\\Users\\Yang\\AppData\\Local\\conda\\conda\\envs\\PyTorch\\lib\\site-packages\\fastai\\vision\\transform.py:243: UserWarning: torch.gesv is deprecated in favour of torch.solve and will be removed in the next release. Please use torch.solve instead.\n",
      "  return torch.gesv(B,A)[0][:,0]\n",
      "C:\\Users\\Yang\\AppData\\Local\\conda\\conda\\envs\\PyTorch\\lib\\site-packages\\fastai\\vision\\transform.py:243: UserWarning: torch.gesv is deprecated in favour of torch.solve and will be removed in the next release. Please use torch.solve instead.\n",
      "  return torch.gesv(B,A)[0][:,0]\n",
      "C:\\Users\\Yang\\AppData\\Local\\conda\\conda\\envs\\PyTorch\\lib\\site-packages\\fastai\\vision\\transform.py:243: UserWarning: torch.gesv is deprecated in favour of torch.solve and will be removed in the next release. Please use torch.solve instead.\n",
      "  return torch.gesv(B,A)[0][:,0]\n",
      "C:\\Users\\Yang\\AppData\\Local\\conda\\conda\\envs\\PyTorch\\lib\\site-packages\\fastai\\vision\\transform.py:243: UserWarning: torch.gesv is deprecated in favour of torch.solve and will be removed in the next release. Please use torch.solve instead.\n",
      "  return torch.gesv(B,A)[0][:,0]\n",
      "C:\\Users\\Yang\\AppData\\Local\\conda\\conda\\envs\\PyTorch\\lib\\site-packages\\fastai\\vision\\transform.py:243: UserWarning: torch.gesv is deprecated in favour of torch.solve and will be removed in the next release. Please use torch.solve instead.\n",
      "  return torch.gesv(B,A)[0][:,0]\n",
      "C:\\Users\\Yang\\AppData\\Local\\conda\\conda\\envs\\PyTorch\\lib\\site-packages\\fastai\\vision\\transform.py:243: UserWarning: torch.gesv is deprecated in favour of torch.solve and will be removed in the next release. Please use torch.solve instead.\n",
      "  return torch.gesv(B,A)[0][:,0]\n",
      "C:\\Users\\Yang\\AppData\\Local\\conda\\conda\\envs\\PyTorch\\lib\\site-packages\\fastai\\vision\\transform.py:243: UserWarning: torch.gesv is deprecated in favour of torch.solve and will be removed in the next release. Please use torch.solve instead.\n",
      "  return torch.gesv(B,A)[0][:,0]\n",
      "C:\\Users\\Yang\\AppData\\Local\\conda\\conda\\envs\\PyTorch\\lib\\site-packages\\fastai\\vision\\transform.py:243: UserWarning: torch.gesv is deprecated in favour of torch.solve and will be removed in the next release. Please use torch.solve instead.\n",
      "  return torch.gesv(B,A)[0][:,0]\n",
      "C:\\Users\\Yang\\AppData\\Local\\conda\\conda\\envs\\PyTorch\\lib\\site-packages\\fastai\\vision\\transform.py:243: UserWarning: torch.gesv is deprecated in favour of torch.solve and will be removed in the next release. Please use torch.solve instead.\n",
      "  return torch.gesv(B,A)[0][:,0]\n",
      "C:\\Users\\Yang\\AppData\\Local\\conda\\conda\\envs\\PyTorch\\lib\\site-packages\\fastai\\vision\\transform.py:243: UserWarning: torch.gesv is deprecated in favour of torch.solve and will be removed in the next release. Please use torch.solve instead.\n",
      "  return torch.gesv(B,A)[0][:,0]\n",
      "C:\\Users\\Yang\\AppData\\Local\\conda\\conda\\envs\\PyTorch\\lib\\site-packages\\fastai\\vision\\transform.py:243: UserWarning: torch.gesv is deprecated in favour of torch.solve and will be removed in the next release. Please use torch.solve instead.\n",
      "  return torch.gesv(B,A)[0][:,0]\n"
     ]
    },
    {
     "name": "stderr",
     "output_type": "stream",
     "text": [
      "C:\\Users\\Yang\\AppData\\Local\\conda\\conda\\envs\\PyTorch\\lib\\site-packages\\fastai\\vision\\transform.py:243: UserWarning: torch.gesv is deprecated in favour of torch.solve and will be removed in the next release. Please use torch.solve instead.\n",
      "  return torch.gesv(B,A)[0][:,0]\n",
      "C:\\Users\\Yang\\AppData\\Local\\conda\\conda\\envs\\PyTorch\\lib\\site-packages\\fastai\\vision\\transform.py:243: UserWarning: torch.gesv is deprecated in favour of torch.solve and will be removed in the next release. Please use torch.solve instead.\n",
      "  return torch.gesv(B,A)[0][:,0]\n",
      "C:\\Users\\Yang\\AppData\\Local\\conda\\conda\\envs\\PyTorch\\lib\\site-packages\\fastai\\vision\\transform.py:243: UserWarning: torch.gesv is deprecated in favour of torch.solve and will be removed in the next release. Please use torch.solve instead.\n",
      "  return torch.gesv(B,A)[0][:,0]\n",
      "C:\\Users\\Yang\\AppData\\Local\\conda\\conda\\envs\\PyTorch\\lib\\site-packages\\fastai\\vision\\transform.py:243: UserWarning: torch.gesv is deprecated in favour of torch.solve and will be removed in the next release. Please use torch.solve instead.\n",
      "  return torch.gesv(B,A)[0][:,0]\n",
      "C:\\Users\\Yang\\AppData\\Local\\conda\\conda\\envs\\PyTorch\\lib\\site-packages\\fastai\\vision\\transform.py:243: UserWarning: torch.gesv is deprecated in favour of torch.solve and will be removed in the next release. Please use torch.solve instead.\n",
      "  return torch.gesv(B,A)[0][:,0]\n",
      "C:\\Users\\Yang\\AppData\\Local\\conda\\conda\\envs\\PyTorch\\lib\\site-packages\\fastai\\vision\\transform.py:243: UserWarning: torch.gesv is deprecated in favour of torch.solve and will be removed in the next release. Please use torch.solve instead.\n",
      "  return torch.gesv(B,A)[0][:,0]\n",
      "C:\\Users\\Yang\\AppData\\Local\\conda\\conda\\envs\\PyTorch\\lib\\site-packages\\fastai\\vision\\transform.py:243: UserWarning: torch.gesv is deprecated in favour of torch.solve and will be removed in the next release. Please use torch.solve instead.\n",
      "  return torch.gesv(B,A)[0][:,0]\n",
      "C:\\Users\\Yang\\AppData\\Local\\conda\\conda\\envs\\PyTorch\\lib\\site-packages\\fastai\\vision\\transform.py:243: UserWarning: torch.gesv is deprecated in favour of torch.solve and will be removed in the next release. Please use torch.solve instead.\n",
      "  return torch.gesv(B,A)[0][:,0]\n",
      "C:\\Users\\Yang\\AppData\\Local\\conda\\conda\\envs\\PyTorch\\lib\\site-packages\\fastai\\vision\\transform.py:243: UserWarning: torch.gesv is deprecated in favour of torch.solve and will be removed in the next release. Please use torch.solve instead.\n",
      "  return torch.gesv(B,A)[0][:,0]\n",
      "C:\\Users\\Yang\\AppData\\Local\\conda\\conda\\envs\\PyTorch\\lib\\site-packages\\fastai\\vision\\transform.py:243: UserWarning: torch.gesv is deprecated in favour of torch.solve and will be removed in the next release. Please use torch.solve instead.\n",
      "  return torch.gesv(B,A)[0][:,0]\n",
      "C:\\Users\\Yang\\AppData\\Local\\conda\\conda\\envs\\PyTorch\\lib\\site-packages\\fastai\\vision\\transform.py:243: UserWarning: torch.gesv is deprecated in favour of torch.solve and will be removed in the next release. Please use torch.solve instead.\n",
      "  return torch.gesv(B,A)[0][:,0]\n",
      "C:\\Users\\Yang\\AppData\\Local\\conda\\conda\\envs\\PyTorch\\lib\\site-packages\\fastai\\vision\\transform.py:243: UserWarning: torch.gesv is deprecated in favour of torch.solve and will be removed in the next release. Please use torch.solve instead.\n",
      "  return torch.gesv(B,A)[0][:,0]\n",
      "C:\\Users\\Yang\\AppData\\Local\\conda\\conda\\envs\\PyTorch\\lib\\site-packages\\fastai\\vision\\transform.py:243: UserWarning: torch.gesv is deprecated in favour of torch.solve and will be removed in the next release. Please use torch.solve instead.\n",
      "  return torch.gesv(B,A)[0][:,0]\n",
      "C:\\Users\\Yang\\AppData\\Local\\conda\\conda\\envs\\PyTorch\\lib\\site-packages\\fastai\\vision\\transform.py:243: UserWarning: torch.gesv is deprecated in favour of torch.solve and will be removed in the next release. Please use torch.solve instead.\n",
      "  return torch.gesv(B,A)[0][:,0]\n",
      "C:\\Users\\Yang\\AppData\\Local\\conda\\conda\\envs\\PyTorch\\lib\\site-packages\\fastai\\vision\\transform.py:243: UserWarning: torch.gesv is deprecated in favour of torch.solve and will be removed in the next release. Please use torch.solve instead.\n",
      "  return torch.gesv(B,A)[0][:,0]\n",
      "C:\\Users\\Yang\\AppData\\Local\\conda\\conda\\envs\\PyTorch\\lib\\site-packages\\fastai\\vision\\transform.py:243: UserWarning: torch.gesv is deprecated in favour of torch.solve and will be removed in the next release. Please use torch.solve instead.\n",
      "  return torch.gesv(B,A)[0][:,0]\n",
      "C:\\Users\\Yang\\AppData\\Local\\conda\\conda\\envs\\PyTorch\\lib\\site-packages\\fastai\\vision\\transform.py:243: UserWarning: torch.gesv is deprecated in favour of torch.solve and will be removed in the next release. Please use torch.solve instead.\n",
      "  return torch.gesv(B,A)[0][:,0]\n",
      "C:\\Users\\Yang\\AppData\\Local\\conda\\conda\\envs\\PyTorch\\lib\\site-packages\\fastai\\vision\\transform.py:243: UserWarning: torch.gesv is deprecated in favour of torch.solve and will be removed in the next release. Please use torch.solve instead.\n",
      "  return torch.gesv(B,A)[0][:,0]\n"
     ]
    }
   ],
   "source": [
    "data = (ImageList.from_folder(path)     #Where to find the data? -> in path and its subfolders\n",
    "        .split_by_folder()              #How to split in train/valid? -> use the folders\n",
    "        .label_from_folder()            #How to label? -> depending on the folder of the filenames\n",
    "        .add_test_folder()              #Optionally add a test set (here default name is test)\n",
    "        .transform(tfms, size=64)       #Data augmentation? -> use tfms with a size of 64\n",
    "        .databunch())                   #Finally? -> use the defaults for conversion to ImageDataBunch"
   ]
  },
  {
   "cell_type": "markdown",
   "metadata": {},
   "source": [
    "现在我们可以看一下创建的DataBunch："
   ]
  },
  {
   "cell_type": "code",
   "execution_count": 6,
   "metadata": {},
   "outputs": [
    {
     "data": {
      "image/png": "[encoded data removed]",
      "text/plain": [
       "<Figure size 432x432 with 9 Axes>"
      ]
     },
     "metadata": {
      "needs_background": "light"
     },
     "output_type": "display_data"
    }
   ],
   "source": [
    "data.show_batch(3, figsize=(6,6), hide_axis=False)"
   ]
  },
  {
   "cell_type": "markdown",
   "metadata": {},
   "source": [
    "让我们看一下来自vision.data的另一个带有行星数据集的例子。 这次，它是csv文件中标签的多分类问题，并且在有效数据和列车数据之间没有给定的分割，因此我们使用随机分割。 工厂方法是："
   ]
  },
  {
   "cell_type": "code",
   "execution_count": 7,
   "metadata": {},
   "outputs": [],
   "source": [
    "planet = untar_data(URLs.PLANET_TINY)\n",
    "planet_tfms = get_transforms(flip_vert=True, max_lighting=0.1, max_zoom=1.05, max_warp=0.)"
   ]
  },
  {
   "cell_type": "code",
   "execution_count": 8,
   "metadata": {},
   "outputs": [
    {
     "data": {
      "text/html": [
       "<div>\n",
       "<style scoped>\n",
       "    .dataframe tbody tr th:only-of-type {\n",
       "        vertical-align: middle;\n",
       "    }\n",
       "\n",
       "    .dataframe tbody tr th {\n",
       "        vertical-align: top;\n",
       "    }\n",
       "\n",
       "    .dataframe thead th {\n",
       "        text-align: right;\n",
       "    }\n",
       "</style>\n",
       "<table border=\"1\" class=\"dataframe\">\n",
       "  <thead>\n",
       "    <tr style=\"text-align: right;\">\n",
       "      <th></th>\n",
       "      <th>image_name</th>\n",
       "      <th>tags</th>\n",
       "    </tr>\n",
       "  </thead>\n",
       "  <tbody>\n",
       "    <tr>\n",
       "      <th>0</th>\n",
       "      <td>train_31112</td>\n",
       "      <td>clear primary</td>\n",
       "    </tr>\n",
       "    <tr>\n",
       "      <th>1</th>\n",
       "      <td>train_4300</td>\n",
       "      <td>partly_cloudy primary water</td>\n",
       "    </tr>\n",
       "    <tr>\n",
       "      <th>2</th>\n",
       "      <td>train_39539</td>\n",
       "      <td>clear primary water</td>\n",
       "    </tr>\n",
       "    <tr>\n",
       "      <th>3</th>\n",
       "      <td>train_12498</td>\n",
       "      <td>agriculture clear primary road</td>\n",
       "    </tr>\n",
       "    <tr>\n",
       "      <th>4</th>\n",
       "      <td>train_9320</td>\n",
       "      <td>clear primary</td>\n",
       "    </tr>\n",
       "  </tbody>\n",
       "</table>\n",
       "</div>"
      ],
      "text/plain": [
       "    image_name                            tags\n",
       "0  train_31112                   clear primary\n",
       "1   train_4300     partly_cloudy primary water\n",
       "2  train_39539             clear primary water\n",
       "3  train_12498  agriculture clear primary road\n",
       "4   train_9320                   clear primary"
      ]
     },
     "execution_count": 8,
     "metadata": {},
     "output_type": "execute_result"
    }
   ],
   "source": [
    "pd.read_csv(planet/\"labels.csv\").head()"
   ]
  },
  {
   "cell_type": "code",
   "execution_count": 9,
   "metadata": {},
   "outputs": [],
   "source": [
    "data = ImageDataBunch.from_csv(planet, folder='train', size=128, suffix='.jpg', label_delim = ' ', ds_tfms=planet_tfms)"
   ]
  },
  {
   "cell_type": "markdown",
   "metadata": {},
   "source": [
    "使用数据块API，我们可以像这样重写："
   ]
  },
  {
   "cell_type": "code",
   "execution_count": 10,
   "metadata": {},
   "outputs": [
    {
     "data": {
      "text/plain": [
       "[WindowsPath('C:/Users/Yang/.fastai/data/planet_tiny/labels.csv'),\n",
       " WindowsPath('C:/Users/Yang/.fastai/data/planet_tiny/train')]"
      ]
     },
     "execution_count": 10,
     "metadata": {},
     "output_type": "execute_result"
    }
   ],
   "source": [
    "planet.ls()"
   ]
  },
  {
   "cell_type": "code",
   "execution_count": 11,
   "metadata": {},
   "outputs": [
    {
     "data": {
      "text/html": [
       "<div>\n",
       "<style scoped>\n",
       "    .dataframe tbody tr th:only-of-type {\n",
       "        vertical-align: middle;\n",
       "    }\n",
       "\n",
       "    .dataframe tbody tr th {\n",
       "        vertical-align: top;\n",
       "    }\n",
       "\n",
       "    .dataframe thead th {\n",
       "        text-align: right;\n",
       "    }\n",
       "</style>\n",
       "<table border=\"1\" class=\"dataframe\">\n",
       "  <thead>\n",
       "    <tr style=\"text-align: right;\">\n",
       "      <th></th>\n",
       "      <th>image_name</th>\n",
       "      <th>tags</th>\n",
       "    </tr>\n",
       "  </thead>\n",
       "  <tbody>\n",
       "    <tr>\n",
       "      <th>0</th>\n",
       "      <td>train_31112</td>\n",
       "      <td>clear primary</td>\n",
       "    </tr>\n",
       "    <tr>\n",
       "      <th>1</th>\n",
       "      <td>train_4300</td>\n",
       "      <td>partly_cloudy primary water</td>\n",
       "    </tr>\n",
       "    <tr>\n",
       "      <th>2</th>\n",
       "      <td>train_39539</td>\n",
       "      <td>clear primary water</td>\n",
       "    </tr>\n",
       "    <tr>\n",
       "      <th>3</th>\n",
       "      <td>train_12498</td>\n",
       "      <td>agriculture clear primary road</td>\n",
       "    </tr>\n",
       "    <tr>\n",
       "      <th>4</th>\n",
       "      <td>train_9320</td>\n",
       "      <td>clear primary</td>\n",
       "    </tr>\n",
       "  </tbody>\n",
       "</table>\n",
       "</div>"
      ],
      "text/plain": [
       "    image_name                            tags\n",
       "0  train_31112                   clear primary\n",
       "1   train_4300     partly_cloudy primary water\n",
       "2  train_39539             clear primary water\n",
       "3  train_12498  agriculture clear primary road\n",
       "4   train_9320                   clear primary"
      ]
     },
     "execution_count": 11,
     "metadata": {},
     "output_type": "execute_result"
    }
   ],
   "source": [
    "pd.read_csv(planet/\"labels.csv\").head()"
   ]
  },
  {
   "cell_type": "code",
   "execution_count": 12,
   "metadata": {},
   "outputs": [],
   "source": [
    "data = (ImageList.from_csv(planet, 'labels.csv', folder='train', suffix='.jpg')\n",
    "        #Where to find the data? -> in planet 'train' folder\n",
    "        .split_by_rand_pct()\n",
    "        #How to split in train/valid? -> randomly with the default 20% in valid\n",
    "        .label_from_df(label_delim=' ')\n",
    "        #How to label? -> use the second column of the csv file and split the tags by ' '\n",
    "        .transform(planet_tfms, size=128)\n",
    "        #Data augmentation? -> use tfms with a size of 128\n",
    "        .databunch())                          \n",
    "        #Finally -> use the defaults for conversion to databunch"
   ]
  },
  {
   "cell_type": "code",
   "execution_count": 13,
   "metadata": {},
   "outputs": [
    {
     "data": {
      "image/png": "[encoded data removed]",
      "text/plain": [
       "<Figure size 648x504 with 4 Axes>"
      ]
     },
     "metadata": {
      "needs_background": "light"
     },
     "output_type": "display_data"
    }
   ],
   "source": [
    "data.show_batch(rows=2, figsize=(9,7))"
   ]
  },
  {
   "cell_type": "markdown",
   "metadata": {},
   "source": [
    "数据块API还允许您将数据集中在没有直接ImageDataBunch工厂方法的问题中。 例如，对于分段任务，我们可以使用它快速获取DataBunch。 我们以camvid数据集为例。 图像位于“图像”文件夹中，其对应的蒙版位于“标签”文件夹中。"
   ]
  },
  {
   "cell_type": "code",
   "execution_count": 14,
   "metadata": {},
   "outputs": [],
   "source": [
    "camvid = untar_data(URLs.CAMVID_TINY)\n",
    "path_lbl = camvid/'labels'\n",
    "path_img = camvid/'images'"
   ]
  },
  {
   "cell_type": "markdown",
   "metadata": {},
   "source": [
    "我们有一个文件，它为我们提供了类的名称（掩码中每个代码对应的内容：行人，树，道路......）"
   ]
  },
  {
   "cell_type": "code",
   "execution_count": 15,
   "metadata": {},
   "outputs": [
    {
     "data": {
      "text/plain": [
       "[WindowsPath('C:/Users/Yang/.fastai/data/camvid_tiny/codes.txt'),\n",
       " WindowsPath('C:/Users/Yang/.fastai/data/camvid_tiny/images'),\n",
       " WindowsPath('C:/Users/Yang/.fastai/data/camvid_tiny/labels')]"
      ]
     },
     "execution_count": 15,
     "metadata": {},
     "output_type": "execute_result"
    }
   ],
   "source": [
    "camvid.ls()"
   ]
  },
  {
   "cell_type": "code",
   "execution_count": 16,
   "metadata": {},
   "outputs": [
    {
     "data": {
      "text/plain": [
       "array(['Animal', 'Archway', 'Bicyclist', 'Bridge', 'Building', 'Car', 'CartLuggagePram', 'Child', 'Column_Pole',\n",
       "       'Fence', 'LaneMkgsDriv', 'LaneMkgsNonDriv', 'Misc_Text', 'MotorcycleScooter', 'OtherMoving', 'ParkingBlock',\n",
       "       'Pedestrian', 'Road', 'RoadShoulder', 'Sidewalk', 'SignSymbol', 'Sky', 'SUVPickupTruck', 'TrafficCone',\n",
       "       'TrafficLight', 'Train', 'Tree', 'Truck_Bus', 'Tunnel', 'VegetationMisc', 'Void', 'Wall'], dtype='<U17')"
      ]
     },
     "execution_count": 16,
     "metadata": {},
     "output_type": "execute_result"
    }
   ],
   "source": [
    "codes = np.loadtxt(camvid/'codes.txt', dtype=str); codes"
   ]
  },
  {
   "cell_type": "markdown",
   "metadata": {},
   "source": [
    "我们定义了以下函数，从图像文件名中推断出掩码文件名。"
   ]
  },
  {
   "cell_type": "code",
   "execution_count": 17,
   "metadata": {},
   "outputs": [],
   "source": [
    "get_y_fn = lambda x: path_lbl/f'{x.stem}_P{x.suffix}'"
   ]
  },
  {
   "cell_type": "markdown",
   "metadata": {},
   "source": [
    "然后我们可以使用数据块API轻松定义DataBunch。 这里我们需要在变换调用中使用tfm_y = True，因为我们需要将相同的变换应用于目标掩码，就像应用于图像一样。 附注：为了进一步控制目标上使用的转换，每个转换都有一个use_on_y参数"
   ]
  },
  {
   "cell_type": "code",
   "execution_count": 18,
   "metadata": {},
   "outputs": [
    {
     "name": "stderr",
     "output_type": "stream",
     "text": [
      "C:\\Users\\Yang\\AppData\\Local\\conda\\conda\\envs\\PyTorch\\lib\\site-packages\\fastai\\vision\\transform.py:243: UserWarning: torch.gesv is deprecated in favour of torch.solve and will be removed in the next release. Please use torch.solve instead.\n",
      "  return torch.gesv(B,A)[0][:,0]\n",
      "C:\\Users\\Yang\\AppData\\Local\\conda\\conda\\envs\\PyTorch\\lib\\site-packages\\fastai\\vision\\transform.py:243: UserWarning: torch.gesv is deprecated in favour of torch.solve and will be removed in the next release. Please use torch.solve instead.\n",
      "  return torch.gesv(B,A)[0][:,0]\n",
      "C:\\Users\\Yang\\AppData\\Local\\conda\\conda\\envs\\PyTorch\\lib\\site-packages\\fastai\\vision\\transform.py:243: UserWarning: torch.gesv is deprecated in favour of torch.solve and will be removed in the next release. Please use torch.solve instead.\n",
      "  return torch.gesv(B,A)[0][:,0]\n",
      "C:\\Users\\Yang\\AppData\\Local\\conda\\conda\\envs\\PyTorch\\lib\\site-packages\\fastai\\vision\\transform.py:243: UserWarning: torch.gesv is deprecated in favour of torch.solve and will be removed in the next release. Please use torch.solve instead.\n",
      "  return torch.gesv(B,A)[0][:,0]\n",
      "C:\\Users\\Yang\\AppData\\Local\\conda\\conda\\envs\\PyTorch\\lib\\site-packages\\fastai\\vision\\transform.py:243: UserWarning: torch.gesv is deprecated in favour of torch.solve and will be removed in the next release. Please use torch.solve instead.\n",
      "  return torch.gesv(B,A)[0][:,0]\n",
      "C:\\Users\\Yang\\AppData\\Local\\conda\\conda\\envs\\PyTorch\\lib\\site-packages\\fastai\\vision\\transform.py:243: UserWarning: torch.gesv is deprecated in favour of torch.solve and will be removed in the next release. Please use torch.solve instead.\n",
      "  return torch.gesv(B,A)[0][:,0]\n",
      "C:\\Users\\Yang\\AppData\\Local\\conda\\conda\\envs\\PyTorch\\lib\\site-packages\\fastai\\vision\\transform.py:243: UserWarning: torch.gesv is deprecated in favour of torch.solve and will be removed in the next release. Please use torch.solve instead.\n",
      "  return torch.gesv(B,A)[0][:,0]\n",
      "C:\\Users\\Yang\\AppData\\Local\\conda\\conda\\envs\\PyTorch\\lib\\site-packages\\fastai\\vision\\transform.py:243: UserWarning: torch.gesv is deprecated in favour of torch.solve and will be removed in the next release. Please use torch.solve instead.\n",
      "  return torch.gesv(B,A)[0][:,0]\n",
      "C:\\Users\\Yang\\AppData\\Local\\conda\\conda\\envs\\PyTorch\\lib\\site-packages\\fastai\\vision\\transform.py:243: UserWarning: torch.gesv is deprecated in favour of torch.solve and will be removed in the next release. Please use torch.solve instead.\n",
      "  return torch.gesv(B,A)[0][:,0]\n",
      "C:\\Users\\Yang\\AppData\\Local\\conda\\conda\\envs\\PyTorch\\lib\\site-packages\\fastai\\vision\\transform.py:243: UserWarning: torch.gesv is deprecated in favour of torch.solve and will be removed in the next release. Please use torch.solve instead.\n",
      "  return torch.gesv(B,A)[0][:,0]\n",
      "C:\\Users\\Yang\\AppData\\Local\\conda\\conda\\envs\\PyTorch\\lib\\site-packages\\fastai\\vision\\transform.py:243: UserWarning: torch.gesv is deprecated in favour of torch.solve and will be removed in the next release. Please use torch.solve instead.\n",
      "  return torch.gesv(B,A)[0][:,0]\n",
      "C:\\Users\\Yang\\AppData\\Local\\conda\\conda\\envs\\PyTorch\\lib\\site-packages\\fastai\\vision\\transform.py:243: UserWarning: torch.gesv is deprecated in favour of torch.solve and will be removed in the next release. Please use torch.solve instead.\n",
      "  return torch.gesv(B,A)[0][:,0]\n",
      "C:\\Users\\Yang\\AppData\\Local\\conda\\conda\\envs\\PyTorch\\lib\\site-packages\\fastai\\vision\\transform.py:243: UserWarning: torch.gesv is deprecated in favour of torch.solve and will be removed in the next release. Please use torch.solve instead.\n",
      "  return torch.gesv(B,A)[0][:,0]\n",
      "C:\\Users\\Yang\\AppData\\Local\\conda\\conda\\envs\\PyTorch\\lib\\site-packages\\fastai\\vision\\transform.py:243: UserWarning: torch.gesv is deprecated in favour of torch.solve and will be removed in the next release. Please use torch.solve instead.\n",
      "  return torch.gesv(B,A)[0][:,0]\n",
      "C:\\Users\\Yang\\AppData\\Local\\conda\\conda\\envs\\PyTorch\\lib\\site-packages\\fastai\\vision\\transform.py:243: UserWarning: torch.gesv is deprecated in favour of torch.solve and will be removed in the next release. Please use torch.solve instead.\n",
      "  return torch.gesv(B,A)[0][:,0]\n",
      "C:\\Users\\Yang\\AppData\\Local\\conda\\conda\\envs\\PyTorch\\lib\\site-packages\\fastai\\vision\\transform.py:243: UserWarning: torch.gesv is deprecated in favour of torch.solve and will be removed in the next release. Please use torch.solve instead.\n",
      "  return torch.gesv(B,A)[0][:,0]\n",
      "C:\\Users\\Yang\\AppData\\Local\\conda\\conda\\envs\\PyTorch\\lib\\site-packages\\fastai\\vision\\transform.py:243: UserWarning: torch.gesv is deprecated in favour of torch.solve and will be removed in the next release. Please use torch.solve instead.\n",
      "  return torch.gesv(B,A)[0][:,0]\n",
      "C:\\Users\\Yang\\AppData\\Local\\conda\\conda\\envs\\PyTorch\\lib\\site-packages\\fastai\\vision\\transform.py:243: UserWarning: torch.gesv is deprecated in favour of torch.solve and will be removed in the next release. Please use torch.solve instead.\n",
      "  return torch.gesv(B,A)[0][:,0]\n",
      "C:\\Users\\Yang\\AppData\\Local\\conda\\conda\\envs\\PyTorch\\lib\\site-packages\\fastai\\vision\\transform.py:243: UserWarning: torch.gesv is deprecated in favour of torch.solve and will be removed in the next release. Please use torch.solve instead.\n",
      "  return torch.gesv(B,A)[0][:,0]\n",
      "C:\\Users\\Yang\\AppData\\Local\\conda\\conda\\envs\\PyTorch\\lib\\site-packages\\fastai\\vision\\transform.py:243: UserWarning: torch.gesv is deprecated in favour of torch.solve and will be removed in the next release. Please use torch.solve instead.\n",
      "  return torch.gesv(B,A)[0][:,0]\n",
      "C:\\Users\\Yang\\AppData\\Local\\conda\\conda\\envs\\PyTorch\\lib\\site-packages\\fastai\\vision\\transform.py:243: UserWarning: torch.gesv is deprecated in favour of torch.solve and will be removed in the next release. Please use torch.solve instead.\n",
      "  return torch.gesv(B,A)[0][:,0]\n",
      "C:\\Users\\Yang\\AppData\\Local\\conda\\conda\\envs\\PyTorch\\lib\\site-packages\\fastai\\vision\\transform.py:243: UserWarning: torch.gesv is deprecated in favour of torch.solve and will be removed in the next release. Please use torch.solve instead.\n",
      "  return torch.gesv(B,A)[0][:,0]\n",
      "C:\\Users\\Yang\\AppData\\Local\\conda\\conda\\envs\\PyTorch\\lib\\site-packages\\fastai\\vision\\transform.py:243: UserWarning: torch.gesv is deprecated in favour of torch.solve and will be removed in the next release. Please use torch.solve instead.\n",
      "  return torch.gesv(B,A)[0][:,0]\n",
      "C:\\Users\\Yang\\AppData\\Local\\conda\\conda\\envs\\PyTorch\\lib\\site-packages\\fastai\\vision\\transform.py:243: UserWarning: torch.gesv is deprecated in favour of torch.solve and will be removed in the next release. Please use torch.solve instead.\n",
      "  return torch.gesv(B,A)[0][:,0]\n",
      "C:\\Users\\Yang\\AppData\\Local\\conda\\conda\\envs\\PyTorch\\lib\\site-packages\\fastai\\vision\\transform.py:243: UserWarning: torch.gesv is deprecated in favour of torch.solve and will be removed in the next release. Please use torch.solve instead.\n",
      "  return torch.gesv(B,A)[0][:,0]\n",
      "C:\\Users\\Yang\\AppData\\Local\\conda\\conda\\envs\\PyTorch\\lib\\site-packages\\fastai\\vision\\transform.py:243: UserWarning: torch.gesv is deprecated in favour of torch.solve and will be removed in the next release. Please use torch.solve instead.\n",
      "  return torch.gesv(B,A)[0][:,0]\n",
      "C:\\Users\\Yang\\AppData\\Local\\conda\\conda\\envs\\PyTorch\\lib\\site-packages\\fastai\\vision\\transform.py:243: UserWarning: torch.gesv is deprecated in favour of torch.solve and will be removed in the next release. Please use torch.solve instead.\n",
      "  return torch.gesv(B,A)[0][:,0]\n",
      "C:\\Users\\Yang\\AppData\\Local\\conda\\conda\\envs\\PyTorch\\lib\\site-packages\\fastai\\vision\\transform.py:243: UserWarning: torch.gesv is deprecated in favour of torch.solve and will be removed in the next release. Please use torch.solve instead.\n",
      "  return torch.gesv(B,A)[0][:,0]\n",
      "C:\\Users\\Yang\\AppData\\Local\\conda\\conda\\envs\\PyTorch\\lib\\site-packages\\fastai\\vision\\transform.py:243: UserWarning: torch.gesv is deprecated in favour of torch.solve and will be removed in the next release. Please use torch.solve instead.\n",
      "  return torch.gesv(B,A)[0][:,0]\n",
      "C:\\Users\\Yang\\AppData\\Local\\conda\\conda\\envs\\PyTorch\\lib\\site-packages\\fastai\\vision\\transform.py:243: UserWarning: torch.gesv is deprecated in favour of torch.solve and will be removed in the next release. Please use torch.solve instead.\n",
      "  return torch.gesv(B,A)[0][:,0]\n",
      "C:\\Users\\Yang\\AppData\\Local\\conda\\conda\\envs\\PyTorch\\lib\\site-packages\\fastai\\vision\\transform.py:243: UserWarning: torch.gesv is deprecated in favour of torch.solve and will be removed in the next release. Please use torch.solve instead.\n",
      "  return torch.gesv(B,A)[0][:,0]\n"
     ]
    },
    {
     "name": "stderr",
     "output_type": "stream",
     "text": [
      "C:\\Users\\Yang\\AppData\\Local\\conda\\conda\\envs\\PyTorch\\lib\\site-packages\\fastai\\vision\\transform.py:243: UserWarning: torch.gesv is deprecated in favour of torch.solve and will be removed in the next release. Please use torch.solve instead.\n",
      "  return torch.gesv(B,A)[0][:,0]\n",
      "C:\\Users\\Yang\\AppData\\Local\\conda\\conda\\envs\\PyTorch\\lib\\site-packages\\fastai\\vision\\transform.py:243: UserWarning: torch.gesv is deprecated in favour of torch.solve and will be removed in the next release. Please use torch.solve instead.\n",
      "  return torch.gesv(B,A)[0][:,0]\n",
      "C:\\Users\\Yang\\AppData\\Local\\conda\\conda\\envs\\PyTorch\\lib\\site-packages\\fastai\\vision\\transform.py:243: UserWarning: torch.gesv is deprecated in favour of torch.solve and will be removed in the next release. Please use torch.solve instead.\n",
      "  return torch.gesv(B,A)[0][:,0]\n",
      "C:\\Users\\Yang\\AppData\\Local\\conda\\conda\\envs\\PyTorch\\lib\\site-packages\\fastai\\vision\\transform.py:243: UserWarning: torch.gesv is deprecated in favour of torch.solve and will be removed in the next release. Please use torch.solve instead.\n",
      "  return torch.gesv(B,A)[0][:,0]\n",
      "C:\\Users\\Yang\\AppData\\Local\\conda\\conda\\envs\\PyTorch\\lib\\site-packages\\fastai\\vision\\transform.py:243: UserWarning: torch.gesv is deprecated in favour of torch.solve and will be removed in the next release. Please use torch.solve instead.\n",
      "  return torch.gesv(B,A)[0][:,0]\n",
      "C:\\Users\\Yang\\AppData\\Local\\conda\\conda\\envs\\PyTorch\\lib\\site-packages\\fastai\\vision\\transform.py:243: UserWarning: torch.gesv is deprecated in favour of torch.solve and will be removed in the next release. Please use torch.solve instead.\n",
      "  return torch.gesv(B,A)[0][:,0]\n",
      "C:\\Users\\Yang\\AppData\\Local\\conda\\conda\\envs\\PyTorch\\lib\\site-packages\\fastai\\vision\\transform.py:243: UserWarning: torch.gesv is deprecated in favour of torch.solve and will be removed in the next release. Please use torch.solve instead.\n",
      "  return torch.gesv(B,A)[0][:,0]\n",
      "C:\\Users\\Yang\\AppData\\Local\\conda\\conda\\envs\\PyTorch\\lib\\site-packages\\fastai\\vision\\transform.py:243: UserWarning: torch.gesv is deprecated in favour of torch.solve and will be removed in the next release. Please use torch.solve instead.\n",
      "  return torch.gesv(B,A)[0][:,0]\n",
      "C:\\Users\\Yang\\AppData\\Local\\conda\\conda\\envs\\PyTorch\\lib\\site-packages\\fastai\\vision\\transform.py:243: UserWarning: torch.gesv is deprecated in favour of torch.solve and will be removed in the next release. Please use torch.solve instead.\n",
      "  return torch.gesv(B,A)[0][:,0]\n",
      "C:\\Users\\Yang\\AppData\\Local\\conda\\conda\\envs\\PyTorch\\lib\\site-packages\\fastai\\vision\\transform.py:243: UserWarning: torch.gesv is deprecated in favour of torch.solve and will be removed in the next release. Please use torch.solve instead.\n",
      "  return torch.gesv(B,A)[0][:,0]\n",
      "C:\\Users\\Yang\\AppData\\Local\\conda\\conda\\envs\\PyTorch\\lib\\site-packages\\fastai\\vision\\transform.py:243: UserWarning: torch.gesv is deprecated in favour of torch.solve and will be removed in the next release. Please use torch.solve instead.\n",
      "  return torch.gesv(B,A)[0][:,0]\n",
      "C:\\Users\\Yang\\AppData\\Local\\conda\\conda\\envs\\PyTorch\\lib\\site-packages\\fastai\\vision\\transform.py:243: UserWarning: torch.gesv is deprecated in favour of torch.solve and will be removed in the next release. Please use torch.solve instead.\n",
      "  return torch.gesv(B,A)[0][:,0]\n",
      "C:\\Users\\Yang\\AppData\\Local\\conda\\conda\\envs\\PyTorch\\lib\\site-packages\\fastai\\vision\\transform.py:243: UserWarning: torch.gesv is deprecated in favour of torch.solve and will be removed in the next release. Please use torch.solve instead.\n",
      "  return torch.gesv(B,A)[0][:,0]\n",
      "C:\\Users\\Yang\\AppData\\Local\\conda\\conda\\envs\\PyTorch\\lib\\site-packages\\fastai\\vision\\transform.py:243: UserWarning: torch.gesv is deprecated in favour of torch.solve and will be removed in the next release. Please use torch.solve instead.\n",
      "  return torch.gesv(B,A)[0][:,0]\n",
      "C:\\Users\\Yang\\AppData\\Local\\conda\\conda\\envs\\PyTorch\\lib\\site-packages\\fastai\\vision\\transform.py:243: UserWarning: torch.gesv is deprecated in favour of torch.solve and will be removed in the next release. Please use torch.solve instead.\n",
      "  return torch.gesv(B,A)[0][:,0]\n",
      "C:\\Users\\Yang\\AppData\\Local\\conda\\conda\\envs\\PyTorch\\lib\\site-packages\\fastai\\vision\\transform.py:243: UserWarning: torch.gesv is deprecated in favour of torch.solve and will be removed in the next release. Please use torch.solve instead.\n",
      "  return torch.gesv(B,A)[0][:,0]\n",
      "C:\\Users\\Yang\\AppData\\Local\\conda\\conda\\envs\\PyTorch\\lib\\site-packages\\fastai\\vision\\transform.py:243: UserWarning: torch.gesv is deprecated in favour of torch.solve and will be removed in the next release. Please use torch.solve instead.\n",
      "  return torch.gesv(B,A)[0][:,0]\n"
     ]
    }
   ],
   "source": [
    "data = (SegmentationItemList.from_folder(path_img)\n",
    "        #Where to find the data? -> in path_img and its subfolders\n",
    "        .split_by_rand_pct()\n",
    "        #How to split in train/valid? -> randomly with the default 20% in valid\n",
    "        .label_from_func(get_y_fn, classes=codes)\n",
    "        #How to label? -> use the label function on the file name of the data\n",
    "        .transform(get_transforms(), tfm_y=True, size=128)\n",
    "        #Data augmentation? -> use tfms with a size of 128, also transform the label images\n",
    "        .databunch())\n",
    "        #Finally -> use the defaults for conversion to databunch"
   ]
  },
  {
   "cell_type": "code",
   "execution_count": 19,
   "metadata": {},
   "outputs": [
    {
     "data": {
      "image/png": "[encoded data removed]",
      "text/plain": [
       "<Figure size 504x360 with 4 Axes>"
      ]
     },
     "metadata": {
      "needs_background": "light"
     },
     "output_type": "display_data"
    }
   ],
   "source": [
    "data.show_batch(rows=2, figsize=(7,5))"
   ]
  },
  {
   "cell_type": "markdown",
   "metadata": {},
   "source": [
    "物体检测的另一个例子。 我们在这里使用我们的COCO数据集的小样本。 库中有一个辅助函数，用于读取注释文件并返回图像列表名称，其中包含与之关联的标记bbox列表。 我们将它转换为一个字典，用于映射图像名称和它们的bbox，然后编写将为每个图像文件名提供目标的函数。"
   ]
  },
  {
   "cell_type": "code",
   "execution_count": 20,
   "metadata": {},
   "outputs": [],
   "source": [
    "coco = untar_data(URLs.COCO_TINY)\n",
    "images, lbl_bbox = get_annotations(coco/'train.json')\n",
    "img2bbox = dict(zip(images, lbl_bbox))\n",
    "get_y_func = lambda o:img2bbox[o.name]"
   ]
  },
  {
   "cell_type": "markdown",
   "metadata": {},
   "source": [
    "以下代码与我们之前看到的非常相似。 唯一的新增功能是使用特殊功能批量整理样品。 这是因为我们的图像可能有多个边界框，因此我们需要将它们填充到最大数量的边界框。"
   ]
  },
  {
   "cell_type": "code",
   "execution_count": 21,
   "metadata": {},
   "outputs": [
    {
     "name": "stderr",
     "output_type": "stream",
     "text": [
      "C:\\Users\\Yang\\AppData\\Local\\conda\\conda\\envs\\PyTorch\\lib\\site-packages\\fastai\\vision\\transform.py:243: UserWarning: torch.gesv is deprecated in favour of torch.solve and will be removed in the next release. Please use torch.solve instead.\n",
      "  return torch.gesv(B,A)[0][:,0]\n",
      "C:\\Users\\Yang\\AppData\\Local\\conda\\conda\\envs\\PyTorch\\lib\\site-packages\\fastai\\vision\\transform.py:243: UserWarning: torch.gesv is deprecated in favour of torch.solve and will be removed in the next release. Please use torch.solve instead.\n",
      "  return torch.gesv(B,A)[0][:,0]\n",
      "C:\\Users\\Yang\\AppData\\Local\\conda\\conda\\envs\\PyTorch\\lib\\site-packages\\fastai\\vision\\transform.py:243: UserWarning: torch.gesv is deprecated in favour of torch.solve and will be removed in the next release. Please use torch.solve instead.\n",
      "  return torch.gesv(B,A)[0][:,0]\n",
      "C:\\Users\\Yang\\AppData\\Local\\conda\\conda\\envs\\PyTorch\\lib\\site-packages\\fastai\\vision\\transform.py:243: UserWarning: torch.gesv is deprecated in favour of torch.solve and will be removed in the next release. Please use torch.solve instead.\n",
      "  return torch.gesv(B,A)[0][:,0]\n",
      "C:\\Users\\Yang\\AppData\\Local\\conda\\conda\\envs\\PyTorch\\lib\\site-packages\\fastai\\vision\\transform.py:243: UserWarning: torch.gesv is deprecated in favour of torch.solve and will be removed in the next release. Please use torch.solve instead.\n",
      "  return torch.gesv(B,A)[0][:,0]\n",
      "C:\\Users\\Yang\\AppData\\Local\\conda\\conda\\envs\\PyTorch\\lib\\site-packages\\fastai\\vision\\transform.py:243: UserWarning: torch.gesv is deprecated in favour of torch.solve and will be removed in the next release. Please use torch.solve instead.\n",
      "  return torch.gesv(B,A)[0][:,0]\n",
      "C:\\Users\\Yang\\AppData\\Local\\conda\\conda\\envs\\PyTorch\\lib\\site-packages\\fastai\\vision\\transform.py:243: UserWarning: torch.gesv is deprecated in favour of torch.solve and will be removed in the next release. Please use torch.solve instead.\n",
      "  return torch.gesv(B,A)[0][:,0]\n",
      "C:\\Users\\Yang\\AppData\\Local\\conda\\conda\\envs\\PyTorch\\lib\\site-packages\\fastai\\vision\\transform.py:243: UserWarning: torch.gesv is deprecated in favour of torch.solve and will be removed in the next release. Please use torch.solve instead.\n",
      "  return torch.gesv(B,A)[0][:,0]\n",
      "C:\\Users\\Yang\\AppData\\Local\\conda\\conda\\envs\\PyTorch\\lib\\site-packages\\fastai\\vision\\transform.py:243: UserWarning: torch.gesv is deprecated in favour of torch.solve and will be removed in the next release. Please use torch.solve instead.\n",
      "  return torch.gesv(B,A)[0][:,0]\n",
      "C:\\Users\\Yang\\AppData\\Local\\conda\\conda\\envs\\PyTorch\\lib\\site-packages\\fastai\\vision\\transform.py:243: UserWarning: torch.gesv is deprecated in favour of torch.solve and will be removed in the next release. Please use torch.solve instead.\n",
      "  return torch.gesv(B,A)[0][:,0]\n",
      "C:\\Users\\Yang\\AppData\\Local\\conda\\conda\\envs\\PyTorch\\lib\\site-packages\\fastai\\torch_core.py:83: UserWarning: Tensor is int32: upgrading to int64; for better performance use int64 input\n",
      "  warn('Tensor is int32: upgrading to int64; for better performance use int64 input')\n"
     ]
    }
   ],
   "source": [
    "data = (ObjectItemList.from_folder(coco)\n",
    "        #Where are the images? -> in coco and its subfolders\n",
    "        .split_by_rand_pct()                          \n",
    "        #How to split in train/valid? -> randomly with the default 20% in valid\n",
    "        .label_from_func(get_y_func)\n",
    "        #How to find the labels? -> use get_y_func on the file name of the data\n",
    "        .transform(get_transforms(), tfm_y=True)\n",
    "        #Data augmentation? -> Standard transforms; also transform the label images\n",
    "        .databunch(bs=16, collate_fn=bb_pad_collate))   \n",
    "        #Finally we convert to a DataBunch, use a batch size of 16,\n",
    "        # and we use bb_pad_collate to collate the data into a mini-batch"
   ]
  },
  {
   "cell_type": "code",
   "execution_count": 22,
   "metadata": {},
   "outputs": [
    {
     "data": {
      "image/png": "[encoded data removed]",
      "text/plain": [
       "<Figure size 432x432 with 4 Axes>"
      ]
     },
     "metadata": {
      "needs_background": "light"
     },
     "output_type": "display_data"
    }
   ],
   "source": [
    "data.show_batch(rows=2, ds_type=DatasetType.Valid, figsize=(6,6))"
   ]
  },
  {
   "cell_type": "markdown",
   "metadata": {},
   "source": [
    "但是视觉并不是数据块API工作的唯一应用。 它还可以用于文本和表格数据。 通过我们的IMDB数据集样本（在csv文件中标记为文本），以下是如何将语言模型的数据组合在一起。"
   ]
  },
  {
   "cell_type": "code",
   "execution_count": 23,
   "metadata": {},
   "outputs": [],
   "source": [
    "from fastai.text import *"
   ]
  },
  {
   "cell_type": "code",
   "execution_count": 24,
   "metadata": {},
   "outputs": [],
   "source": [
    "imdb = untar_data(URLs.IMDB_SAMPLE)"
   ]
  },
  {
   "cell_type": "code",
   "execution_count": 25,
   "metadata": {},
   "outputs": [],
   "source": [
    "data_lm = (TextList\n",
    "           .from_csv(imdb, 'texts.csv', cols='text')\n",
    "           #Where are the text? Column 'text' of texts.csv\n",
    "           .split_by_rand_pct()\n",
    "           #How to split it? Randomly with the default 20% in valid\n",
    "           .label_for_lm()\n",
    "           #Label it for a language model\n",
    "           .databunch())\n",
    "           #Finally we convert to a DataBunch"
   ]
  },
  {
   "cell_type": "code",
   "execution_count": 26,
   "metadata": {},
   "outputs": [
    {
     "data": {
      "text/html": [
       "<table border=\"1\" class=\"dataframe\">\n",
       "  <thead>\n",
       "    <tr style=\"text-align: right;\">\n",
       "      <th>idx</th>\n",
       "      <th>text</th>\n",
       "    </tr>\n",
       "  </thead>\n",
       "  <tbody>\n",
       "    <tr>\n",
       "      <td>0</td>\n",
       "      <td>! ! ! xxmaj finally this was directed by the guy who did xxmaj big xxmaj xxunk ? xxmaj must be a replay of xxmaj jonestown - hollywood style . xxmaj xxunk ! xxbos xxmaj this is a extremely well - made film . xxmaj the acting , script and camera - work are all first - rate . xxmaj the music is good , too , though it is</td>\n",
       "    </tr>\n",
       "    <tr>\n",
       "      <td>1</td>\n",
       "      <td>n't change very much throughout the show . xxmaj their relationship grew , but they did n't really . xxmaj still , a fun time had by all ( xxmaj even for xxmaj xxunk ! ) . xxbos xxmaj have you ever sat watching a movie when 20 or 30 minutes have gone by and suddenly you realize that you have actually seen the movie before ? xxmaj that happened</td>\n",
       "    </tr>\n",
       "    <tr>\n",
       "      <td>2</td>\n",
       "      <td>values ( sets , costumes , etc . ) are quite good , and this greatly enhances its camp value . xxmaj in a strange way it is actually quite funny , simply because it tries to be serious and fails so badly . xxbos xxmaj this film is brilliant ! xxmaj it touches everyone who sees it in an extraordinary way . xxmaj it really takes you back to</td>\n",
       "    </tr>\n",
       "    <tr>\n",
       "      <td>3</td>\n",
       "      <td>story . xxmaj wells ' description of the xxmaj martians  a giant head xxunk on numerous xxunk  is effectively portrayed . xxmaj when the xxmaj xxunk machines appear , about an hour into the film , they too give a good impression of how xxmaj wells described them . xxmaj both xxmaj wells and this film do an excellent job of portraying the progress of the xxmaj martians</td>\n",
       "    </tr>\n",
       "    <tr>\n",
       "      <td>4</td>\n",
       "      <td>like that ever will happen . \\n \\n  xxmaj so is \" xxmaj higher xxmaj learning \" overly dramatic ? xxmaj exaggerated ? xxmaj maybe . xxmaj is it way \" off mark ? \" xxmaj it depends on where you went to or go to school . xxmaj the race thing where the xxunk just hang around with their own xxup does happen . xxmaj xxunk the xxmaj</td>\n",
       "    </tr>\n",
       "  </tbody>\n",
       "</table>"
      ],
      "text/plain": [
       "<IPython.core.display.HTML object>"
      ]
     },
     "metadata": {},
     "output_type": "display_data"
    }
   ],
   "source": [
    "data_lm.show_batch()"
   ]
  },
  {
   "cell_type": "markdown",
   "metadata": {},
   "source": [
    "对于分类问题，我们只需要改变标记的完成方式。 这里我们使用csv列标签。"
   ]
  },
  {
   "cell_type": "code",
   "execution_count": 27,
   "metadata": {},
   "outputs": [],
   "source": [
    "data_clas = (TextList.from_csv(imdb, 'texts.csv', cols='text')\n",
    "                   .split_from_df(col='is_valid')\n",
    "                   .label_from_df(cols='label')\n",
    "                   .databunch())"
   ]
  },
  {
   "cell_type": "code",
   "execution_count": 28,
   "metadata": {},
   "outputs": [
    {
     "data": {
      "text/html": [
       "<table border=\"1\" class=\"dataframe\">\n",
       "  <thead>\n",
       "    <tr style=\"text-align: right;\">\n",
       "      <th>text</th>\n",
       "      <th>target</th>\n",
       "    </tr>\n",
       "  </thead>\n",
       "  <tbody>\n",
       "    <tr>\n",
       "      <td>xxbos xxmaj raising xxmaj victor xxmaj vargas : a xxmaj review \\n \\n  xxmaj you know , xxmaj raising xxmaj victor xxmaj vargas is like sticking your hands into a big , xxunk bowl of xxunk . xxmaj it 's warm and gooey , but you 're not sure if it feels right . xxmaj try as i might , no matter how warm and gooey xxmaj raising xxmaj</td>\n",
       "      <td>negative</td>\n",
       "    </tr>\n",
       "    <tr>\n",
       "      <td>xxbos xxup the xxup shop xxup around xxup the xxup corner is one of the xxunk and most feel - good romantic comedies ever made . xxmaj there 's just no getting around that , and it 's hard to actually put one 's feeling for this film into words . xxmaj it 's not one of those films that tries too hard , nor does it come up with</td>\n",
       "      <td>positive</td>\n",
       "    </tr>\n",
       "    <tr>\n",
       "      <td>xxbos xxmaj now that xxmaj che(2008 ) has finished its relatively short xxmaj australian cinema run ( extremely limited xxunk screen in xxmaj xxunk , after xxunk ) , i can xxunk join both xxunk of \" xxmaj at xxmaj the xxmaj movies \" in taking xxmaj steven xxmaj soderbergh to task . \\n \\n  xxmaj it 's usually satisfying to watch a film director change his style /</td>\n",
       "      <td>negative</td>\n",
       "    </tr>\n",
       "    <tr>\n",
       "      <td>xxbos xxmaj this film sat on my xxmaj xxunk for weeks before i watched it . i xxunk a self - indulgent xxunk flick about relationships gone bad . i was wrong ; this was an xxunk xxunk into the screwed - up xxunk of xxmaj new xxmaj xxunk . \\n \\n  xxmaj the format is the same as xxmaj max xxmaj xxunk ' \" xxmaj la xxmaj xxunk</td>\n",
       "      <td>positive</td>\n",
       "    </tr>\n",
       "    <tr>\n",
       "      <td>xxbos xxmaj many neglect that this is n't just a classic due to the fact that it 's the first xxup 3d game , or even the first xxunk - up . xxmaj it 's also one of the first xxunk games , one of the xxunk definitely the first ) truly claustrophobic games , and just a pretty well - xxunk gaming experience in general . xxmaj with graphics</td>\n",
       "      <td>positive</td>\n",
       "    </tr>\n",
       "  </tbody>\n",
       "</table>"
      ],
      "text/plain": [
       "<IPython.core.display.HTML object>"
      ]
     },
     "metadata": {},
     "output_type": "display_data"
    }
   ],
   "source": [
    "data_clas.show_batch()"
   ]
  },
  {
   "cell_type": "markdown",
   "metadata": {},
   "source": [
    "最后，对于表格数据，我们只需将我们的分类和连续变量的名称作为额外参数传递。 我们还添加了一些PreProcessors，它们将在分割和标记完成后应用于我们的数据。"
   ]
  },
  {
   "cell_type": "code",
   "execution_count": 29,
   "metadata": {},
   "outputs": [],
   "source": [
    "from fastai.tabular import *"
   ]
  },
  {
   "cell_type": "code",
   "execution_count": 30,
   "metadata": {},
   "outputs": [],
   "source": [
    "adult = untar_data(URLs.ADULT_SAMPLE)\n",
    "df = pd.read_csv(adult/'adult.csv')\n",
    "dep_var = 'salary'\n",
    "cat_names = ['workclass', 'education', 'marital-status', 'occupation', 'relationship', 'race', 'sex', 'native-country']\n",
    "cont_names = ['education-num', 'hours-per-week', 'age', 'capital-loss', 'fnlwgt', 'capital-gain']\n",
    "procs = [FillMissing, Categorify, Normalize]"
   ]
  },
  {
   "cell_type": "code",
   "execution_count": 31,
   "metadata": {},
   "outputs": [],
   "source": [
    "data = (TabularList.from_df(df, path=adult, cat_names=cat_names, cont_names=cont_names, procs=procs)\n",
    "                           .split_by_idx(valid_idx=range(800,1000))\n",
    "                           .label_from_df(cols=dep_var)\n",
    "                           .databunch())"
   ]
  },
  {
   "cell_type": "code",
   "execution_count": 32,
   "metadata": {},
   "outputs": [
    {
     "data": {
      "text/html": [
       "<table border=\"1\" class=\"dataframe\">\n",
       "  <thead>\n",
       "    <tr style=\"text-align: right;\">\n",
       "      <th>workclass</th>\n",
       "      <th>education</th>\n",
       "      <th>marital-status</th>\n",
       "      <th>occupation</th>\n",
       "      <th>relationship</th>\n",
       "      <th>race</th>\n",
       "      <th>sex</th>\n",
       "      <th>native-country</th>\n",
       "      <th>education-num_na</th>\n",
       "      <th>education-num</th>\n",
       "      <th>hours-per-week</th>\n",
       "      <th>age</th>\n",
       "      <th>capital-loss</th>\n",
       "      <th>fnlwgt</th>\n",
       "      <th>capital-gain</th>\n",
       "      <th>target</th>\n",
       "    </tr>\n",
       "  </thead>\n",
       "  <tbody>\n",
       "    <tr>\n",
       "      <td>Private</td>\n",
       "      <td>Some-college</td>\n",
       "      <td>Never-married</td>\n",
       "      <td>Exec-managerial</td>\n",
       "      <td>Own-child</td>\n",
       "      <td>White</td>\n",
       "      <td>Female</td>\n",
       "      <td>United-States</td>\n",
       "      <td>False</td>\n",
       "      <td>-0.0312</td>\n",
       "      <td>-2.4656</td>\n",
       "      <td>-1.3624</td>\n",
       "      <td>-0.2164</td>\n",
       "      <td>0.2419</td>\n",
       "      <td>-0.1459</td>\n",
       "      <td>&lt;50k</td>\n",
       "    </tr>\n",
       "    <tr>\n",
       "      <td>Private</td>\n",
       "      <td>Bachelors</td>\n",
       "      <td>Married-civ-spouse</td>\n",
       "      <td>Sales</td>\n",
       "      <td>Husband</td>\n",
       "      <td>White</td>\n",
       "      <td>Male</td>\n",
       "      <td>United-States</td>\n",
       "      <td>False</td>\n",
       "      <td>1.1422</td>\n",
       "      <td>1.1793</td>\n",
       "      <td>-0.8493</td>\n",
       "      <td>-0.2164</td>\n",
       "      <td>1.9455</td>\n",
       "      <td>-0.1459</td>\n",
       "      <td>&lt;50k</td>\n",
       "    </tr>\n",
       "    <tr>\n",
       "      <td>Private</td>\n",
       "      <td>Bachelors</td>\n",
       "      <td>Married-civ-spouse</td>\n",
       "      <td>Prof-specialty</td>\n",
       "      <td>Wife</td>\n",
       "      <td>White</td>\n",
       "      <td>Female</td>\n",
       "      <td>United-States</td>\n",
       "      <td>False</td>\n",
       "      <td>1.1422</td>\n",
       "      <td>-0.0356</td>\n",
       "      <td>-0.0430</td>\n",
       "      <td>-0.2164</td>\n",
       "      <td>-0.7426</td>\n",
       "      <td>0.8923</td>\n",
       "      <td>&gt;=50k</td>\n",
       "    </tr>\n",
       "    <tr>\n",
       "      <td>Private</td>\n",
       "      <td>HS-grad</td>\n",
       "      <td>Married-civ-spouse</td>\n",
       "      <td>Transport-moving</td>\n",
       "      <td>Husband</td>\n",
       "      <td>White</td>\n",
       "      <td>Male</td>\n",
       "      <td>United-States</td>\n",
       "      <td>False</td>\n",
       "      <td>-0.4224</td>\n",
       "      <td>-0.0356</td>\n",
       "      <td>-0.6294</td>\n",
       "      <td>-0.2164</td>\n",
       "      <td>-1.4304</td>\n",
       "      <td>-0.1459</td>\n",
       "      <td>&lt;50k</td>\n",
       "    </tr>\n",
       "    <tr>\n",
       "      <td>Self-emp-not-inc</td>\n",
       "      <td>Some-college</td>\n",
       "      <td>Married-civ-spouse</td>\n",
       "      <td>Farming-fishing</td>\n",
       "      <td>Husband</td>\n",
       "      <td>White</td>\n",
       "      <td>Male</td>\n",
       "      <td>United-States</td>\n",
       "      <td>False</td>\n",
       "      <td>-0.0312</td>\n",
       "      <td>-2.0606</td>\n",
       "      <td>1.5695</td>\n",
       "      <td>-0.2164</td>\n",
       "      <td>0.0315</td>\n",
       "      <td>-0.1459</td>\n",
       "      <td>&lt;50k</td>\n",
       "    </tr>\n",
       "  </tbody>\n",
       "</table>"
      ],
      "text/plain": [
       "<IPython.core.display.HTML object>"
      ]
     },
     "metadata": {},
     "output_type": "display_data"
    }
   ],
   "source": [
    "data.show_batch()"
   ]
  },
  {
   "cell_type": "markdown",
   "metadata": {},
   "source": [
    "## 第1步：提供输入\n",
    "获取输入的基本类是以下类。 它也是包含所有标签的同一个类（因此名称为ItemList）。\n",
    "\n",
    "<b>class ItemList</b>\n",
    "\n",
    "`ItemList(items:Iterator[T_co], path:PathOrStr='.', label_cls:Callable=None, inner_df:Any=None, processor:Union[PreProcessor, Collection[PreProcessor]]=None, x:ItemList=None, ignore_empty:bool=False)`\n",
    "\n",
    "带有__len__和__getitem__的项目集合，带有ndarray索引语义。\n",
    "\n",
    "此类重新组合项目中模型的输入并保存路径属性，该属性是查找任何文件的位置（图像文件，带标签的csv文件......）。 将调用label_cls以根据label函数的结果创建标签，inner_df是基础数据框，处理器将在拆分和标记后应用于输入。\n",
    "\n",
    "它有多个子类，具体取决于您正在处理的数据类型。 这是一个快速列表：\n",
    "\n",
    "* 分类标签的CategoryList\n",
    "* MultiCategoryList表示多分类问题的标签\n",
    "* FloatList用于回归问题中的浮点标签\n",
    "* ImageList表示作为图像的数据\n",
    "* SegmentationItemList与ImageList类似，但默认标签为SegmentationLabelList\n",
    "* 用于分段掩码的SegmentationLabelList\n",
    "* ObjectItemList与ImageList类似，但默认标签为ObjectLabelList\n",
    "* 用于对象检测的ObjectLabelList\n",
    "* PointsItemList for points（ImagePoints类型）\n",
    "* 用于图像到图像任务的ImageImageList\n",
    "* TextList用于文本数据\n",
    "* 存储在文件中的文本数据的TextList\n",
    "* TabularList表格数据\n",
    "* 用于协同过滤的CollabList\n",
    "\n",
    "我们可以通过以下代码示例稍微了解ItemList的基本属性和方法的行为。"
   ]
  },
  {
   "cell_type": "code",
   "execution_count": 33,
   "metadata": {},
   "outputs": [
    {
     "data": {
      "text/plain": [
       "ItemList (1 items)\n",
       "C:\\Users\\Yang\\.fastai\\data\\mnist_tiny\\labels.csv\n",
       "Path: C:\\Users\\Yang\\.fastai\\data\\mnist_tiny"
      ]
     },
     "execution_count": 33,
     "metadata": {},
     "output_type": "execute_result"
    }
   ],
   "source": [
    "from fastai.vision import *\n",
    "path_data = untar_data(URLs.MNIST_TINY)\n",
    "il_data = ItemList.from_folder(path_data, extensions=['.csv'])\n",
    "il_data"
   ]
  },
  {
   "cell_type": "markdown",
   "metadata": {},
   "source": [
    "以下是如何访问ItemList的路径以及路径中的实际项目（此处为文件）。"
   ]
  },
  {
   "cell_type": "code",
   "execution_count": 34,
   "metadata": {},
   "outputs": [
    {
     "data": {
      "text/plain": [
       "WindowsPath('C:/Users/Yang/.fastai/data/mnist_tiny')"
      ]
     },
     "execution_count": 34,
     "metadata": {},
     "output_type": "execute_result"
    }
   ],
   "source": [
    "il_data.path"
   ]
  },
  {
   "cell_type": "code",
   "execution_count": 35,
   "metadata": {},
   "outputs": [
    {
     "data": {
      "text/plain": [
       "array([WindowsPath('C:/Users/Yang/.fastai/data/mnist_tiny/labels.csv')], dtype=object)"
      ]
     },
     "execution_count": 35,
     "metadata": {},
     "output_type": "execute_result"
    }
   ],
   "source": [
    "il_data.items"
   ]
  },
  {
   "cell_type": "markdown",
   "metadata": {},
   "source": [
    "len（il_data）为您提供il_data中的文件计数，您可以使用索引访问各个项目。"
   ]
  },
  {
   "cell_type": "code",
   "execution_count": 36,
   "metadata": {},
   "outputs": [
    {
     "data": {
      "text/plain": [
       "1"
      ]
     },
     "execution_count": 36,
     "metadata": {},
     "output_type": "execute_result"
    }
   ],
   "source": [
    "len(il_data)"
   ]
  },
  {
   "cell_type": "markdown",
   "metadata": {},
   "source": [
    "ItemList返回具有单个索引的单个项目，但如果给定索引列表，则返回ItemList。"
   ]
  },
  {
   "cell_type": "code",
   "execution_count": 37,
   "metadata": {},
   "outputs": [
    {
     "data": {
      "text/plain": [
       "WindowsPath('C:/Users/Yang/.fastai/data/mnist_tiny/labels.csv')"
      ]
     },
     "execution_count": 37,
     "metadata": {},
     "output_type": "execute_result"
    }
   ],
   "source": [
    "il_data[0]"
   ]
  },
  {
   "cell_type": "code",
   "execution_count": 38,
   "metadata": {},
   "outputs": [
    {
     "data": {
      "text/plain": [
       "ItemList (1 items)\n",
       "C:\\Users\\Yang\\.fastai\\data\\mnist_tiny\\labels.csv\n",
       "Path: C:\\Users\\Yang\\.fastai\\data\\mnist_tiny"
      ]
     },
     "execution_count": 38,
     "metadata": {},
     "output_type": "execute_result"
    }
   ],
   "source": [
    "il_data[:1]"
   ]
  },
  {
   "cell_type": "markdown",
   "metadata": {},
   "source": [
    "使用il_data.add，我们可以执行in_place连接另一个ItemList对象。"
   ]
  },
  {
   "cell_type": "code",
   "execution_count": 39,
   "metadata": {},
   "outputs": [
    {
     "data": {
      "text/plain": [
       "ItemList (2 items)\n",
       "C:\\Users\\Yang\\.fastai\\data\\mnist_tiny\\labels.csv,C:\\Users\\Yang\\.fastai\\data\\mnist_tiny\\labels.csv\n",
       "Path: C:\\Users\\Yang\\.fastai\\data\\mnist_tiny"
      ]
     },
     "execution_count": 39,
     "metadata": {},
     "output_type": "execute_result"
    }
   ],
   "source": [
    "il_data.add(il_data); il_data"
   ]
  },
  {
   "cell_type": "code",
   "execution_count": 40,
   "metadata": {},
   "outputs": [],
   "source": [
    "from fastai.vision import *"
   ]
  },
  {
   "cell_type": "code",
   "execution_count": 41,
   "metadata": {},
   "outputs": [
    {
     "data": {
      "text/plain": [
       "[WindowsPath('C:/Users/Yang/.fastai/data/mnist_tiny/labels.csv'),\n",
       " WindowsPath('C:/Users/Yang/.fastai/data/mnist_tiny/models'),\n",
       " WindowsPath('C:/Users/Yang/.fastai/data/mnist_tiny/test'),\n",
       " WindowsPath('C:/Users/Yang/.fastai/data/mnist_tiny/train'),\n",
       " WindowsPath('C:/Users/Yang/.fastai/data/mnist_tiny/valid')]"
      ]
     },
     "execution_count": 41,
     "metadata": {},
     "output_type": "execute_result"
    }
   ],
   "source": [
    "path_data = untar_data(URLs.MNIST_TINY); path_data.ls()"
   ]
  },
  {
   "cell_type": "code",
   "execution_count": 42,
   "metadata": {},
   "outputs": [
    {
     "data": {
      "text/plain": [
       "ItemList (20 items)\n",
       "C:\\Users\\Yang\\.fastai\\data\\mnist_tiny\\test\\1503.png,C:\\Users\\Yang\\.fastai\\data\\mnist_tiny\\test\\1605.png,C:\\Users\\Yang\\.fastai\\data\\mnist_tiny\\test\\1883.png,C:\\Users\\Yang\\.fastai\\data\\mnist_tiny\\test\\2032.png,C:\\Users\\Yang\\.fastai\\data\\mnist_tiny\\test\\205.png\n",
       "Path: C:\\Users\\Yang\\.fastai\\data\\mnist_tiny\\test"
      ]
     },
     "execution_count": 42,
     "metadata": {},
     "output_type": "execute_result"
    }
   ],
   "source": [
    "itemlist = ItemList.from_folder(path_data/'test')\n",
    "itemlist"
   ]
  },
  {
   "cell_type": "markdown",
   "metadata": {},
   "source": [
    "我们可以看到，默认情况下，文件不会以字母数字顺序返回。 在上面：1503.png，... 617.png，585.png ......\n",
    "\n",
    "当您始终使用同一台机器时，这是可以的，因为相同的数据集应以相同的顺序返回。 但是当在一台机器上建立一个数据块（比如GCP），然后将相同的代码移植到另一台机器（比如你的笔记本电脑）时，相同的数据集和代码可能会以不同的顺序返回文件。\n",
    "\n",
    "由于所有随机操作都使用数据集的加载顺序作为起点，因此您将无法复制任何随机操作，即将数据随机拆分为80％train，以及20％validation，即使在正确播种时也是如此。\n",
    "\n",
    "解决方案是在.`from_folder（）`方法中使用`presort = True`。 如下所示，启用该参数后，文件将按升序返回，并且此行为将跨机器和跨平台匹配。 现在，您可以在已加载的数据上重现任何随机操作。"
   ]
  },
  {
   "cell_type": "code",
   "execution_count": 43,
   "metadata": {},
   "outputs": [
    {
     "data": {
      "text/plain": [
       "ItemList (20 items)\n",
       "C:\\Users\\Yang\\.fastai\\data\\mnist_tiny\\test\\1503.png,C:\\Users\\Yang\\.fastai\\data\\mnist_tiny\\test\\1605.png,C:\\Users\\Yang\\.fastai\\data\\mnist_tiny\\test\\1883.png,C:\\Users\\Yang\\.fastai\\data\\mnist_tiny\\test\\2032.png,C:\\Users\\Yang\\.fastai\\data\\mnist_tiny\\test\\205.png\n",
       "Path: C:\\Users\\Yang\\.fastai\\data\\mnist_tiny\\test"
      ]
     },
     "execution_count": 43,
     "metadata": {},
     "output_type": "execute_result"
    }
   ],
   "source": [
    "#??? 没有找到presort = True\n",
    "itemlist = ItemList.from_folder(path_data/'test')\n",
    "itemlist"
   ]
  },
  {
   "cell_type": "markdown",
   "metadata": {},
   "source": [
    "如何生成上述输出？\n",
    "\n",
    "在幕后，执行itemlist调用ItemList .__ repr__，它基本上打印出itemlist [0]到itemlist [4]"
   ]
  },
  {
   "cell_type": "code",
   "execution_count": 44,
   "metadata": {},
   "outputs": [
    {
     "data": {
      "text/plain": [
       "WindowsPath('C:/Users/Yang/.fastai/data/mnist_tiny/test/1503.png')"
      ]
     },
     "execution_count": 44,
     "metadata": {},
     "output_type": "execute_result"
    }
   ],
   "source": [
    "itemlist[0]"
   ]
  },
  {
   "cell_type": "markdown",
   "metadata": {},
   "source": [
    "和itemlist [0]基本上调用itemlist.get（0），它返回itemlist.items [0]。 这就是为什么我们有如上所述的输出。\n",
    "\n",
    "选择合适的类后，可以使用以下工厂方法之一对其进行实例化\n",
    "\n",
    "<b>from_folder</b>\n",
    "\n",
    "`from_folder(path:PathOrStr, extensions:StrList=None, recurse:bool=True, include:OptStrList=None, processor:Union[PreProcessor, Collection[PreProcessor]]=None, presort:Optional[bool]=False, **kwargs) → ItemList`\n",
    "\n",
    "在具有扩展名后缀的文件名的路径中创建ItemList。 recurse确定我们是否搜索子文件夹。"
   ]
  },
  {
   "cell_type": "code",
   "execution_count": 45,
   "metadata": {},
   "outputs": [
    {
     "data": {
      "text/plain": [
       "[WindowsPath('C:/Users/Yang/.fastai/data/mnist_tiny/labels.csv'),\n",
       " WindowsPath('C:/Users/Yang/.fastai/data/mnist_tiny/models'),\n",
       " WindowsPath('C:/Users/Yang/.fastai/data/mnist_tiny/test'),\n",
       " WindowsPath('C:/Users/Yang/.fastai/data/mnist_tiny/train'),\n",
       " WindowsPath('C:/Users/Yang/.fastai/data/mnist_tiny/valid')]"
      ]
     },
     "execution_count": 45,
     "metadata": {},
     "output_type": "execute_result"
    }
   ],
   "source": [
    "path = untar_data(URLs.MNIST_TINY)\n",
    "path.ls()"
   ]
  },
  {
   "cell_type": "code",
   "execution_count": 46,
   "metadata": {},
   "outputs": [
    {
     "data": {
      "text/plain": [
       "ImageList (1428 items)\n",
       "Image (3, 28, 28),Image (3, 28, 28),Image (3, 28, 28),Image (3, 28, 28),Image (3, 28, 28)\n",
       "Path: C:\\Users\\Yang\\.fastai\\data\\mnist_tiny"
      ]
     },
     "execution_count": 46,
     "metadata": {},
     "output_type": "execute_result"
    }
   ],
   "source": [
    "ImageList.from_folder(path)"
   ]
  },
  {
   "cell_type": "markdown",
   "metadata": {},
   "source": [
    "path是您的根数据文件夹。 在路径目录中，您有train和valid文件夹，其中包含您的图像。"
   ]
  },
  {
   "cell_type": "markdown",
   "metadata": {},
   "source": [
    "<b>from_df</b>\n",
    "\n",
    "`from_df(df:DataFrame, path:PathOrStr='.', cols:IntsOrStrs=0, processor:Union[PreProcessor, Collection[PreProcessor]]=None, **kwargs) → ItemList`\n",
    "\n",
    "从`df`的`cols`中的输入创建Path中的`ItemList`。\n",
    "\n",
    "Dataframe有2列。 第一列是图像的路径，第二列包含该图像的标签ID。 如果您有多个标签（即单个图像的多个标签），您将在标签列中有一个空格（由label_from_df的label_delim参数确定）分隔的字符串。\n",
    "\n",
    "from_df和from_csv可以更通用的方式使用。 如果您无法弄清楚如何获取ImageList，则可以很容易地制作具有上述格式的csv文件。\n",
    "\n",
    "如何设置路径？ path指的是根数据目录。 因此，csv文件中的路径应该相对于路径而不是绝对路径。 在下面的示例中，在labels.csv中，图像的路径是path + train/3/7463.png"
   ]
  },
  {
   "cell_type": "code",
   "execution_count": 47,
   "metadata": {},
   "outputs": [
    {
     "data": {
      "text/plain": [
       "[WindowsPath('C:/Users/Yang/.fastai/data/mnist_sample/export.pkl'),\n",
       " WindowsPath('C:/Users/Yang/.fastai/data/mnist_sample/item_list.txt'),\n",
       " WindowsPath('C:/Users/Yang/.fastai/data/mnist_sample/labels.csv'),\n",
       " WindowsPath('C:/Users/Yang/.fastai/data/mnist_sample/models'),\n",
       " WindowsPath('C:/Users/Yang/.fastai/data/mnist_sample/train'),\n",
       " WindowsPath('C:/Users/Yang/.fastai/data/mnist_sample/trained_model.pkl'),\n",
       " WindowsPath('C:/Users/Yang/.fastai/data/mnist_sample/valid')]"
      ]
     },
     "execution_count": 47,
     "metadata": {},
     "output_type": "execute_result"
    }
   ],
   "source": [
    "path = untar_data(URLs.MNIST_SAMPLE)\n",
    "path.ls()"
   ]
  },
  {
   "cell_type": "code",
   "execution_count": 48,
   "metadata": {},
   "outputs": [
    {
     "data": {
      "text/html": [
       "<div>\n",
       "<style scoped>\n",
       "    .dataframe tbody tr th:only-of-type {\n",
       "        vertical-align: middle;\n",
       "    }\n",
       "\n",
       "    .dataframe tbody tr th {\n",
       "        vertical-align: top;\n",
       "    }\n",
       "\n",
       "    .dataframe thead th {\n",
       "        text-align: right;\n",
       "    }\n",
       "</style>\n",
       "<table border=\"1\" class=\"dataframe\">\n",
       "  <thead>\n",
       "    <tr style=\"text-align: right;\">\n",
       "      <th></th>\n",
       "      <th>name</th>\n",
       "      <th>label</th>\n",
       "    </tr>\n",
       "  </thead>\n",
       "  <tbody>\n",
       "    <tr>\n",
       "      <th>0</th>\n",
       "      <td>train/3/7463.png</td>\n",
       "      <td>0</td>\n",
       "    </tr>\n",
       "    <tr>\n",
       "      <th>1</th>\n",
       "      <td>train/3/21102.png</td>\n",
       "      <td>0</td>\n",
       "    </tr>\n",
       "    <tr>\n",
       "      <th>2</th>\n",
       "      <td>train/3/31559.png</td>\n",
       "      <td>0</td>\n",
       "    </tr>\n",
       "    <tr>\n",
       "      <th>3</th>\n",
       "      <td>train/3/46882.png</td>\n",
       "      <td>0</td>\n",
       "    </tr>\n",
       "    <tr>\n",
       "      <th>4</th>\n",
       "      <td>train/3/26209.png</td>\n",
       "      <td>0</td>\n",
       "    </tr>\n",
       "  </tbody>\n",
       "</table>\n",
       "</div>"
      ],
      "text/plain": [
       "                name  label\n",
       "0   train/3/7463.png      0\n",
       "1  train/3/21102.png      0\n",
       "2  train/3/31559.png      0\n",
       "3  train/3/46882.png      0\n",
       "4  train/3/26209.png      0"
      ]
     },
     "execution_count": 48,
     "metadata": {},
     "output_type": "execute_result"
    }
   ],
   "source": [
    "df = pd.read_csv(path/'labels.csv')\n",
    "df.head()"
   ]
  },
  {
   "cell_type": "code",
   "execution_count": 49,
   "metadata": {},
   "outputs": [
    {
     "data": {
      "text/plain": [
       "ImageList (14434 items)\n",
       "Image (3, 28, 28),Image (3, 28, 28),Image (3, 28, 28),Image (3, 28, 28),Image (3, 28, 28)\n",
       "Path: C:\\Users\\Yang\\.fastai\\data\\mnist_sample"
      ]
     },
     "execution_count": 49,
     "metadata": {},
     "output_type": "execute_result"
    }
   ],
   "source": [
    "ImageList.from_df(df, path)"
   ]
  },
  {
   "cell_type": "markdown",
   "metadata": {},
   "source": [
    "<b>from_csv</b>\n",
    "\n",
    "`from_csv(path:PathOrStr, csv_name:str, cols:IntsOrStrs=0, delimiter:str=None, header:str='infer', processor:Union[PreProcessor, Collection[PreProcessor]]=None, **kwargs) → ItemList`\n",
    "\n",
    "从Path/csv_name中的`cols`作为输入创建路径中的项目列表"
   ]
  },
  {
   "cell_type": "code",
   "execution_count": 50,
   "metadata": {},
   "outputs": [
    {
     "data": {
      "text/plain": [
       "[WindowsPath('C:/Users/Yang/.fastai/data/mnist_sample/export.pkl'),\n",
       " WindowsPath('C:/Users/Yang/.fastai/data/mnist_sample/item_list.txt'),\n",
       " WindowsPath('C:/Users/Yang/.fastai/data/mnist_sample/labels.csv'),\n",
       " WindowsPath('C:/Users/Yang/.fastai/data/mnist_sample/models'),\n",
       " WindowsPath('C:/Users/Yang/.fastai/data/mnist_sample/train'),\n",
       " WindowsPath('C:/Users/Yang/.fastai/data/mnist_sample/trained_model.pkl'),\n",
       " WindowsPath('C:/Users/Yang/.fastai/data/mnist_sample/valid')]"
      ]
     },
     "execution_count": 50,
     "metadata": {},
     "output_type": "execute_result"
    }
   ],
   "source": [
    "path = untar_data(URLs.MNIST_SAMPLE)\n",
    "path.ls()"
   ]
  },
  {
   "cell_type": "code",
   "execution_count": 51,
   "metadata": {},
   "outputs": [
    {
     "data": {
      "text/plain": [
       "ImageList (14434 items)\n",
       "Image (3, 28, 28),Image (3, 28, 28),Image (3, 28, 28),Image (3, 28, 28),Image (3, 28, 28)\n",
       "Path: C:\\Users\\Yang\\.fastai\\data\\mnist_sample"
      ]
     },
     "execution_count": 51,
     "metadata": {},
     "output_type": "execute_result"
    }
   ],
   "source": [
    "ImageList.from_csv(path, 'labels.csv')"
   ]
  },
  {
   "cell_type": "markdown",
   "metadata": {},
   "source": [
    "<b>可选步骤：过滤数据</b>\n",
    "\n",
    "工厂方法可能抓取了太多项目。 例如，如果您使用from_folder方法搜索子文件夹，则可能获得了不需要的文件。 要删除它们，您可以使用以下方法之一。\n",
    "\n",
    "<b>filter_by_func</b>\n",
    "\n",
    "`filter_by_func(func:Callable) → ItemList`\n",
    "\n",
    "仅保留func返回True的元素。"
   ]
  },
  {
   "cell_type": "code",
   "execution_count": 52,
   "metadata": {},
   "outputs": [
    {
     "data": {
      "text/html": [
       "<div>\n",
       "<style scoped>\n",
       "    .dataframe tbody tr th:only-of-type {\n",
       "        vertical-align: middle;\n",
       "    }\n",
       "\n",
       "    .dataframe tbody tr th {\n",
       "        vertical-align: top;\n",
       "    }\n",
       "\n",
       "    .dataframe thead th {\n",
       "        text-align: right;\n",
       "    }\n",
       "</style>\n",
       "<table border=\"1\" class=\"dataframe\">\n",
       "  <thead>\n",
       "    <tr style=\"text-align: right;\">\n",
       "      <th></th>\n",
       "      <th>name</th>\n",
       "      <th>label</th>\n",
       "    </tr>\n",
       "  </thead>\n",
       "  <tbody>\n",
       "    <tr>\n",
       "      <th>0</th>\n",
       "      <td>train/3/7463.png</td>\n",
       "      <td>0</td>\n",
       "    </tr>\n",
       "    <tr>\n",
       "      <th>1</th>\n",
       "      <td>train/3/21102.png</td>\n",
       "      <td>0</td>\n",
       "    </tr>\n",
       "    <tr>\n",
       "      <th>2</th>\n",
       "      <td>train/3/31559.png</td>\n",
       "      <td>0</td>\n",
       "    </tr>\n",
       "    <tr>\n",
       "      <th>3</th>\n",
       "      <td>train/3/46882.png</td>\n",
       "      <td>0</td>\n",
       "    </tr>\n",
       "    <tr>\n",
       "      <th>4</th>\n",
       "      <td>train/3/26209.png</td>\n",
       "      <td>0</td>\n",
       "    </tr>\n",
       "  </tbody>\n",
       "</table>\n",
       "</div>"
      ],
      "text/plain": [
       "                name  label\n",
       "0   train/3/7463.png      0\n",
       "1  train/3/21102.png      0\n",
       "2  train/3/31559.png      0\n",
       "3  train/3/46882.png      0\n",
       "4  train/3/26209.png      0"
      ]
     },
     "execution_count": 52,
     "metadata": {},
     "output_type": "execute_result"
    }
   ],
   "source": [
    "path = untar_data(URLs.MNIST_SAMPLE)\n",
    "df = pd.read_csv(path/'labels.csv')\n",
    "df.head()"
   ]
  },
  {
   "cell_type": "markdown",
   "metadata": {},
   "source": [
    "假设您只想保留带有后缀“.png”的图像。 好吧，这种方法会为你做出魔力。"
   ]
  },
  {
   "cell_type": "code",
   "execution_count": 53,
   "metadata": {},
   "outputs": [
    {
     "data": {
      "text/plain": [
       "'.png'"
      ]
     },
     "execution_count": 53,
     "metadata": {},
     "output_type": "execute_result"
    }
   ],
   "source": [
    "Path(df.name[0]).suffix"
   ]
  },
  {
   "cell_type": "code",
   "execution_count": 54,
   "metadata": {},
   "outputs": [
    {
     "data": {
      "text/plain": [
       "ImageList (14434 items)\n",
       "Image (3, 28, 28),Image (3, 28, 28),Image (3, 28, 28),Image (3, 28, 28),Image (3, 28, 28)\n",
       "Path: C:\\Users\\Yang\\.fastai\\data\\mnist_sample"
      ]
     },
     "execution_count": 54,
     "metadata": {},
     "output_type": "execute_result"
    }
   ],
   "source": [
    "ImageList.from_df(df, path).filter_by_func(lambda fname: Path(fname).suffix == '.png')"
   ]
  },
  {
   "cell_type": "markdown",
   "metadata": {},
   "source": [
    "<b>filter_by_folder</b>\n",
    "\n",
    "`filter_by_folder(include=None, exclude=None)`\n",
    "\n",
    "只保留include文件夹中的文件名或拒绝排除的文件名。\n",
    "\n",
    "<b>filter_by_rand</b>\n",
    "\n",
    "`filter_by_rand(p:float, seed:int=None)`\n",
    "\n",
    "保留具有概率p和可选种子的项目的随机样本。"
   ]
  },
  {
   "cell_type": "code",
   "execution_count": 55,
   "metadata": {},
   "outputs": [
    {
     "data": {
      "text/plain": [
       "ImageList (7254 items)\n",
       "Image (3, 28, 28),Image (3, 28, 28),Image (3, 28, 28),Image (3, 28, 28),Image (3, 28, 28)\n",
       "Path: C:\\Users\\Yang\\.fastai\\data\\mnist_sample"
      ]
     },
     "execution_count": 55,
     "metadata": {},
     "output_type": "execute_result"
    }
   ],
   "source": [
    "path = untar_data(URLs.MNIST_SAMPLE)\n",
    "ImageList.from_folder(path).filter_by_rand(0.5)"
   ]
  },
  {
   "cell_type": "markdown",
   "metadata": {},
   "source": [
    "将项目数与未使用过滤器创建的列表进行对比。"
   ]
  },
  {
   "cell_type": "code",
   "execution_count": 56,
   "metadata": {},
   "outputs": [
    {
     "data": {
      "text/plain": [
       "ImageList (14434 items)\n",
       "Image (3, 28, 28),Image (3, 28, 28),Image (3, 28, 28),Image (3, 28, 28),Image (3, 28, 28)\n",
       "Path: C:\\Users\\Yang\\.fastai\\data\\mnist_sample"
      ]
     },
     "execution_count": 56,
     "metadata": {},
     "output_type": "execute_result"
    }
   ],
   "source": [
    "ImageList.from_folder(path)"
   ]
  },
  {
   "cell_type": "markdown",
   "metadata": {},
   "source": [
    "<b>to_text</b>\n",
    "\n",
    "`to_text(fn:str)`\n",
    "\n",
    "将self.items保存到self.path中的fn。"
   ]
  },
  {
   "cell_type": "code",
   "execution_count": 57,
   "metadata": {},
   "outputs": [
    {
     "data": {
      "text/html": [
       "<div>\n",
       "<style scoped>\n",
       "    .dataframe tbody tr th:only-of-type {\n",
       "        vertical-align: middle;\n",
       "    }\n",
       "\n",
       "    .dataframe tbody tr th {\n",
       "        vertical-align: top;\n",
       "    }\n",
       "\n",
       "    .dataframe thead th {\n",
       "        text-align: right;\n",
       "    }\n",
       "</style>\n",
       "<table border=\"1\" class=\"dataframe\">\n",
       "  <thead>\n",
       "    <tr style=\"text-align: right;\">\n",
       "      <th></th>\n",
       "      <th>name</th>\n",
       "      <th>label</th>\n",
       "    </tr>\n",
       "  </thead>\n",
       "  <tbody>\n",
       "    <tr>\n",
       "      <th>0</th>\n",
       "      <td>train/3/7463.png</td>\n",
       "      <td>0</td>\n",
       "    </tr>\n",
       "    <tr>\n",
       "      <th>1</th>\n",
       "      <td>train/3/21102.png</td>\n",
       "      <td>0</td>\n",
       "    </tr>\n",
       "    <tr>\n",
       "      <th>2</th>\n",
       "      <td>train/3/31559.png</td>\n",
       "      <td>0</td>\n",
       "    </tr>\n",
       "    <tr>\n",
       "      <th>3</th>\n",
       "      <td>train/3/46882.png</td>\n",
       "      <td>0</td>\n",
       "    </tr>\n",
       "    <tr>\n",
       "      <th>4</th>\n",
       "      <td>train/3/26209.png</td>\n",
       "      <td>0</td>\n",
       "    </tr>\n",
       "  </tbody>\n",
       "</table>\n",
       "</div>"
      ],
      "text/plain": [
       "                name  label\n",
       "0   train/3/7463.png      0\n",
       "1  train/3/21102.png      0\n",
       "2  train/3/31559.png      0\n",
       "3  train/3/46882.png      0\n",
       "4  train/3/26209.png      0"
      ]
     },
     "execution_count": 57,
     "metadata": {},
     "output_type": "execute_result"
    }
   ],
   "source": [
    "path = untar_data(URLs.MNIST_SAMPLE)\n",
    "pd.read_csv(path/'labels.csv').head()"
   ]
  },
  {
   "cell_type": "code",
   "execution_count": 58,
   "metadata": {},
   "outputs": [],
   "source": [
    "file_name = \"item_list.txt\"\n",
    "ImageList.from_folder(path).to_text(file_name)"
   ]
  },
  {
   "cell_type": "markdown",
   "metadata": {},
   "source": [
    "<b>use_partial_data</b>\n",
    "\n",
    "`use_partial_data(sample_pct:float=0.01, seed:int=None) → ItemList`\n",
    "\n",
    "仅使用完整数据集的sample_pct样本和可选种子。"
   ]
  },
  {
   "cell_type": "code",
   "execution_count": 59,
   "metadata": {},
   "outputs": [
    {
     "data": {
      "text/plain": [
       "ImageList (7217 items)\n",
       "Image (3, 28, 28),Image (3, 28, 28),Image (3, 28, 28),Image (3, 28, 28),Image (3, 28, 28)\n",
       "Path: C:\\Users\\Yang\\.fastai\\data\\mnist_sample"
      ]
     },
     "execution_count": 59,
     "metadata": {},
     "output_type": "execute_result"
    }
   ],
   "source": [
    "path = untar_data(URLs.MNIST_SAMPLE)\n",
    "ImageList.from_folder(path).use_partial_data(0.5)"
   ]
  },
  {
   "cell_type": "markdown",
   "metadata": {},
   "source": [
    "将项目数与未使用过滤器创建的列表进行对比。"
   ]
  },
  {
   "cell_type": "code",
   "execution_count": 60,
   "metadata": {},
   "outputs": [
    {
     "data": {
      "text/plain": [
       "ImageList (14434 items)\n",
       "Image (3, 28, 28),Image (3, 28, 28),Image (3, 28, 28),Image (3, 28, 28),Image (3, 28, 28)\n",
       "Path: C:\\Users\\Yang\\.fastai\\data\\mnist_sample"
      ]
     },
     "execution_count": 60,
     "metadata": {},
     "output_type": "execute_result"
    }
   ],
   "source": [
    "ImageList.from_folder(path)"
   ]
  },
  {
   "cell_type": "markdown",
   "metadata": {},
   "source": [
    "<b>编写自己的ItemList</b>\n",
    "\n",
    "首先检查您是否无法通过以下方式轻松自定义现有子类之一：\n",
    "\n",
    "* 继承现有的并替换get方法（如果处理图像，则替换open方法）\n",
    "* 应用自定义处理器（参见步骤4）\n",
    "* 更改标签创建的默认label_cls\n",
    "* 使用_processor类变量添加默认的PreProcessor\n",
    "如果不是这种情况，并且您确实需要编写自己的类，那么有一个完整的教程可以解释如何继续。"
   ]
  },
  {
   "cell_type": "markdown",
   "metadata": {},
   "source": [
    "<b>analyze_pred</b>\n",
    "\n",
    "`analyze_pred(pred:Tensor)`\n",
    "\n",
    "在重建之前调用pred进行额外的预处理。\n",
    "\n",
    "<b>get</b>\n",
    "\n",
    "`get(i) → Any`\n",
    "\n",
    "如果要自定义如何从self.items创建项目i。\n",
    "\n",
    "我们将瞥见如何使用以下演示。\n"
   ]
  },
  {
   "cell_type": "code",
   "execution_count": 61,
   "metadata": {},
   "outputs": [
    {
     "data": {
      "text/plain": [
       "[WindowsPath('C:/Users/Yang/.fastai/data/mnist_tiny/labels.csv'),\n",
       " WindowsPath('C:/Users/Yang/.fastai/data/mnist_tiny/models'),\n",
       " WindowsPath('C:/Users/Yang/.fastai/data/mnist_tiny/test'),\n",
       " WindowsPath('C:/Users/Yang/.fastai/data/mnist_tiny/train'),\n",
       " WindowsPath('C:/Users/Yang/.fastai/data/mnist_tiny/valid')]"
      ]
     },
     "execution_count": 61,
     "metadata": {},
     "output_type": "execute_result"
    }
   ],
   "source": [
    "path_data = untar_data(URLs.MNIST_TINY); path_data.ls()"
   ]
  },
  {
   "cell_type": "code",
   "execution_count": 62,
   "metadata": {},
   "outputs": [
    {
     "data": {
      "text/plain": [
       "ItemList (20 items)\n",
       "C:\\Users\\Yang\\.fastai\\data\\mnist_tiny\\test\\1503.png,C:\\Users\\Yang\\.fastai\\data\\mnist_tiny\\test\\1605.png,C:\\Users\\Yang\\.fastai\\data\\mnist_tiny\\test\\1883.png,C:\\Users\\Yang\\.fastai\\data\\mnist_tiny\\test\\2032.png,C:\\Users\\Yang\\.fastai\\data\\mnist_tiny\\test\\205.png\n",
       "Path: C:\\Users\\Yang\\.fastai\\data\\mnist_tiny"
      ]
     },
     "execution_count": 62,
     "metadata": {},
     "output_type": "execute_result"
    }
   ],
   "source": [
    "il_data_base = ItemList.from_folder(path=path_data, extensions=['.png'], include=['test'])\n",
    "il_data_base"
   ]
  },
  {
   "cell_type": "markdown",
   "metadata": {},
   "source": [
    "get在il_data_base [15]中不明确地使用。 il_data_base.get（15）在这里给出相同的结果，因为它的defulat是返回它。"
   ]
  },
  {
   "cell_type": "code",
   "execution_count": 63,
   "metadata": {},
   "outputs": [
    {
     "data": {
      "text/plain": [
       "WindowsPath('C:/Users/Yang/.fastai/data/mnist_tiny/test/617.png')"
      ]
     },
     "execution_count": 63,
     "metadata": {},
     "output_type": "execute_result"
    }
   ],
   "source": [
    "il_data_base[15]"
   ]
  },
  {
   "cell_type": "markdown",
   "metadata": {},
   "source": [
    "但是，在创建自定义ItemList时，您可以覆盖此功能以对项目执行某些操作（例如打开图像）。"
   ]
  },
  {
   "cell_type": "code",
   "execution_count": 64,
   "metadata": {},
   "outputs": [
    {
     "data": {
      "text/plain": [
       "ImageList (20 items)\n",
       "Image (3, 28, 28),Image (3, 28, 28),Image (3, 28, 28),Image (3, 28, 28),Image (3, 28, 28)\n",
       "Path: C:\\Users\\Yang\\.fastai\\data\\mnist_tiny"
      ]
     },
     "execution_count": 64,
     "metadata": {},
     "output_type": "execute_result"
    }
   ],
   "source": [
    "il_data_image = ImageList.from_folder(path=path_data, extensions=['.png'], include=['test'])\n",
    "il_data_image"
   ]
  },
  {
   "cell_type": "markdown",
   "metadata": {},
   "source": [
    "同样，通常在il_data_image [15]中明确使用get。"
   ]
  },
  {
   "cell_type": "code",
   "execution_count": 65,
   "metadata": {},
   "outputs": [
    {
     "data": {
      "image/jpeg": "[encoded data removed]",
      "image/png": "[encoded data removed]",
      "text/plain": [
       "Image (3, 28, 28)"
      ]
     },
     "execution_count": 65,
     "metadata": {},
     "output_type": "execute_result"
    }
   ],
   "source": [
    "il_data_image[15]"
   ]
  },
  {
   "cell_type": "markdown",
   "metadata": {},
   "source": [
    "ImageList.get覆盖ItemList.get并使用ImageList.open打印图像的原因是打印图像而不是FilePath对象。\n",
    "\n",
    "<b>new</b>\n",
    "\n",
    "`new(items:Iterator[T_co], processor:Union[PreProcessor, Collection[PreProcessor]]=None, **kwargs) → ItemList`\n",
    "\n",
    "从项目创建新的ItemList，保持相同的属性。\n",
    "\n",
    "你永远不需要正常地对它进行子类化，只是不要忘记在每次在__init__中调用new时需要复制的self.copy_new参数的名称。\n",
    "\n",
    "我们将通过以下示例了解新的工作方式。"
   ]
  },
  {
   "cell_type": "code",
   "execution_count": 66,
   "metadata": {},
   "outputs": [
    {
     "data": {
      "text/plain": [
       "[WindowsPath('C:/Users/Yang/.fastai/data/mnist_tiny/labels.csv'),\n",
       " WindowsPath('C:/Users/Yang/.fastai/data/mnist_tiny/models'),\n",
       " WindowsPath('C:/Users/Yang/.fastai/data/mnist_tiny/test'),\n",
       " WindowsPath('C:/Users/Yang/.fastai/data/mnist_tiny/train'),\n",
       " WindowsPath('C:/Users/Yang/.fastai/data/mnist_tiny/valid')]"
      ]
     },
     "execution_count": 66,
     "metadata": {},
     "output_type": "execute_result"
    }
   ],
   "source": [
    "path_data = untar_data(URLs.MNIST_TINY); path_data.ls()"
   ]
  },
  {
   "cell_type": "code",
   "execution_count": 67,
   "metadata": {},
   "outputs": [
    {
     "data": {
      "text/plain": [
       "ItemList (699 items)\n",
       "C:\\Users\\Yang\\.fastai\\data\\mnist_tiny\\valid\\3\\7006.png,C:\\Users\\Yang\\.fastai\\data\\mnist_tiny\\valid\\3\\7010.png,C:\\Users\\Yang\\.fastai\\data\\mnist_tiny\\valid\\3\\7024.png,C:\\Users\\Yang\\.fastai\\data\\mnist_tiny\\valid\\3\\7026.png,C:\\Users\\Yang\\.fastai\\data\\mnist_tiny\\valid\\3\\7040.png\n",
       "Path: C:\\Users\\Yang\\.fastai\\data\\mnist_tiny\\valid"
      ]
     },
     "execution_count": 67,
     "metadata": {},
     "output_type": "execute_result"
    }
   ],
   "source": [
    "itemlist1 = ItemList.from_folder(path=path_data/'valid', extensions=['.png'])\n",
    "itemlist1"
   ]
  },
  {
   "cell_type": "markdown",
   "metadata": {},
   "source": [
    "正如您将在下面看到的，copy_new允许使用从itemlist1借用任何参数及其值，而itemlist1.new（itemlist1.items）允许我们使用copy_new中的项和参数通过调用ItemList .__ init__来创建另一个ItemList。"
   ]
  },
  {
   "cell_type": "code",
   "execution_count": 68,
   "metadata": {},
   "outputs": [
    {
     "data": {
      "text/plain": [
       "True"
      ]
     },
     "execution_count": 68,
     "metadata": {},
     "output_type": "execute_result"
    }
   ],
   "source": [
    "itemlist1.copy_new == ['x', 'label_cls', 'path']"
   ]
  },
  {
   "cell_type": "code",
   "execution_count": 69,
   "metadata": {},
   "outputs": [
    {
     "data": {
      "text/plain": [
       "False"
      ]
     },
     "execution_count": 69,
     "metadata": {},
     "output_type": "execute_result"
    }
   ],
   "source": [
    "((itemlist1.x == itemlist1.label_cls == itemlist1.inner_df == None) \n",
    " and (itemlist1.path == Path('/Users/Natsume/.fastai/data/mnist_tiny/valid')))"
   ]
  },
  {
   "cell_type": "markdown",
   "metadata": {},
   "source": [
    "您可以从项目列表.__ init__签名中选择任何参数并更改其值。"
   ]
  },
  {
   "cell_type": "code",
   "execution_count": 70,
   "metadata": {},
   "outputs": [],
   "source": [
    "itemlist1.copy_new = ['x', 'label_cls', 'path', 'inner_df']\n",
    "itemlist1.x = itemlist1.label_cls = itemlist1.path = itemlist1.inner_df = 'test'\n",
    "itemlist2 = itemlist1.new(items=itemlist1.items)"
   ]
  },
  {
   "cell_type": "code",
   "execution_count": 71,
   "metadata": {},
   "outputs": [
    {
     "data": {
      "text/plain": [
       "True"
      ]
     },
     "execution_count": 71,
     "metadata": {},
     "output_type": "execute_result"
    }
   ],
   "source": [
    "(itemlist2.inner_df == itemlist2.x == itemlist2.label_cls == 'test' \n",
    "and itemlist2.path == Path('test'))"
   ]
  },
  {
   "cell_type": "markdown",
   "metadata": {},
   "source": [
    "<b>reconstruct</b>\n",
    "\n",
    "`reconstruct(t:Tensor, x:Tensor=None)`\n",
    "\n",
    "重建其数据的基础项之一。"
   ]
  },
  {
   "cell_type": "markdown",
   "metadata": {},
   "source": [
    "## 第2步：在训练集和验证集之间拆分数据\n",
    "\n",
    "这一步通常很简单，您只需根据需要选择以下功能之一即可。\n",
    "\n",
    "<b>split_none</b>\n",
    "\n",
    "`split_none()`\n",
    "\n",
    "不要拆分数据并创建一个空的验证集。\n",
    "\n",
    "<b>split_by_rand_pct</b>\n",
    "\n",
    "`split_by_rand_pct(valid_pct:float=0.2, seed:int=None) → ItemLists`\n",
    "\n",
    "通过将valid_pct放入验证集中随机拆分项目，可以传递可选的种子。\n",
    "\n",
    "<b>split_subsets</b>\n",
    "\n",
    "`split_subsets(train_size:float, valid_size:float, seed=None) → ItemLists`\n",
    "\n",
    "将项目拆分为训练集，其大小为train_size * n，有效集合的大小为valid_size * n。\n",
    "\n",
    "如果您想使用特定大小的子集，此功能非常方便，例如，您希望将20％的数据用于验证数据集，但您只想训练其余数据的一小部分：split_subsets（ train_size = 0.08，valid_size = 0.2）。\n",
    "\n",
    "<b>split_by_files</b>\n",
    "\n",
    "`split_by_files(valid_names:ItemList) → ItemLists`\n",
    "\n",
    "使用valid_names中的名称拆分数据以进行验证。\n",
    "\n",
    "<b>split_by_fname_file</b>\n",
    "\n",
    "`split_by_fname_file(fname:PathOrStr, path:PathOrStr=None) → ItemLists`\n",
    "\n",
    "使用fname中的名称为验证集拆分数据。 path将覆盖self.path。\n",
    "\n",
    "内部调用split_by_files。 fname包含像0001.png这样的图像文件名。\n",
    "\n",
    "<b>split_by_folder</b>\n",
    "\n",
    "`split_by_folder(train:str='train', valid:str='valid') → ItemLists`\n",
    "\n",
    "根据文件名所在的文件夹（`train` or `valid`）拆分数据。\n",
    "\n",
    "`注意：此方法在`self.path`之后立即查看`valid`和`train`的文件夹。`\n",
    "\n",
    "基本上，split_by_folder接收两个文件夹名称（以下示例中为“train”和“valid”），以将大型ImageList拆分为两个较小的ImageLists，一个用于训练集，另一个用于验证集。 两个ImageLists都附加到一个大型ItemLists，它是split_by_folder的最终输出。"
   ]
  },
  {
   "cell_type": "code",
   "execution_count": 72,
   "metadata": {},
   "outputs": [
    {
     "data": {
      "text/plain": [
       "[WindowsPath('C:/Users/Yang/.fastai/data/mnist_tiny/labels.csv'),\n",
       " WindowsPath('C:/Users/Yang/.fastai/data/mnist_tiny/models'),\n",
       " WindowsPath('C:/Users/Yang/.fastai/data/mnist_tiny/test'),\n",
       " WindowsPath('C:/Users/Yang/.fastai/data/mnist_tiny/train'),\n",
       " WindowsPath('C:/Users/Yang/.fastai/data/mnist_tiny/valid')]"
      ]
     },
     "execution_count": 72,
     "metadata": {},
     "output_type": "execute_result"
    }
   ],
   "source": [
    "path_data = untar_data(URLs.MNIST_TINY); path_data.ls()"
   ]
  },
  {
   "cell_type": "code",
   "execution_count": 73,
   "metadata": {},
   "outputs": [
    {
     "data": {
      "text/plain": [
       "ItemList (1430 items)\n",
       "C:\\Users\\Yang\\.fastai\\data\\mnist_tiny\\labels.csv,C:\\Users\\Yang\\.fastai\\data\\mnist_tiny\\models\\tmp.pth,C:\\Users\\Yang\\.fastai\\data\\mnist_tiny\\test\\1503.png,C:\\Users\\Yang\\.fastai\\data\\mnist_tiny\\test\\1605.png,C:\\Users\\Yang\\.fastai\\data\\mnist_tiny\\test\\1883.png\n",
       "Path: C:\\Users\\Yang\\.fastai\\data\\mnist_tiny"
      ]
     },
     "execution_count": 73,
     "metadata": {},
     "output_type": "execute_result"
    }
   ],
   "source": [
    "il = ItemList.from_folder(path=path_data); il"
   ]
  },
  {
   "cell_type": "code",
   "execution_count": 74,
   "metadata": {},
   "outputs": [
    {
     "data": {
      "text/plain": [
       "ItemLists;\n",
       "\n",
       "Train: ItemList (709 items)\n",
       "C:\\Users\\Yang\\.fastai\\data\\mnist_tiny\\train\\3\\7.png,C:\\Users\\Yang\\.fastai\\data\\mnist_tiny\\train\\3\\7030.png,C:\\Users\\Yang\\.fastai\\data\\mnist_tiny\\train\\3\\7031.png,C:\\Users\\Yang\\.fastai\\data\\mnist_tiny\\train\\3\\7043.png,C:\\Users\\Yang\\.fastai\\data\\mnist_tiny\\train\\3\\7046.png\n",
       "Path: C:\\Users\\Yang\\.fastai\\data\\mnist_tiny;\n",
       "\n",
       "Valid: ItemList (699 items)\n",
       "C:\\Users\\Yang\\.fastai\\data\\mnist_tiny\\valid\\3\\7006.png,C:\\Users\\Yang\\.fastai\\data\\mnist_tiny\\valid\\3\\7010.png,C:\\Users\\Yang\\.fastai\\data\\mnist_tiny\\valid\\3\\7024.png,C:\\Users\\Yang\\.fastai\\data\\mnist_tiny\\valid\\3\\7026.png,C:\\Users\\Yang\\.fastai\\data\\mnist_tiny\\valid\\3\\7040.png\n",
       "Path: C:\\Users\\Yang\\.fastai\\data\\mnist_tiny;\n",
       "\n",
       "Test: None"
      ]
     },
     "execution_count": 74,
     "metadata": {},
     "output_type": "execute_result"
    }
   ],
   "source": [
    "sd = il.split_by_folder(train='train', valid='valid'); sd"
   ]
  },
  {
   "cell_type": "markdown",
   "metadata": {},
   "source": [
    "在幕后，split_by_folder使用_get_by_folder（name）将“train”和“valid”文件夹转换为两个索引列表，并将它们传递给split_by_idxs以将il拆分为两个ImageLists，最后附加到ItemLists。"
   ]
  },
  {
   "cell_type": "code",
   "execution_count": 75,
   "metadata": {},
   "outputs": [
    {
     "data": {
      "text/plain": [
       "([22, 23, 24, 25, 26], [726, 727, 728, 729, 730], 709)"
      ]
     },
     "execution_count": 75,
     "metadata": {},
     "output_type": "execute_result"
    }
   ],
   "source": [
    "train_idx = il._get_by_folder(name='train')\n",
    "train_idx[:5], train_idx[-5:], len(train_idx)"
   ]
  },
  {
   "cell_type": "code",
   "execution_count": 76,
   "metadata": {},
   "outputs": [
    {
     "data": {
      "text/plain": [
       "([731, 732, 733, 734, 735], [1425, 1426, 1427, 1428, 1429], 699)"
      ]
     },
     "execution_count": 76,
     "metadata": {},
     "output_type": "execute_result"
    }
   ],
   "source": [
    "valid_idx = il._get_by_folder(name='valid') \n",
    "valid_idx[:5], valid_idx[-5:],len(valid_idx)"
   ]
  },
  {
   "cell_type": "markdown",
   "metadata": {},
   "source": [
    "顺便说一句，_get_by_folder（name）按以下方式工作，首先，索引整个il.items，循环每个项目，如果一个项目属于命名文件夹，例如'train'，则将其放入列表中。 文件夹名称是唯一的输入，输出是列表。\n",
    "\n",
    "<b>split_by_idx</b>\n",
    "\n",
    "`split_by_idx(valid_idx:Collection[int]) → ItemLists`\n",
    "\n",
    "根据valid_idx中的索引拆分数据。"
   ]
  },
  {
   "cell_type": "code",
   "execution_count": 77,
   "metadata": {},
   "outputs": [
    {
     "data": {
      "text/html": [
       "<div>\n",
       "<style scoped>\n",
       "    .dataframe tbody tr th:only-of-type {\n",
       "        vertical-align: middle;\n",
       "    }\n",
       "\n",
       "    .dataframe tbody tr th {\n",
       "        vertical-align: top;\n",
       "    }\n",
       "\n",
       "    .dataframe thead th {\n",
       "        text-align: right;\n",
       "    }\n",
       "</style>\n",
       "<table border=\"1\" class=\"dataframe\">\n",
       "  <thead>\n",
       "    <tr style=\"text-align: right;\">\n",
       "      <th></th>\n",
       "      <th>name</th>\n",
       "      <th>label</th>\n",
       "    </tr>\n",
       "  </thead>\n",
       "  <tbody>\n",
       "    <tr>\n",
       "      <th>0</th>\n",
       "      <td>train/3/7463.png</td>\n",
       "      <td>0</td>\n",
       "    </tr>\n",
       "    <tr>\n",
       "      <th>1</th>\n",
       "      <td>train/3/21102.png</td>\n",
       "      <td>0</td>\n",
       "    </tr>\n",
       "    <tr>\n",
       "      <th>2</th>\n",
       "      <td>train/3/31559.png</td>\n",
       "      <td>0</td>\n",
       "    </tr>\n",
       "    <tr>\n",
       "      <th>3</th>\n",
       "      <td>train/3/46882.png</td>\n",
       "      <td>0</td>\n",
       "    </tr>\n",
       "    <tr>\n",
       "      <th>4</th>\n",
       "      <td>train/3/26209.png</td>\n",
       "      <td>0</td>\n",
       "    </tr>\n",
       "  </tbody>\n",
       "</table>\n",
       "</div>"
      ],
      "text/plain": [
       "                name  label\n",
       "0   train/3/7463.png      0\n",
       "1  train/3/21102.png      0\n",
       "2  train/3/31559.png      0\n",
       "3  train/3/46882.png      0\n",
       "4  train/3/26209.png      0"
      ]
     },
     "execution_count": 77,
     "metadata": {},
     "output_type": "execute_result"
    }
   ],
   "source": [
    "path = untar_data(URLs.MNIST_SAMPLE)\n",
    "df = pd.read_csv(path/'labels.csv')\n",
    "df.head()"
   ]
  },
  {
   "cell_type": "markdown",
   "metadata": {},
   "source": [
    "您可以传递要放在验证集中的索引列表，如[1,3,10]。 或者你可以传递一个连续的列表，如列表（范围（1000））"
   ]
  },
  {
   "cell_type": "code",
   "execution_count": 78,
   "metadata": {},
   "outputs": [
    {
     "data": {
      "text/plain": [
       "ItemLists;\n",
       "\n",
       "Train: ImageList (13434 items)\n",
       "Image (3, 28, 28),Image (3, 28, 28),Image (3, 28, 28),Image (3, 28, 28),Image (3, 28, 28)\n",
       "Path: C:\\Users\\Yang\\.fastai\\data\\mnist_sample;\n",
       "\n",
       "Valid: ImageList (1000 items)\n",
       "Image (3, 28, 28),Image (3, 28, 28),Image (3, 28, 28),Image (3, 28, 28),Image (3, 28, 28)\n",
       "Path: C:\\Users\\Yang\\.fastai\\data\\mnist_sample;\n",
       "\n",
       "Test: None"
      ]
     },
     "execution_count": 78,
     "metadata": {},
     "output_type": "execute_result"
    }
   ],
   "source": [
    "data = (ImageList.from_df(df, path)\n",
    "                 .split_by_idx(list(range(1000))))\n",
    "data"
   ]
  },
  {
   "cell_type": "markdown",
   "metadata": {},
   "source": [
    "<b>split_by_idxs</b>\n",
    "\n",
    "`split_by_idxs(train_idx, valid_idx)`\n",
    "\n",
    "在train_idx和valid_idx之间拆分数据。\n",
    "\n",
    "在幕后，split_by_idxs将两个索引列表（`train_idx`和`valid_idx`）转换为两个ImageLists，然后传递到split_by_list以将il拆分为两个ImageLists并附加到ItemLists。"
   ]
  },
  {
   "cell_type": "code",
   "execution_count": 79,
   "metadata": {},
   "outputs": [
    {
     "data": {
      "text/plain": [
       "ItemLists;\n",
       "\n",
       "Train: ItemList (709 items)\n",
       "C:\\Users\\Yang\\.fastai\\data\\mnist_tiny\\train\\3\\7.png,C:\\Users\\Yang\\.fastai\\data\\mnist_tiny\\train\\3\\7030.png,C:\\Users\\Yang\\.fastai\\data\\mnist_tiny\\train\\3\\7031.png,C:\\Users\\Yang\\.fastai\\data\\mnist_tiny\\train\\3\\7043.png,C:\\Users\\Yang\\.fastai\\data\\mnist_tiny\\train\\3\\7046.png\n",
       "Path: C:\\Users\\Yang\\.fastai\\data\\mnist_tiny;\n",
       "\n",
       "Valid: ItemList (699 items)\n",
       "C:\\Users\\Yang\\.fastai\\data\\mnist_tiny\\valid\\3\\7006.png,C:\\Users\\Yang\\.fastai\\data\\mnist_tiny\\valid\\3\\7010.png,C:\\Users\\Yang\\.fastai\\data\\mnist_tiny\\valid\\3\\7024.png,C:\\Users\\Yang\\.fastai\\data\\mnist_tiny\\valid\\3\\7026.png,C:\\Users\\Yang\\.fastai\\data\\mnist_tiny\\valid\\3\\7040.png\n",
       "Path: C:\\Users\\Yang\\.fastai\\data\\mnist_tiny;\n",
       "\n",
       "Test: None"
      ]
     },
     "execution_count": 79,
     "metadata": {},
     "output_type": "execute_result"
    }
   ],
   "source": [
    "sd = il.split_by_idxs(train_idx=train_idx, valid_idx=valid_idx); sd"
   ]
  },
  {
   "cell_type": "markdown",
   "metadata": {},
   "source": [
    "<b>split_by_list</b>\n",
    "\n",
    "`split_by_list(train, valid)`\n",
    "\n",
    "在`train`和`valid`之间拆分数据。\n",
    "\n",
    "split_by_list接收两个ImageLists，在下面的例子中是il [train_idx]和il [valid_idx]，并将它们传递给_split（ItemLists）以初始化ItemLists对象，该对象基本上接受训练，valiation和测试（可选）ImageLists 它的属性。"
   ]
  },
  {
   "cell_type": "code",
   "execution_count": 80,
   "metadata": {},
   "outputs": [
    {
     "data": {
      "text/plain": [
       "ItemLists;\n",
       "\n",
       "Train: ItemList (709 items)\n",
       "C:\\Users\\Yang\\.fastai\\data\\mnist_tiny\\train\\3\\7.png,C:\\Users\\Yang\\.fastai\\data\\mnist_tiny\\train\\3\\7030.png,C:\\Users\\Yang\\.fastai\\data\\mnist_tiny\\train\\3\\7031.png,C:\\Users\\Yang\\.fastai\\data\\mnist_tiny\\train\\3\\7043.png,C:\\Users\\Yang\\.fastai\\data\\mnist_tiny\\train\\3\\7046.png\n",
       "Path: C:\\Users\\Yang\\.fastai\\data\\mnist_tiny;\n",
       "\n",
       "Valid: ItemList (699 items)\n",
       "C:\\Users\\Yang\\.fastai\\data\\mnist_tiny\\valid\\3\\7006.png,C:\\Users\\Yang\\.fastai\\data\\mnist_tiny\\valid\\3\\7010.png,C:\\Users\\Yang\\.fastai\\data\\mnist_tiny\\valid\\3\\7024.png,C:\\Users\\Yang\\.fastai\\data\\mnist_tiny\\valid\\3\\7026.png,C:\\Users\\Yang\\.fastai\\data\\mnist_tiny\\valid\\3\\7040.png\n",
       "Path: C:\\Users\\Yang\\.fastai\\data\\mnist_tiny;\n",
       "\n",
       "Test: None"
      ]
     },
     "execution_count": 80,
     "metadata": {},
     "output_type": "execute_result"
    }
   ],
   "source": [
    "sd = il.split_by_list(train=il[train_idx], valid=il[valid_idx]); sd"
   ]
  },
  {
   "cell_type": "markdown",
   "metadata": {},
   "source": [
    "这更像是一种内部方法，如果要传递验证集的文件名列表，则应该使用split_by_files。\n",
    "\n",
    "<b>split_by_valid_func</b>\n",
    "\n",
    "`split_by_valid_func(func:Callable) → ItemLists`\n",
    "\n",
    "按func结果拆分数据（对于验证集返回True）。\n",
    "\n",
    "<b>split_from_df</b>\n",
    "\n",
    "`split_from_df(col:IntsOrStrs=2)`\n",
    "\n",
    "从self.inner_df中的数据框中的col中拆分数据。\n",
    "\n",
    "要使用此函数，您需要一个布尔列is_valid。 如果is_valid [index] = True，则将该示例放入验证集中，如果is_valid [index] = False，则将示例放入训练集中。"
   ]
  },
  {
   "cell_type": "code",
   "execution_count": 81,
   "metadata": {},
   "outputs": [
    {
     "name": "stdout",
     "output_type": "stream",
     "text": [
      "(14434, 3)\n"
     ]
    },
    {
     "data": {
      "text/html": [
       "<div>\n",
       "<style scoped>\n",
       "    .dataframe tbody tr th:only-of-type {\n",
       "        vertical-align: middle;\n",
       "    }\n",
       "\n",
       "    .dataframe tbody tr th {\n",
       "        vertical-align: top;\n",
       "    }\n",
       "\n",
       "    .dataframe thead th {\n",
       "        text-align: right;\n",
       "    }\n",
       "</style>\n",
       "<table border=\"1\" class=\"dataframe\">\n",
       "  <thead>\n",
       "    <tr style=\"text-align: right;\">\n",
       "      <th></th>\n",
       "      <th>name</th>\n",
       "      <th>label</th>\n",
       "      <th>is_valid</th>\n",
       "    </tr>\n",
       "  </thead>\n",
       "  <tbody>\n",
       "    <tr>\n",
       "      <th>4188</th>\n",
       "      <td>train/3/14686.png</td>\n",
       "      <td>0</td>\n",
       "      <td>True</td>\n",
       "    </tr>\n",
       "    <tr>\n",
       "      <th>1224</th>\n",
       "      <td>train/3/9226.png</td>\n",
       "      <td>0</td>\n",
       "      <td>True</td>\n",
       "    </tr>\n",
       "    <tr>\n",
       "      <th>7939</th>\n",
       "      <td>train/7/53836.png</td>\n",
       "      <td>1</td>\n",
       "      <td>False</td>\n",
       "    </tr>\n",
       "    <tr>\n",
       "      <th>6183</th>\n",
       "      <td>train/7/50360.png</td>\n",
       "      <td>1</td>\n",
       "      <td>True</td>\n",
       "    </tr>\n",
       "    <tr>\n",
       "      <th>8765</th>\n",
       "      <td>train/7/32571.png</td>\n",
       "      <td>1</td>\n",
       "      <td>False</td>\n",
       "    </tr>\n",
       "  </tbody>\n",
       "</table>\n",
       "</div>"
      ],
      "text/plain": [
       "                   name  label  is_valid\n",
       "4188  train/3/14686.png      0      True\n",
       "1224   train/3/9226.png      0      True\n",
       "7939  train/7/53836.png      1     False\n",
       "6183  train/7/50360.png      1      True\n",
       "8765  train/7/32571.png      1     False"
      ]
     },
     "execution_count": 81,
     "metadata": {},
     "output_type": "execute_result"
    }
   ],
   "source": [
    "path = untar_data(URLs.MNIST_SAMPLE)\n",
    "df = pd.read_csv(path/'labels.csv')\n",
    "\n",
    "# Create a new column for is_valid\n",
    "df['is_valid'] = [True]*(df.shape[0]//2) + [False]*(df.shape[0]//2)\n",
    "\n",
    "# Randomly shuffle dataframe\n",
    "df = df.reindex(np.random.permutation(df.index))\n",
    "print(df.shape)\n",
    "df.head()"
   ]
  },
  {
   "cell_type": "code",
   "execution_count": 82,
   "metadata": {},
   "outputs": [
    {
     "data": {
      "text/plain": [
       "ItemLists;\n",
       "\n",
       "Train: ImageList (7217 items)\n",
       "Image (3, 28, 28),Image (3, 28, 28),Image (3, 28, 28),Image (3, 28, 28),Image (3, 28, 28)\n",
       "Path: C:\\Users\\Yang\\.fastai\\data\\mnist_sample;\n",
       "\n",
       "Valid: ImageList (7217 items)\n",
       "Image (3, 28, 28),Image (3, 28, 28),Image (3, 28, 28),Image (3, 28, 28),Image (3, 28, 28)\n",
       "Path: C:\\Users\\Yang\\.fastai\\data\\mnist_sample;\n",
       "\n",
       "Test: None"
      ]
     },
     "execution_count": 82,
     "metadata": {},
     "output_type": "execute_result"
    }
   ],
   "source": [
    "data = (ImageList.from_df(df, path)\n",
    "                 .split_from_df())\n",
    "data"
   ]
  },
  {
   "cell_type": "markdown",
   "metadata": {},
   "source": [
    "`警告：此方法假定数据是从csv文件或数据框创建的。`"
   ]
  },
  {
   "cell_type": "markdown",
   "metadata": {},
   "source": [
    "## 第3步：标记输入\n",
    "\n",
    "要标记输入，请使用以下功能之一。 请注意，即使它不在文档化的参数中，您也可以始终传递将用于创建这些标签的label_cls（默认值是输入ItemList中的标签，如果没有，则会转到CategoryList，MultiCategoryList或 FloatList取决于标签的类型）。 这在以下函数中实现：\n",
    "\n",
    "<b>get_label_cls</b>\n",
    "\n",
    "`get_label_cls(labels, label_cls:Callable=None, label_delim:str=None, **kwargs)`\n",
    "\n",
    "返回label_cls或从标签的第一个元素中猜出一个。\n",
    "\n",
    "在幕后，ItemList.get_label_cls基本上根据标签的项类型选择标签类，而标签可以是Collection，pandas.core.frame.DataFrame，pandas.core.series.Series中的任何一个。 如果列表元素的类型为字符串或整数，则get_label_cls将输出CategoryList; 它们是float类型，然后输出FloatList; 如果它们是Collection类型，那么它将输出MultiCateogryList。\n",
    "\n"
   ]
  },
  {
   "cell_type": "code",
   "execution_count": 83,
   "metadata": {},
   "outputs": [],
   "source": [
    "from fastai.vision import *"
   ]
  },
  {
   "cell_type": "code",
   "execution_count": 84,
   "metadata": {},
   "outputs": [
    {
     "data": {
      "text/plain": [
       "ItemLists;\n",
       "\n",
       "Train: ImageList (709 items)\n",
       "Image (3, 28, 28),Image (3, 28, 28),Image (3, 28, 28),Image (3, 28, 28),Image (3, 28, 28)\n",
       "Path: C:\\Users\\Yang\\.fastai\\data\\mnist_tiny;\n",
       "\n",
       "Valid: ImageList (699 items)\n",
       "Image (3, 28, 28),Image (3, 28, 28),Image (3, 28, 28),Image (3, 28, 28),Image (3, 28, 28)\n",
       "Path: C:\\Users\\Yang\\.fastai\\data\\mnist_tiny;\n",
       "\n",
       "Test: None"
      ]
     },
     "execution_count": 84,
     "metadata": {},
     "output_type": "execute_result"
    }
   ],
   "source": [
    "path_data = untar_data(URLs.MNIST_TINY)\n",
    "sd = ImageList.from_folder(path_data).split_by_folder('train', 'valid'); sd"
   ]
  },
  {
   "cell_type": "code",
   "execution_count": 85,
   "metadata": {},
   "outputs": [
    {
     "data": {
      "text/plain": [
       "fastai.data_block.CategoryList"
      ]
     },
     "execution_count": 85,
     "metadata": {},
     "output_type": "execute_result"
    }
   ],
   "source": [
    "labels = ['7', '3']\n",
    "label_cls = sd.train.get_label_cls(labels); label_cls"
   ]
  },
  {
   "cell_type": "code",
   "execution_count": 86,
   "metadata": {},
   "outputs": [
    {
     "data": {
      "text/plain": [
       "fastai.data_block.CategoryList"
      ]
     },
     "execution_count": 86,
     "metadata": {},
     "output_type": "execute_result"
    }
   ],
   "source": [
    "labels = [7, 3]\n",
    "label_cls = sd.train.get_label_cls(labels); label_cls"
   ]
  },
  {
   "cell_type": "code",
   "execution_count": 87,
   "metadata": {},
   "outputs": [
    {
     "data": {
      "text/plain": [
       "fastai.data_block.FloatList"
      ]
     },
     "execution_count": 87,
     "metadata": {},
     "output_type": "execute_result"
    }
   ],
   "source": [
    "labels = [7.0, 3.0]\n",
    "label_cls = sd.train.get_label_cls(labels); label_cls"
   ]
  },
  {
   "cell_type": "code",
   "execution_count": 88,
   "metadata": {},
   "outputs": [
    {
     "data": {
      "text/plain": [
       "fastai.data_block.MultiCategoryList"
      ]
     },
     "execution_count": 88,
     "metadata": {},
     "output_type": "execute_result"
    }
   ],
   "source": [
    "labels = [[7, 3],]\n",
    "label_cls = sd.train.get_label_cls(labels); label_cls"
   ]
  },
  {
   "cell_type": "code",
   "execution_count": 89,
   "metadata": {},
   "outputs": [
    {
     "data": {
      "text/plain": [
       "fastai.data_block.MultiCategoryList"
      ]
     },
     "execution_count": 89,
     "metadata": {},
     "output_type": "execute_result"
    }
   ],
   "source": [
    "labels = [['7', '3'],]\n",
    "label_cls = sd.train.get_label_cls(labels); label_cls"
   ]
  },
  {
   "cell_type": "markdown",
   "metadata": {},
   "source": [
    "如果没有传递label_cls参数，通常可以根据数据推断出正确的标签类型（用于分类或回归）。 如果您有多个回归目标（例如，从单个图像/文本预测5个不同的数字），请注意浮动数组默认被认为是单热编码分类的目标。 如果您的任务是回归，请确保传递label_cls = FloatList，以便从您的databunch创建的学习者正确初始化。\n",
    "\n",
    "这些文档中的第一个示例创建了如下标签："
   ]
  },
  {
   "cell_type": "code",
   "execution_count": 90,
   "metadata": {},
   "outputs": [],
   "source": [
    "path = untar_data(URLs.MNIST_TINY)\n",
    "ll = ImageList.from_folder(path).split_by_folder().label_from_folder().train"
   ]
  },
  {
   "cell_type": "markdown",
   "metadata": {},
   "source": [
    "如果要保存重新创建LabelList所需的数据（不包括保存实际的图像/文本/ etc文件），可以使用to_df或to_csv："
   ]
  },
  {
   "cell_type": "code",
   "execution_count": 91,
   "metadata": {},
   "outputs": [],
   "source": [
    "#train.to_csv('tmp.csv')"
   ]
  },
  {
   "cell_type": "markdown",
   "metadata": {},
   "source": [
    "或者直接抓住pd.DataFrame："
   ]
  },
  {
   "cell_type": "code",
   "execution_count": 92,
   "metadata": {},
   "outputs": [
    {
     "data": {
      "text/html": [
       "<div>\n",
       "<style scoped>\n",
       "    .dataframe tbody tr th:only-of-type {\n",
       "        vertical-align: middle;\n",
       "    }\n",
       "\n",
       "    .dataframe tbody tr th {\n",
       "        vertical-align: top;\n",
       "    }\n",
       "\n",
       "    .dataframe thead th {\n",
       "        text-align: right;\n",
       "    }\n",
       "</style>\n",
       "<table border=\"1\" class=\"dataframe\">\n",
       "  <thead>\n",
       "    <tr style=\"text-align: right;\">\n",
       "      <th></th>\n",
       "      <th>x</th>\n",
       "      <th>y</th>\n",
       "    </tr>\n",
       "  </thead>\n",
       "  <tbody>\n",
       "    <tr>\n",
       "      <th>0</th>\n",
       "      <td>train\\3\\7.png</td>\n",
       "      <td>3</td>\n",
       "    </tr>\n",
       "    <tr>\n",
       "      <th>1</th>\n",
       "      <td>train\\3\\7030.png</td>\n",
       "      <td>3</td>\n",
       "    </tr>\n",
       "    <tr>\n",
       "      <th>2</th>\n",
       "      <td>train\\3\\7031.png</td>\n",
       "      <td>3</td>\n",
       "    </tr>\n",
       "    <tr>\n",
       "      <th>3</th>\n",
       "      <td>train\\3\\7043.png</td>\n",
       "      <td>3</td>\n",
       "    </tr>\n",
       "    <tr>\n",
       "      <th>4</th>\n",
       "      <td>train\\3\\7046.png</td>\n",
       "      <td>3</td>\n",
       "    </tr>\n",
       "  </tbody>\n",
       "</table>\n",
       "</div>"
      ],
      "text/plain": [
       "                  x  y\n",
       "0     train\\3\\7.png  3\n",
       "1  train\\3\\7030.png  3\n",
       "2  train\\3\\7031.png  3\n",
       "3  train\\3\\7043.png  3\n",
       "4  train\\3\\7046.png  3"
      ]
     },
     "execution_count": 92,
     "metadata": {},
     "output_type": "execute_result"
    }
   ],
   "source": [
    "ll.to_df().head()"
   ]
  },
  {
   "cell_type": "markdown",
   "metadata": {},
   "source": [
    "<b>label_empty</b>\n",
    "\n",
    "`label_empty(**kwargs)`\n",
    "\n",
    "使用EmptyLabel标记每个项目。\n",
    "\n",
    "<b>label_from_df</b>\n",
    "\n",
    "`label_from_df(cols:IntsOrStrs=1, label_cls:Callable=None, **kwargs)`\n",
    "\n",
    "从self.inner_df中cols中的值标记self.items。\n",
    "\n",
    "`警告：此方法仅适用于使用`from_csv`或`from_df`方法创建的数据对象。`\n",
    "\n",
    "<b>label_const</b>\n",
    "\n",
    "`label_const(const:Any=0, label_cls:Callable=None, **kwargs) → LabelList`\n",
    "\n",
    "使用const标记每个项目。\n",
    "\n",
    "<b>label_from_folder</b>\n",
    "\n",
    "`label_from_folder(label_cls:Callable=None, **kwargs) → LabelList`\n",
    "\n",
    "根据文件夹为每个文件名添加标签。\n",
    "\n",
    "`注意：此方法查看路径中的最后一个子文件夹以确定类。`\n",
    "\n",
    "在幕后，当ItemList调用label_from_folder时，它会创建一个lambda函数，该函数输出文件Path对象直接或直接属于的foldername，然后使用lambda函数作为输入调用label_from_func。\n",
    "\n",
    "在实际和高级别上，label_from_folder主要用于ItemLists而不是ItemList以简化和提高效率，有关详细信息，请参阅ItemLists上的label_from_folder示例。 即使您只需要训练集ItemList，仍然需要使用split_none来创建ItemLists，然后使用label_from_folder进行标记，如下所示。"
   ]
  },
  {
   "cell_type": "code",
   "execution_count": 93,
   "metadata": {},
   "outputs": [],
   "source": [
    "from fastai.vision import *"
   ]
  },
  {
   "cell_type": "code",
   "execution_count": 94,
   "metadata": {},
   "outputs": [
    {
     "data": {
      "text/plain": [
       "[WindowsPath('C:/Users/Yang/.fastai/data/mnist_tiny/labels.csv'),\n",
       " WindowsPath('C:/Users/Yang/.fastai/data/mnist_tiny/models'),\n",
       " WindowsPath('C:/Users/Yang/.fastai/data/mnist_tiny/test'),\n",
       " WindowsPath('C:/Users/Yang/.fastai/data/mnist_tiny/train'),\n",
       " WindowsPath('C:/Users/Yang/.fastai/data/mnist_tiny/valid')]"
      ]
     },
     "execution_count": 94,
     "metadata": {},
     "output_type": "execute_result"
    }
   ],
   "source": [
    "path_data = untar_data(URLs.MNIST_TINY); path_data.ls()"
   ]
  },
  {
   "cell_type": "code",
   "execution_count": 95,
   "metadata": {},
   "outputs": [
    {
     "data": {
      "text/plain": [
       "LabelLists;\n",
       "\n",
       "Train: LabelList (709 items)\n",
       "x: ImageList\n",
       "Image (3, 28, 28),Image (3, 28, 28),Image (3, 28, 28),Image (3, 28, 28),Image (3, 28, 28)\n",
       "y: CategoryList\n",
       "3,3,3,3,3\n",
       "Path: C:\\Users\\Yang\\.fastai\\data\\mnist_tiny\\train;\n",
       "\n",
       "Valid: LabelList (0 items)\n",
       "x: ImageList\n",
       "\n",
       "y: CategoryList\n",
       "\n",
       "Path: C:\\Users\\Yang\\.fastai\\data\\mnist_tiny\\train;\n",
       "\n",
       "Test: None"
      ]
     },
     "execution_count": 95,
     "metadata": {},
     "output_type": "execute_result"
    }
   ],
   "source": [
    "sd_train = ImageList.from_folder(path_data/'train').split_none()\n",
    "ll_train = sd_train.label_from_folder(); ll_train"
   ]
  },
  {
   "cell_type": "markdown",
   "metadata": {},
   "source": [
    "<b>label_from_func</b>\n",
    "\n",
    "`label_from_func(func:Callable, label_cls:Callable=None, **kwargs) → LabelList`\n",
    "\n",
    "将func应用于每个输入以获取其标签。\n",
    "\n",
    "在label_from_func中，它将输入func应用于ItemList的每个项目，并将所有函数输出放入列表中，然后将列表传递到ItemList._label_from_list。 下面是使用label_from_func的简单示例。"
   ]
  },
  {
   "cell_type": "code",
   "execution_count": 96,
   "metadata": {},
   "outputs": [],
   "source": [
    "from fastai.vision import *"
   ]
  },
  {
   "cell_type": "code",
   "execution_count": 97,
   "metadata": {},
   "outputs": [
    {
     "data": {
      "text/plain": [
       "ItemLists;\n",
       "\n",
       "Train: ImageList (709 items)\n",
       "Image (3, 28, 28),Image (3, 28, 28),Image (3, 28, 28),Image (3, 28, 28),Image (3, 28, 28)\n",
       "Path: C:\\Users\\Yang\\.fastai\\data\\mnist_tiny;\n",
       "\n",
       "Valid: ImageList (699 items)\n",
       "Image (3, 28, 28),Image (3, 28, 28),Image (3, 28, 28),Image (3, 28, 28),Image (3, 28, 28)\n",
       "Path: C:\\Users\\Yang\\.fastai\\data\\mnist_tiny;\n",
       "\n",
       "Test: None"
      ]
     },
     "execution_count": 97,
     "metadata": {},
     "output_type": "execute_result"
    }
   ],
   "source": [
    "path_data = untar_data(URLs.MNIST_TINY)\n",
    "sd = ImageList.from_folder(path_data).split_by_folder('train', 'valid');sd"
   ]
  },
  {
   "cell_type": "code",
   "execution_count": 98,
   "metadata": {},
   "outputs": [],
   "source": [
    "func=lambda o: (o.parts if isinstance(o, Path) else o.split(os.path.sep))[-2]"
   ]
  },
  {
   "cell_type": "markdown",
   "metadata": {},
   "source": [
    "上面的lambda函数是访问文件Path对象的立即foldername。"
   ]
  },
  {
   "cell_type": "code",
   "execution_count": 99,
   "metadata": {},
   "outputs": [
    {
     "data": {
      "text/plain": [
       "LabelLists;\n",
       "\n",
       "Train: LabelList (709 items)\n",
       "x: ImageList\n",
       "Image (3, 28, 28),Image (3, 28, 28),Image (3, 28, 28),Image (3, 28, 28),Image (3, 28, 28)\n",
       "y: CategoryList\n",
       "3,3,3,3,3\n",
       "Path: C:\\Users\\Yang\\.fastai\\data\\mnist_tiny;\n",
       "\n",
       "Valid: LabelList (699 items)\n",
       "x: ImageList\n",
       "Image (3, 28, 28),Image (3, 28, 28),Image (3, 28, 28),Image (3, 28, 28),Image (3, 28, 28)\n",
       "y: CategoryList\n",
       "3,3,3,3,3\n",
       "Path: C:\\Users\\Yang\\.fastai\\data\\mnist_tiny;\n",
       "\n",
       "Test: None"
      ]
     },
     "execution_count": 99,
     "metadata": {},
     "output_type": "execute_result"
    }
   ],
   "source": [
    "ll = sd.label_from_func(func); ll"
   ]
  },
  {
   "cell_type": "markdown",
   "metadata": {},
   "source": [
    "<b>label_from_re</b>\n",
    "\n",
    "`label_from_re(pat:str, full_path:bool=False, label_cls:Callable=None, **kwargs) → LabelList`\n",
    "\n",
    "应用`label_from_re`中的 pat来确定每个文件名的标签。 如果是full_path，请搜索全名。"
   ]
  },
  {
   "cell_type": "markdown",
   "metadata": {},
   "source": [
    "### class CategoryList\n",
    "\n",
    "`CategoryList(items:Iterator[T_co], classes:Collection[T_co]=None, label_delim:str=None, **kwargs) :: CategoryListBase`\n",
    "\n",
    "基于ItemList的单分类标签。\n",
    "\n",
    "ItemList适合于在属于类的项目中存储标签。 如果未传递，则将由唯一的不同标签确定类。 处理器将默认为CategoryProcessor。\n",
    "\n",
    "CategoryList使用标签创建ItemList以处理分类标签。 在幕后，CategoryList是CategoryListBase的子类，它是ItemList的子类。 CategoryList从CategoryListBase继承属性，例如类（默认为None），filter_missing_y（默认为True），并且具有自己的唯一属性loss_func（默认为CrossEntropyFlat（）），以及它自己的类属性_processor（默认为CategoryProcessor）。"
   ]
  },
  {
   "cell_type": "code",
   "execution_count": 100,
   "metadata": {},
   "outputs": [],
   "source": [
    "from fastai.vision import *"
   ]
  },
  {
   "cell_type": "code",
   "execution_count": 101,
   "metadata": {},
   "outputs": [
    {
     "data": {
      "text/plain": [
       "(array([0, 0, 0, 0, ..., 1, 1, 1, 1], dtype=int64), ['3', '7'], Category 3)"
      ]
     },
     "execution_count": 101,
     "metadata": {},
     "output_type": "execute_result"
    }
   ],
   "source": [
    "path_data = untar_data(URLs.MNIST_TINY)\n",
    "ll = ImageList.from_folder(path_data).split_by_folder('train', 'valid').label_from_folder()\n",
    "ll.train.y.items, ll.train.y.classes, ll.train.y[0]"
   ]
  },
  {
   "cell_type": "code",
   "execution_count": 102,
   "metadata": {},
   "outputs": [
    {
     "data": {
      "text/plain": [
       "CategoryList (709 items)\n",
       "3,3,3,3,3\n",
       "Path: ."
      ]
     },
     "execution_count": 102,
     "metadata": {},
     "output_type": "execute_result"
    }
   ],
   "source": [
    "cl = CategoryList(ll.train.y.items, ll.train.y.classes); cl"
   ]
  },
  {
   "cell_type": "markdown",
   "metadata": {},
   "source": [
    "有关打印CategoryList对象或使用索引访问元素的行为，请参阅下面的CategoryList.get。\n",
    "\n",
    "在幕后，当打印出CategoryList对象或cl [idx]时，不明确地使用CategoryList.get。 根据CategoryList.get的来源，每个项目用于获取自己的类。 当'classes'是一个字符串列表时，那么项的元素被用作列表的索引，因此它们必须是0到len（classes）-1范围内的整数; 如果classes是字典，那么项的元素将用作键，因此它们也可以是字符串。 请参阅下面的示例了解详情"
   ]
  },
  {
   "cell_type": "code",
   "execution_count": 103,
   "metadata": {},
   "outputs": [],
   "source": [
    "from fastai.vision import *"
   ]
  },
  {
   "cell_type": "code",
   "execution_count": 104,
   "metadata": {},
   "outputs": [
    {
     "data": {
      "text/plain": [
       "CategoryList (5 items)\n",
       "3,7,9,7,3\n",
       "Path: ."
      ]
     },
     "execution_count": 104,
     "metadata": {},
     "output_type": "execute_result"
    }
   ],
   "source": [
    "items = np.array([0, 1, 2, 1, 0])\n",
    "cl = CategoryList(items, classes=['3', '7', '9']); cl"
   ]
  },
  {
   "cell_type": "code",
   "execution_count": 105,
   "metadata": {},
   "outputs": [
    {
     "data": {
      "text/plain": [
       "CategoryList (5 items)\n",
       "3,7,9,7,3\n",
       "Path: ."
      ]
     },
     "execution_count": 105,
     "metadata": {},
     "output_type": "execute_result"
    }
   ],
   "source": [
    "items = np.array(['3', '7', '9', '7', '3'])\n",
    "classes = {'3':3, '7':7, '9':9}\n",
    "cl = CategoryList(items, classes); cl"
   ]
  },
  {
   "cell_type": "markdown",
   "metadata": {},
   "source": [
    "### class MultiCategoryList\n",
    "\n",
    "`MultiCategoryList(items:Iterator[T_co], classes:Collection[T_co]=None, label_delim:str=None, one_hot:bool=False, **kwargs) :: CategoryListBase`\n",
    "\n",
    "多分类标签的基本ItemList。\n",
    "\n",
    "它将存储属于类的项目中的标签列表。 如果未传递，则将由唯一的不同标签确定类。 sep用于分割标签列表中的项目内容。\n",
    "\n",
    "如果one_hot = True，则项目包含一个热编码的标签。 在这种情况下，必须传递一个类列表（因为我们不能使用不同的标签）。\n",
    "\n",
    "### class FloatList\n",
    "\n",
    "`FloatList(items:Iterator[T_co], log:bool=False, classes:Collection[T_co]=None, **kwargs) :: ItemList`\n",
    "\n",
    "ItemList适合存储用于回归的项目中的浮点数。 如果此标志为True，将添加日志。\n",
    "\n",
    "### class EmptyLabelList\n",
    "\n",
    "`EmptyLabelList(items:Iterator[T_co], path:PathOrStr='.', label_cls:Callable=None, inner_df:Any=None, processor:Union[PreProcessor, Collection[PreProcessor]]=None, x:ItemList=None, ignore_empty:bool=False) :: ItemList`\n",
    "\n",
    "基于ItemList的假标签。"
   ]
  },
  {
   "cell_type": "markdown",
   "metadata": {},
   "source": [
    "### 隐形步骤：预处理\n",
    "这在API中没有看到，但是如果您在步骤1中在初始ItemList中传递了`processor `（或它们的列表），它将在此处应用。如果您没有传递任何处理器，则可能仍会创建它们的列表，具体取决于您的项目类的_processor变量中的内容（这可以是PreProcessor类的列表）。\n",
    "\n",
    "处理器是在初始化时应用于所有输入的转换，其中在训练集上计算的状态随后在验证集（可能是测试集）上应用而无需修改。例如，它可以处理文本以进行标记，然后对它们进行数字化。在这种情况下，我们希望验证集的数值化与训练集的词汇表完全相同。\n",
    "\n",
    "另一个例子是表格数据，其中我们用（例如）训练集上计算的中值填充缺失值。该统计信息存储在PreProcessor的内部状态中，并应用于验证集。\n",
    "\n",
    "这是所有处理器的通用类。"
   ]
  },
  {
   "cell_type": "markdown",
   "metadata": {},
   "source": [
    "### class PreProcessor\n",
    "`PreProcessor(ds:Collection[T_co]=None)`\n",
    "\n",
    "将应用于数据块API末尾的项目的处理器的基本类。\n",
    "\n",
    "<b>process_one</b>\n",
    "\n",
    "`process_one(item:Any)`\n",
    "\n",
    "处理一个项目。 此方法需要在任何子类中编写。\n",
    "\n",
    "<b>process</b>\n",
    "\n",
    "`process(ds:Collection[T_co])`\n",
    "\n",
    "ds：ItemList的对象\n",
    "处理数据集。 此默认设置适用于ds的每个项目的process_one。"
   ]
  },
  {
   "cell_type": "markdown",
   "metadata": {},
   "source": [
    "### class CategoryProcessor\n",
    "\n",
    "`CategoryProcessor(ds:ItemList) :: PreProcessor`\n",
    "\n",
    "PreProcessor，从ds.items创建类并处理映射。\n",
    "\n",
    "<b>generate_classes</b>\n",
    "\n",
    "`generate_classes(items)`\n",
    "\n",
    "通过获取已排序的唯一值从项目生成类。\n",
    "\n",
    "<b>process</b>\n",
    "\n",
    "`process(ds)`\n",
    "\n",
    "ds是CategoryList的对象。\n",
    "它基本上生成一个唯一标签列表（分配给ds.classes）和一个字典映射类到索引（分配给ds.c2i）。\n",
    "\n",
    "它是一个内部函数，仅用于在标记步骤后将处理器应用于训练，验证和测试数据集。"
   ]
  },
  {
   "cell_type": "markdown",
   "metadata": {},
   "source": [
    "### class MultiCategoryProcessor\n",
    "\n",
    "`MultiCategoryProcessor(ds:ItemList, one_hot:bool=False) :: CategoryProcessor`\n",
    "\n",
    "PreProcessor，从ds.items创建类并处理映射。\n",
    "\n",
    "<b>generate_classes</b>\n",
    "\n",
    "`generate_classes(items)`\n",
    "\n",
    "通过获取已排序的唯一值从项目生成类。"
   ]
  },
  {
   "cell_type": "markdown",
   "metadata": {},
   "source": [
    "### 可选步骤\n",
    "\n",
    "#### 添加变换\n",
    "变换与处理器的不同之处在于它们在我们抓取一个项目时即时应用。 在随机变换的情况下，每次我们要求相同的项目时，它们也可能会发生变化。\n",
    "\n",
    "<b>transform</b>\n",
    "\n",
    "`transform(tfms:Optional[Tuple[Union[Callable, Collection[Callable]], Union[Callable, Collection[Callable]]]]=(None, None), **kwargs)`\n",
    "\n",
    "设置要应用于train和validation的xs的tfms。\n",
    "\n",
    "这是视觉应用的主要内容。 kwargs参数是您传递的变换类型所期望的参数。 tfm_y就是其中之一，如果设置为True，则变换将应用于输入和目标。\n",
    "\n",
    "有关示例，请参阅：vision.transforms。\n",
    "\n",
    "#### 添加测试集\n",
    "要添加测试集，可以使用以下两种方法之一。\n",
    "\n",
    "<b>add_test</b>\n",
    "\n",
    "`add_test(items:Iterator[T_co], label:Any=None)`\n",
    "\n",
    "添加包含具有任意标签的项目的测试集。\n",
    "\n",
    "`注意：这里`items`可以是`ItemList`或集合。`\n",
    "\n",
    "<b>add_test_folder</b>\n",
    "\n",
    "`add_test_folder(test_folder:str='test', label:Any=None)`\n",
    "\n",
    "添加包含test_folder项和任意标签的测试集。\n",
    "\n",
    "`警告：在fastai中，测试集未标记！ 即使可用，也不会收集任何标签。\n",
    "相反，传递的label参数或空标签将用于此数据集的所有条目（这是fastai的内部管道所必需的）。`\n",
    "\n",
    "在fastai框架中，测试数据集没有标签 - 这是要预测的未知数据。 如果要在带有标签的测试数据集上验证模型，可能需要将其用作验证集，如："
   ]
  },
  {
   "cell_type": "code",
   "execution_count": 107,
   "metadata": {},
   "outputs": [
    {
     "name": "stderr",
     "output_type": "stream",
     "text": [
      "C:\\Users\\Yang\\AppData\\Local\\conda\\conda\\envs\\PyTorch\\lib\\site-packages\\fastai\\data_block.py:525: UserWarning: You are labelling your items with CategoryList.\n",
      "Your valid set contained the following unknown labels, the corresponding items have been discarded.\n",
      "test\n",
      "  if getattr(ds, 'warn', False): warn(ds.warn)\n"
     ]
    }
   ],
   "source": [
    "data_test = (ImageList.from_folder(path)\n",
    "        .split_by_folder(train='train', valid='test')\n",
    "        .label_from_folder())"
   ]
  },
  {
   "cell_type": "markdown",
   "metadata": {},
   "source": [
    "另一种方法，你使用普通的验证集，然后当训练结束时，你只想验证带有标签的测试集作为验证集，你可以这样做："
   ]
  },
  {
   "cell_type": "markdown",
   "metadata": {},
   "source": [
    "```python\n",
    "tfms = []\n",
    "path = Path('data').resolve()\n",
    "data = (ImageList.from_folder(path)\n",
    "        .split_by_pct()\n",
    "        .label_from_folder()\n",
    "        .transform(tfms)\n",
    "        .databunch()\n",
    "        .normalize() ) \n",
    "learn = cnn_learner(data, models.resnet50, metrics=accuracy)\n",
    "learn.fit_one_cycle(5,1e-2)\n",
    "\n",
    "# now replace the validation dataset entry with the test dataset as a new validation dataset: \n",
    "# everything is exactly the same, except replacing `split_by_pct` w/ `split_by_folder` \n",
    "# (or perhaps you were already using the latter, so simply switch to valid='test')\n",
    "data_test = (ImageList.from_folder(path)\n",
    "        .split_by_folder(train='train', valid='test')\n",
    "        .label_from_folder()\n",
    "        .transform(tfms)\n",
    "        .databunch()\n",
    "        .normalize()\n",
    "       ) \n",
    "learn.validate(data_test.valid_dl)\n",
    "```"
   ]
  },
  {
   "cell_type": "markdown",
   "metadata": {},
   "source": [
    "当然，您的数据块可能完全不同，这只是一个例子。"
   ]
  },
  {
   "cell_type": "markdown",
   "metadata": {},
   "source": [
    "## 第4步：转换为DataBunch\n",
    "\n",
    "最后一步通常非常简单。 您只需要包含我们传递给DataBunch.create的所有参数（bs，num_workers，collate_fn）。 如果需要修改，则调用创建DataBunch的类在训练集的输入的_bunch属性中设置。 通常，我们之前展示的各种子类为您处理。\n",
    "\n",
    "<b>databunch</b>\n",
    "\n",
    "`databunch(path:PathOrStr=None, bs:int=64, val_bs:int=None, num_workers:int=16, dl_tfms:Optional[Collection[Callable]]=None, device:device=None, collate_fn:Callable='data_collate', no_check:bool=False, **kwargs) → DataBunch`\n",
    "\n",
    "从self创建DataBunch，path将覆盖self.path，kwargs将传递给DataBunch.create。"
   ]
  },
  {
   "cell_type": "markdown",
   "metadata": {},
   "source": [
    "## Inner classes\n",
    "\n",
    "#### class LabelList\n",
    "\n",
    "`LabelList(x:ItemList, y:ItemList, tfms:Union[Callable, Collection[Callable]]=None, tfm_y:bool=False, **kwargs) :: Dataset`\n",
    "\n",
    "输入x和标签y的列表，带有可选的tfms。\n",
    "\n",
    "如果tfm_y为True，则可选择将tfms应用于y。\n",
    "\n",
    "在幕后，它接受输入ItemList并将ItemList标记为其属性x和y，将属性项设置为None，并使用LabelList.transform将变换列表TfmList应用于x和y，如果tfm_y设置为True。"
   ]
  },
  {
   "cell_type": "code",
   "execution_count": 112,
   "metadata": {},
   "outputs": [],
   "source": [
    "from fastai.vision import *"
   ]
  },
  {
   "cell_type": "code",
   "execution_count": 113,
   "metadata": {},
   "outputs": [
    {
     "data": {
      "text/plain": [
       "(ImageList (709 items)\n",
       " Image (3, 28, 28),Image (3, 28, 28),Image (3, 28, 28),Image (3, 28, 28),Image (3, 28, 28)\n",
       " Path: C:\\Users\\Yang\\.fastai\\data\\mnist_tiny, CategoryList (709 items)\n",
       " 3,3,3,3,3\n",
       " Path: C:\\Users\\Yang\\.fastai\\data\\mnist_tiny)"
      ]
     },
     "execution_count": 113,
     "metadata": {},
     "output_type": "execute_result"
    }
   ],
   "source": [
    "path_data = untar_data(URLs.MNIST_TINY)\n",
    "ll = ImageList.from_folder(path_data).split_by_folder('train', 'valid').label_from_folder()\n",
    "ll.train.x, ll.train.y"
   ]
  },
  {
   "cell_type": "code",
   "execution_count": 114,
   "metadata": {},
   "outputs": [
    {
     "data": {
      "text/plain": [
       "LabelList (709 items)\n",
       "x: ImageList\n",
       "Image (3, 28, 28),Image (3, 28, 28),Image (3, 28, 28),Image (3, 28, 28),Image (3, 28, 28)\n",
       "y: CategoryList\n",
       "3,3,3,3,3\n",
       "Path: C:\\Users\\Yang\\.fastai\\data\\mnist_tiny"
      ]
     },
     "execution_count": 114,
     "metadata": {},
     "output_type": "execute_result"
    }
   ],
   "source": [
    "LabelList(x=ll.train.x, y=ll.train.y)"
   ]
  },
  {
   "cell_type": "markdown",
   "metadata": {},
   "source": [
    "<b>export</b>\n",
    "\n",
    "`export(fn:PathOrStr, **kwargs)`\n",
    "\n",
    "导出最小状态并将其保存在fn中以加载空版本以进行推理。\n",
    "\n",
    "<b>transform_y</b>\n",
    "\n",
    "`transform_y(tfms:Union[Callable, Collection[Callable]]=None, **kwargs)`\n",
    "\n",
    "设置仅应用于目标的tfms。\n",
    "\n",
    "<b>get_state</b>\n",
    "\n",
    "`get_state(**kwargs)`\n",
    "\n",
    "返回导出的最小状态。\n",
    "\n",
    "<b>load_empty</b>\n",
    "\n",
    "`load_empty(path:PathOrStr, fn:PathOrStr)`\n",
    "\n",
    "在fn中加载状态以创建用于推断的空LabelList。\n",
    "\n",
    "<b>load_state</b>\n",
    "\n",
    "`load_state(path:PathOrStr, state:dict) → LabelList`\n",
    "\n",
    "从状态创建LabelList。\n",
    "\n",
    "<b>process</b>\n",
    "\n",
    "`process(xp:PreProcessor=None, yp:PreProcessor=None, name:str=None)`\n",
    "\n",
    "使用xp和yp启动self.x和self.y上的处理。\n",
    "\n",
    "在幕后，LabelList.process做了三件事：1。要求标签y由yp和y.process（yp）处理; 2.如果y.filter_missing_y为True，则从x和y中删除丢失的数据样本; 3.要求输入x由xp和x.process（xp）处理"
   ]
  },
  {
   "cell_type": "code",
   "execution_count": 115,
   "metadata": {},
   "outputs": [],
   "source": [
    "from fastai.vision import *"
   ]
  },
  {
   "cell_type": "code",
   "execution_count": 116,
   "metadata": {},
   "outputs": [],
   "source": [
    "path_data = untar_data(URLs.MNIST_TINY)\n",
    "sd = ImageList.from_folder(path_data).split_by_folder('train', 'valid')"
   ]
  },
  {
   "cell_type": "code",
   "execution_count": 117,
   "metadata": {},
   "outputs": [],
   "source": [
    "sd.train = sd.train.label_from_folder(from_item_lists=True)\n",
    "sd.valid = sd.valid.label_from_folder(from_item_lists=True)\n",
    "sd.__class__ = LabelLists"
   ]
  },
  {
   "cell_type": "code",
   "execution_count": 118,
   "metadata": {},
   "outputs": [
    {
     "data": {
      "text/plain": [
       "([], [<fastai.data_block.CategoryProcessor at 0x26a840c74e0>])"
      ]
     },
     "execution_count": 118,
     "metadata": {},
     "output_type": "execute_result"
    }
   ],
   "source": [
    "xp,yp = sd.get_processors()\n",
    "xp,yp"
   ]
  },
  {
   "cell_type": "code",
   "execution_count": 119,
   "metadata": {},
   "outputs": [
    {
     "data": {
      "text/plain": [
       "LabelList (709 items)\n",
       "x: ImageList\n",
       "Image (3, 28, 28),Image (3, 28, 28),Image (3, 28, 28),Image (3, 28, 28),Image (3, 28, 28)\n",
       "y: CategoryList\n",
       "3,3,3,3,3\n",
       "Path: C:\\Users\\Yang\\.fastai\\data\\mnist_tiny"
      ]
     },
     "execution_count": 119,
     "metadata": {},
     "output_type": "execute_result"
    }
   ],
   "source": [
    "sd.train.process(xp, yp)"
   ]
  },
  {
   "cell_type": "markdown",
   "metadata": {},
   "source": [
    "<b>set_item</b>\n",
    "\n",
    "`set_item(item)`\n",
    "\n",
    "对于推理，将简要地用仅包含项目的数据集替换数据集。\n",
    "\n",
    "<b>to_df</b>\n",
    "\n",
    "`to_df()`\n",
    "\n",
    "创建包含self.x和self.y中的项目的pd.DataFrame。\n",
    "\n",
    "<b>to_csv</b>\n",
    "\n",
    "`to_csv(dest:str)`\n",
    "\n",
    "将self.to_df（）保存到self.path / dest中的CSV文件中。\n",
    "\n",
    "<b>transform</b>\n",
    "\n",
    "`transform(tfms:Union[Callable, Collection[Callable]], tfm_y:bool=None, **kwargs)`\n",
    "\n",
    "设置要应用于输入和目标的tfms和tfm_y值。"
   ]
  },
  {
   "cell_type": "markdown",
   "metadata": {},
   "source": [
    "### class ItemLists\n",
    "`ItemLists(path:PathOrStr, train:ItemList, valid:ItemList)`\n",
    "\n",
    "每个train和valid（可选测试）的ItemList。\n",
    "\n",
    "它初始化一个ItemLists对象，它基本上将训练，valiation和测试（可选）ItemLists作为其属性。 当训练或验证ItemList为空时，它还提供有用的警告消息。\n",
    "\n",
    "有关如何创建ItemLists对象的信息，请参阅以下示例。"
   ]
  },
  {
   "cell_type": "code",
   "execution_count": 120,
   "metadata": {},
   "outputs": [],
   "source": [
    "from fastai.vision import *"
   ]
  },
  {
   "cell_type": "code",
   "execution_count": 121,
   "metadata": {},
   "outputs": [
    {
     "data": {
      "text/plain": [
       "[WindowsPath('C:/Users/Yang/.fastai/data/mnist_tiny/labels.csv'),\n",
       " WindowsPath('C:/Users/Yang/.fastai/data/mnist_tiny/models'),\n",
       " WindowsPath('C:/Users/Yang/.fastai/data/mnist_tiny/test'),\n",
       " WindowsPath('C:/Users/Yang/.fastai/data/mnist_tiny/train'),\n",
       " WindowsPath('C:/Users/Yang/.fastai/data/mnist_tiny/valid')]"
      ]
     },
     "execution_count": 121,
     "metadata": {},
     "output_type": "execute_result"
    }
   ],
   "source": [
    "path_data = untar_data(URLs.MNIST_TINY); path_data.ls()"
   ]
  },
  {
   "cell_type": "code",
   "execution_count": 122,
   "metadata": {},
   "outputs": [],
   "source": [
    "il_train = ImageList.from_folder(path_data/'train')\n",
    "il_valid = ImageList.from_folder(path_data/'valid')\n",
    "il_test = ImageList.from_folder(path_data/'test')"
   ]
  },
  {
   "cell_type": "code",
   "execution_count": 123,
   "metadata": {},
   "outputs": [
    {
     "data": {
      "text/plain": [
       "ItemLists;\n",
       "\n",
       "Train: ImageList (709 items)\n",
       "Image (3, 28, 28),Image (3, 28, 28),Image (3, 28, 28),Image (3, 28, 28),Image (3, 28, 28)\n",
       "Path: C:\\Users\\Yang\\.fastai\\data\\mnist_tiny\\train;\n",
       "\n",
       "Valid: ImageList (699 items)\n",
       "Image (3, 28, 28),Image (3, 28, 28),Image (3, 28, 28),Image (3, 28, 28),Image (3, 28, 28)\n",
       "Path: C:\\Users\\Yang\\.fastai\\data\\mnist_tiny\\valid;\n",
       "\n",
       "Test: None"
      ]
     },
     "execution_count": 123,
     "metadata": {},
     "output_type": "execute_result"
    }
   ],
   "source": [
    "ils = ItemLists(path=path_data, train=il_train, valid=il_valid); ils"
   ]
  },
  {
   "cell_type": "code",
   "execution_count": 124,
   "metadata": {},
   "outputs": [
    {
     "data": {
      "text/plain": [
       "ItemLists;\n",
       "\n",
       "Train: ImageList (709 items)\n",
       "Image (3, 28, 28),Image (3, 28, 28),Image (3, 28, 28),Image (3, 28, 28),Image (3, 28, 28)\n",
       "Path: C:\\Users\\Yang\\.fastai\\data\\mnist_tiny\\train;\n",
       "\n",
       "Valid: ImageList (699 items)\n",
       "Image (3, 28, 28),Image (3, 28, 28),Image (3, 28, 28),Image (3, 28, 28),Image (3, 28, 28)\n",
       "Path: C:\\Users\\Yang\\.fastai\\data\\mnist_tiny\\valid;\n",
       "\n",
       "Test: ImageList (20 items)\n",
       "Image (3, 28, 28),Image (3, 28, 28),Image (3, 28, 28),Image (3, 28, 28),Image (3, 28, 28)\n",
       "Path: C:\\Users\\Yang\\.fastai\\data\\mnist_tiny\\test"
      ]
     },
     "execution_count": 124,
     "metadata": {},
     "output_type": "execute_result"
    }
   ],
   "source": [
    "ils.test = il_test; ils"
   ]
  },
  {
   "cell_type": "markdown",
   "metadata": {},
   "source": [
    "但是，我们很可能会看到一个ItemLists，就在大型ItemList被拆分并通过ItemList.split_by_folder等方法转换为ItemLists之后。 然后，我们将使用sd.label_from_folder（）（sd是ItemLists，参见下面的示例）为所有训练和验证添加标签。 现在，你们中的一些人可能会感到惊讶，因为label_from_folder是ItemList的一种方法，而不是ItemLists。 好吧，这是fastai data_block api的神奇之处。\n",
    "\n",
    "通过以下示例，我们可以通过使用ItemList.label_from_folder调用ItemLists .__ getattr__来更好地了解如何完成标记。"
   ]
  },
  {
   "cell_type": "code",
   "execution_count": 125,
   "metadata": {},
   "outputs": [
    {
     "data": {
      "text/plain": [
       "ImageList (1428 items)\n",
       "Image (3, 28, 28),Image (3, 28, 28),Image (3, 28, 28),Image (3, 28, 28),Image (3, 28, 28)\n",
       "Path: C:\\Users\\Yang\\.fastai\\data\\mnist_tiny"
      ]
     },
     "execution_count": 125,
     "metadata": {},
     "output_type": "execute_result"
    }
   ],
   "source": [
    "il = ImageList.from_folder(path_data); il"
   ]
  },
  {
   "cell_type": "markdown",
   "metadata": {},
   "source": [
    "在进行标注以成为LabelLists对象之前，ItemList或其子类对象必须执行拆分以将其自身转换为ItemLists。"
   ]
  },
  {
   "cell_type": "code",
   "execution_count": 126,
   "metadata": {},
   "outputs": [
    {
     "data": {
      "text/plain": [
       "ItemLists;\n",
       "\n",
       "Train: ImageList (709 items)\n",
       "Image (3, 28, 28),Image (3, 28, 28),Image (3, 28, 28),Image (3, 28, 28),Image (3, 28, 28)\n",
       "Path: C:\\Users\\Yang\\.fastai\\data\\mnist_tiny;\n",
       "\n",
       "Valid: ImageList (699 items)\n",
       "Image (3, 28, 28),Image (3, 28, 28),Image (3, 28, 28),Image (3, 28, 28),Image (3, 28, 28)\n",
       "Path: C:\\Users\\Yang\\.fastai\\data\\mnist_tiny;\n",
       "\n",
       "Test: None"
      ]
     },
     "execution_count": 126,
     "metadata": {},
     "output_type": "execute_result"
    }
   ],
   "source": [
    "sd = il.split_by_folder(train='train', valid='valid'); sd"
   ]
  },
  {
   "cell_type": "code",
   "execution_count": 127,
   "metadata": {},
   "outputs": [
    {
     "data": {
      "text/plain": [
       "LabelLists;\n",
       "\n",
       "Train: LabelList (709 items)\n",
       "x: ImageList\n",
       "Image (3, 28, 28),Image (3, 28, 28),Image (3, 28, 28),Image (3, 28, 28),Image (3, 28, 28)\n",
       "y: CategoryList\n",
       "3,3,3,3,3\n",
       "Path: C:\\Users\\Yang\\.fastai\\data\\mnist_tiny;\n",
       "\n",
       "Valid: LabelList (699 items)\n",
       "x: ImageList\n",
       "Image (3, 28, 28),Image (3, 28, 28),Image (3, 28, 28),Image (3, 28, 28),Image (3, 28, 28)\n",
       "y: CategoryList\n",
       "3,3,3,3,3\n",
       "Path: C:\\Users\\Yang\\.fastai\\data\\mnist_tiny;\n",
       "\n",
       "Test: None"
      ]
     },
     "execution_count": 127,
     "metadata": {},
     "output_type": "execute_result"
    }
   ],
   "source": [
    "ll = sd.label_from_folder(); ll"
   ]
  },
  {
   "cell_type": "markdown",
   "metadata": {},
   "source": [
    "即使只有一个不需要拆分的训练集文件夹中的ImageList，我们仍然必须使用split_none（）来创建一个ItemLists，然后才能很好地进行ItemLists.label_from_folder（）。"
   ]
  },
  {
   "cell_type": "code",
   "execution_count": 128,
   "metadata": {},
   "outputs": [
    {
     "data": {
      "text/plain": [
       "ItemLists;\n",
       "\n",
       "Train: ImageList (709 items)\n",
       "Image (3, 28, 28),Image (3, 28, 28),Image (3, 28, 28),Image (3, 28, 28),Image (3, 28, 28)\n",
       "Path: C:\\Users\\Yang\\.fastai\\data\\mnist_tiny\\train;\n",
       "\n",
       "Valid: ImageList (0 items)\n",
       "\n",
       "Path: C:\\Users\\Yang\\.fastai\\data\\mnist_tiny\\train;\n",
       "\n",
       "Test: None"
      ]
     },
     "execution_count": 128,
     "metadata": {},
     "output_type": "execute_result"
    }
   ],
   "source": [
    "il_train = ImageList.from_folder(path_data/'train')\n",
    "sd_train = il_train.split_none(); sd_train"
   ]
  },
  {
   "cell_type": "code",
   "execution_count": 129,
   "metadata": {},
   "outputs": [
    {
     "data": {
      "text/plain": [
       "LabelLists;\n",
       "\n",
       "Train: LabelList (709 items)\n",
       "x: ImageList\n",
       "Image (3, 28, 28),Image (3, 28, 28),Image (3, 28, 28),Image (3, 28, 28),Image (3, 28, 28)\n",
       "y: CategoryList\n",
       "3,3,3,3,3\n",
       "Path: C:\\Users\\Yang\\.fastai\\data\\mnist_tiny\\train;\n",
       "\n",
       "Valid: LabelList (0 items)\n",
       "x: ImageList\n",
       "\n",
       "y: CategoryList\n",
       "\n",
       "Path: C:\\Users\\Yang\\.fastai\\data\\mnist_tiny\\train;\n",
       "\n",
       "Test: None"
      ]
     },
     "execution_count": 129,
     "metadata": {},
     "output_type": "execute_result"
    }
   ],
   "source": [
    "ll_valid_empty = sd_train.label_from_folder(); ll_valid_empty"
   ]
  },
  {
   "cell_type": "markdown",
   "metadata": {},
   "source": [
    "如此实际，尽管label_from_folder不是ItemLists方法，但我们可以调用ItemLists.label_from_folder（）来标记训练，验证和测试ItemLists一次。\n",
    "\n",
    "在幕后，ItemLists.label_from_folder（）实际上调用了ItemLists .__ getattr __（'label_from_folder'），其中所有训练，验证甚至测试ItemList都调用label_from_folder，然后将ItemLists转换为LabelLists并最后调用LabelLists.process。\n",
    "\n",
    "您可以直接使用LabelLists .__ getattr__进行如下标记。"
   ]
  },
  {
   "cell_type": "code",
   "execution_count": 130,
   "metadata": {},
   "outputs": [
    {
     "data": {
      "text/plain": [
       "LabelLists;\n",
       "\n",
       "Train: LabelList (709 items)\n",
       "x: ImageList\n",
       "Image (3, 28, 28),Image (3, 28, 28),Image (3, 28, 28),Image (3, 28, 28),Image (3, 28, 28)\n",
       "y: CategoryList\n",
       "3,3,3,3,3\n",
       "Path: C:\\Users\\Yang\\.fastai\\data\\mnist_tiny;\n",
       "\n",
       "Valid: LabelList (699 items)\n",
       "x: ImageList\n",
       "Image (3, 28, 28),Image (3, 28, 28),Image (3, 28, 28),Image (3, 28, 28),Image (3, 28, 28)\n",
       "y: CategoryList\n",
       "3,3,3,3,3\n",
       "Path: C:\\Users\\Yang\\.fastai\\data\\mnist_tiny;\n",
       "\n",
       "Test: None"
      ]
     },
     "execution_count": 130,
     "metadata": {},
     "output_type": "execute_result"
    }
   ],
   "source": [
    "ld_inner = sd.__getattr__('label_from_folder'); ld_inner()"
   ]
  },
  {
   "cell_type": "markdown",
   "metadata": {},
   "source": [
    "<b>label_from_lists</b>\n",
    "\n",
    "`label_from_lists(train_labels:Iterator[T_co], valid_labels:Iterator[T_co], label_cls:Callable=None, **kwargs) → LabelList`\n",
    "\n",
    "使用train_labels和valid_labels中的标签标记数据。 label_cls将覆盖默认值。\n",
    "\n",
    "<b>transform</b>\n",
    "\n",
    "`transform(tfms:Optional[Tuple[Union[Callable, Collection[Callable]], Union[Callable, Collection[Callable]]]]=(None, None), **kwargs)`\n",
    "\n",
    "设置要应用于train和validation的xs的tfms。\n",
    "\n",
    "<b>transform_y</b>\n",
    "\n",
    "`transform_y(tfms:Optional[Tuple[Union[Callable, Collection[Callable]], Union[Callable, Collection[Callable]]]]=(None, None), **kwargs)`\n",
    "\n",
    "设置要应用于train和validation的ys的tfms。"
   ]
  },
  {
   "cell_type": "markdown",
   "metadata": {},
   "source": [
    "### class LabelLists\n",
    "\n",
    "`LabelLists(path:PathOrStr, train:ItemList, valid:ItemList) :: ItemLists`\n",
    "\n",
    "每个train和valid的LabelList（可选测试）。\n",
    "\n",
    "创建LabelLists对象与创建ItemLists对象的方式完全相同，因为它的基类是ItemLists，并且不会覆盖ItemLists .__ init__。 下面的示例显示了如何构建LabelLists对象。"
   ]
  },
  {
   "cell_type": "code",
   "execution_count": 132,
   "metadata": {},
   "outputs": [],
   "source": [
    "from fastai.vision import *"
   ]
  },
  {
   "cell_type": "code",
   "execution_count": 133,
   "metadata": {},
   "outputs": [
    {
     "data": {
      "text/plain": [
       "[WindowsPath('C:/Users/Yang/.fastai/data/mnist_tiny/labels.csv'),\n",
       " WindowsPath('C:/Users/Yang/.fastai/data/mnist_tiny/models'),\n",
       " WindowsPath('C:/Users/Yang/.fastai/data/mnist_tiny/test'),\n",
       " WindowsPath('C:/Users/Yang/.fastai/data/mnist_tiny/train'),\n",
       " WindowsPath('C:/Users/Yang/.fastai/data/mnist_tiny/valid')]"
      ]
     },
     "execution_count": 133,
     "metadata": {},
     "output_type": "execute_result"
    }
   ],
   "source": [
    "path_data = untar_data(URLs.MNIST_TINY); path_data.ls()"
   ]
  },
  {
   "cell_type": "code",
   "execution_count": 134,
   "metadata": {},
   "outputs": [],
   "source": [
    "il_train = ImageList.from_folder(path_data/'train')\n",
    "il_valid = ImageList.from_folder(path_data/'valid')"
   ]
  },
  {
   "cell_type": "code",
   "execution_count": 135,
   "metadata": {},
   "outputs": [
    {
     "data": {
      "text/plain": [
       "LabelLists;\n",
       "\n",
       "Train: ImageList (709 items)\n",
       "Image (3, 28, 28),Image (3, 28, 28),Image (3, 28, 28),Image (3, 28, 28),Image (3, 28, 28)\n",
       "Path: C:\\Users\\Yang\\.fastai\\data\\mnist_tiny\\train;\n",
       "\n",
       "Valid: ImageList (699 items)\n",
       "Image (3, 28, 28),Image (3, 28, 28),Image (3, 28, 28),Image (3, 28, 28),Image (3, 28, 28)\n",
       "Path: C:\\Users\\Yang\\.fastai\\data\\mnist_tiny\\valid;\n",
       "\n",
       "Test: ImageList (20 items)\n",
       "Image (3, 28, 28),Image (3, 28, 28),Image (3, 28, 28),Image (3, 28, 28),Image (3, 28, 28)\n",
       "Path: C:\\Users\\Yang\\.fastai\\data\\mnist_tiny\\test"
      ]
     },
     "execution_count": 135,
     "metadata": {},
     "output_type": "execute_result"
    }
   ],
   "source": [
    "ll_test = LabelLists(path_data, il_train, il_valid); \n",
    "ll_test.test = il_valid = ImageList.from_folder(path_data/'test')\n",
    "ll_test"
   ]
  },
  {
   "cell_type": "markdown",
   "metadata": {},
   "source": [
    "<b>get_processors</b>\n",
    "\n",
    "`get_processors()`\n",
    "\n",
    "如果没有设置，请读取默认的类处理器。\n",
    "\n",
    "在幕后，LabelLists.get_processors（）首先将train.x._processor类和train.y._processor类放入单独的列表中，然后实例化这些处理器并将它们放入xp和yp中。"
   ]
  },
  {
   "cell_type": "code",
   "execution_count": 136,
   "metadata": {},
   "outputs": [],
   "source": [
    "from fastai.vision import *"
   ]
  },
  {
   "cell_type": "code",
   "execution_count": 137,
   "metadata": {},
   "outputs": [],
   "source": [
    "path_data = untar_data(URLs.MNIST_TINY)\n",
    "sd = ImageList.from_folder(path_data).split_by_folder('train', 'valid')"
   ]
  },
  {
   "cell_type": "code",
   "execution_count": 138,
   "metadata": {},
   "outputs": [],
   "source": [
    "sd.train = sd.train.label_from_folder(from_item_lists=True)\n",
    "sd.valid = sd.valid.label_from_folder(from_item_lists=True)\n",
    "sd.__class__ = LabelLists"
   ]
  },
  {
   "cell_type": "code",
   "execution_count": 139,
   "metadata": {},
   "outputs": [
    {
     "data": {
      "text/plain": [
       "([], [<fastai.data_block.CategoryProcessor at 0x26a840ce5c0>])"
      ]
     },
     "execution_count": 139,
     "metadata": {},
     "output_type": "execute_result"
    }
   ],
   "source": [
    "xp,yp = sd.get_processors()\n",
    "xp,yp"
   ]
  },
  {
   "cell_type": "markdown",
   "metadata": {},
   "source": [
    "<b>load_empty</b>\n",
    "\n",
    "`load_empty(path:PathOrStr, fn:PathOrStr='export.pkl')`\n",
    "\n",
    "使用path / fn中序列化文件中的空集创建LabelLists。\n",
    "\n",
    "<b>load_state</b>\n",
    "\n",
    "`load_state(path:PathOrStr, state:dict)`\n",
    "\n",
    "使用序列化状态中的空集创建LabelLists。\n",
    "\n",
    "<b>process</b>\n",
    "\n",
    "`process()`\n",
    "\n",
    "处理内部数据集。"
   ]
  },
  {
   "cell_type": "code",
   "execution_count": 142,
   "metadata": {},
   "outputs": [],
   "source": [
    "doc(ItemList.process)"
   ]
  },
  {
   "cell_type": "markdown",
   "metadata": {},
   "source": [
    "<b>process</b>\n",
    "\n",
    "`process(processor:Union[PreProcessor, Collection[PreProcessor]]=None)`\n",
    "\n",
    "将处理器或self.processor应用于自己。\n",
    "\n",
    "processor是一个或多个PreProcessors对象\n",
    "在幕后，我们将所有处理器放入一个列表中，并将它们全部应用于ItemList或其子类的对象。"
   ]
  },
  {
   "cell_type": "markdown",
   "metadata": {},
   "source": [
    "## Helper functions\n",
    "\n",
    "<b>get_files</b>\n",
    "\n",
    "`get_files(path:PathOrStr, extensions:StrList=None, recurse:bool=False, include:OptStrList=None, presort:bool=False) → FilePathList`\n",
    "\n",
    "返回路径中具有后缀扩展名的文件列表; 可选择递归。\n",
    "\n",
    "更准确地说，此函数使用路径中必须具有扩展名后缀的文件返回FilePath对象列表，并忽略隐藏的文件夹和文件。 如果recurse = True，则将应用子文件夹中的所有文件; include用于选择要应用的特定文件夹。\n",
    "\n",
    "在get_files中，有_get_files，它将f中的所有文件名从目录parent / p转换为FilePath对象列表。 所有文件名的扩展名必须带有后缀。 所有隐藏文件都将被忽略。\n",
    "\n"
   ]
  },
  {
   "cell_type": "code",
   "execution_count": 143,
   "metadata": {},
   "outputs": [],
   "source": [
    "path_data = untar_data(URLs.MNIST_TINY) "
   ]
  },
  {
   "cell_type": "code",
   "execution_count": 144,
   "metadata": {},
   "outputs": [
    {
     "data": {
      "text/plain": [
       "[WindowsPath('C:/Users/Yang/.fastai/data/mnist_tiny/labels.csv'),\n",
       " WindowsPath('C:/Users/Yang/.fastai/data/mnist_tiny/models'),\n",
       " WindowsPath('C:/Users/Yang/.fastai/data/mnist_tiny/test'),\n",
       " WindowsPath('C:/Users/Yang/.fastai/data/mnist_tiny/train'),\n",
       " WindowsPath('C:/Users/Yang/.fastai/data/mnist_tiny/valid')]"
      ]
     },
     "execution_count": 144,
     "metadata": {},
     "output_type": "execute_result"
    }
   ],
   "source": [
    "path_data.ls()"
   ]
  },
  {
   "cell_type": "markdown",
   "metadata": {},
   "source": [
    "使用recurse = False，没有子文件夹文件可用。"
   ]
  },
  {
   "cell_type": "code",
   "execution_count": 145,
   "metadata": {},
   "outputs": [
    {
     "data": {
      "text/plain": [
       "[WindowsPath('C:/Users/Yang/.fastai/data/mnist_tiny/labels.csv')]"
      ]
     },
     "execution_count": 145,
     "metadata": {},
     "output_type": "execute_result"
    }
   ],
   "source": [
    "list_FilePath_noRecurse = get_files(path_data) \n",
    "list_FilePath_noRecurse"
   ]
  },
  {
   "cell_type": "markdown",
   "metadata": {},
   "source": [
    "使用recurse = True，除隐藏文件外，所有子文件夹文件都可用。"
   ]
  },
  {
   "cell_type": "code",
   "execution_count": 146,
   "metadata": {},
   "outputs": [
    {
     "data": {
      "text/plain": [
       "[WindowsPath('C:/Users/Yang/.fastai/data/mnist_tiny/labels.csv'),\n",
       " WindowsPath('C:/Users/Yang/.fastai/data/mnist_tiny/models/tmp.pth'),\n",
       " WindowsPath('C:/Users/Yang/.fastai/data/mnist_tiny/test/1503.png')]"
      ]
     },
     "execution_count": 146,
     "metadata": {},
     "output_type": "execute_result"
    }
   ],
   "source": [
    "list_FilePath_recurse = get_files(path_data, recurse=True)\n",
    "list_FilePath_recurse[:3]"
   ]
  },
  {
   "cell_type": "code",
   "execution_count": 147,
   "metadata": {},
   "outputs": [
    {
     "data": {
      "text/plain": [
       "[WindowsPath('C:/Users/Yang/.fastai/data/mnist_tiny/valid/7/9979.png'),\n",
       " WindowsPath('C:/Users/Yang/.fastai/data/mnist_tiny/valid/7/9990.png')]"
      ]
     },
     "execution_count": 147,
     "metadata": {},
     "output_type": "execute_result"
    }
   ],
   "source": [
    "list_FilePath_recurse[-2:]"
   ]
  },
  {
   "cell_type": "markdown",
   "metadata": {},
   "source": [
    "使用extensions = ['。csv']，只能使用后缀为.csv的文件。"
   ]
  },
  {
   "cell_type": "code",
   "execution_count": 148,
   "metadata": {},
   "outputs": [
    {
     "data": {
      "text/plain": [
       "[WindowsPath('C:/Users/Yang/.fastai/data/mnist_tiny/labels.csv')]"
      ]
     },
     "execution_count": 148,
     "metadata": {},
     "output_type": "execute_result"
    }
   ],
   "source": [
    "list_FilePath_recurse_csv = get_files(path_data, recurse=True, extensions=['.csv'])\n",
    "list_FilePath_recurse_csv"
   ]
  },
  {
   "cell_type": "markdown",
   "metadata": {},
   "source": [
    "使用include = ['test']，只有path_data及其子文件夹测试中的文件可用。"
   ]
  },
  {
   "cell_type": "code",
   "execution_count": 149,
   "metadata": {},
   "outputs": [
    {
     "data": {
      "text/plain": [
       "[WindowsPath('C:/Users/Yang/.fastai/data/mnist_tiny/test/1503.png'),\n",
       " WindowsPath('C:/Users/Yang/.fastai/data/mnist_tiny/test/1605.png'),\n",
       " WindowsPath('C:/Users/Yang/.fastai/data/mnist_tiny/test/1883.png')]"
      ]
     },
     "execution_count": 149,
     "metadata": {},
     "output_type": "execute_result"
    }
   ],
   "source": [
    "list_FilePath_include = get_files(path_data, recurse=True, extensions=['.png','.jpg','.jpeg'],\n",
    "                                  include=['test'])\n",
    "list_FilePath_include[:3]"
   ]
  },
  {
   "cell_type": "code",
   "execution_count": 150,
   "metadata": {},
   "outputs": [
    {
     "data": {
      "text/plain": [
       "[WindowsPath('C:/Users/Yang/.fastai/data/mnist_tiny/test/6501.png'),\n",
       " WindowsPath('C:/Users/Yang/.fastai/data/mnist_tiny/test/6517.png'),\n",
       " WindowsPath('C:/Users/Yang/.fastai/data/mnist_tiny/test/6736.png')]"
      ]
     },
     "execution_count": 150,
     "metadata": {},
     "output_type": "execute_result"
    }
   ],
   "source": [
    "list_FilePath_include[-3:]"
   ]
  },
  {
   "cell_type": "code",
   "execution_count": null,
   "metadata": {},
   "outputs": [],
   "source": []
  }
 ],
 "metadata": {
  "kernelspec": {
   "display_name": "Python 3",
   "language": "python",
   "name": "python3"
  },
  "language_info": {
   "codemirror_mode": {
    "name": "ipython",
    "version": 3
   },
   "file_extension": ".py",
   "mimetype": "text/x-python",
   "name": "python",
   "nbconvert_exporter": "python",
   "pygments_lexer": "ipython3",
   "version": "3.6.7"
  }
 },
 "nbformat": 4,
 "nbformat_minor": 2
}
